{
 "cells": [
  {
   "cell_type": "markdown",
   "metadata": {},
   "source": [
    "Importando librerías"
   ]
  },
  {
   "cell_type": "code",
   "execution_count": 2,
   "metadata": {},
   "outputs": [],
   "source": [
    "import pyodbc \n",
    "import pandas as pd\n",
    "import numpy as np"
   ]
  },
  {
   "cell_type": "markdown",
   "metadata": {},
   "source": [
    "Conectamos Python con SQL mediante ODBC para extraer la base de datos desde el servidor local."
   ]
  },
  {
   "cell_type": "code",
   "execution_count": 3,
   "metadata": {},
   "outputs": [],
   "source": [
    "cnxn2 = pyodbc.connect(\"Driver={SQL Server};\"\n",
    "                      \"Server=LAPTOP-SRBMTPNS;\"\n",
    "                      \"Database=Varios;\"\n",
    "                      \"Trusted_Connection=yes;\")"
   ]
  },
  {
   "cell_type": "markdown",
   "metadata": {},
   "source": [
    "Importando la tabla desde SQL"
   ]
  },
  {
   "cell_type": "code",
   "execution_count": 175,
   "metadata": {},
   "outputs": [],
   "source": [
    "SobrevidaPY = pd.read_sql_query('select * from SobrevidaUchilePyth', cnxn2)"
   ]
  },
  {
   "cell_type": "markdown",
   "metadata": {},
   "source": [
    "Descripción de la data."
   ]
  },
  {
   "cell_type": "code",
   "execution_count": 357,
   "metadata": {},
   "outputs": [
    {
     "data": {
      "text/plain": [
       "(500, 6)"
      ]
     },
     "execution_count": 357,
     "metadata": {},
     "output_type": "execute_result"
    }
   ],
   "source": [
    "SobrevidaPY.shape"
   ]
  },
  {
   "cell_type": "code",
   "execution_count": 129,
   "metadata": {},
   "outputs": [
    {
     "data": {
      "text/html": [
       "<div>\n",
       "<style scoped>\n",
       "    .dataframe tbody tr th:only-of-type {\n",
       "        vertical-align: middle;\n",
       "    }\n",
       "\n",
       "    .dataframe tbody tr th {\n",
       "        vertical-align: top;\n",
       "    }\n",
       "\n",
       "    .dataframe thead th {\n",
       "        text-align: right;\n",
       "    }\n",
       "</style>\n",
       "<table border=\"1\" class=\"dataframe\">\n",
       "  <thead>\n",
       "    <tr style=\"text-align: right;\">\n",
       "      <th></th>\n",
       "      <th>tiempo</th>\n",
       "      <th>censura</th>\n",
       "      <th>estadio</th>\n",
       "      <th>tabaco</th>\n",
       "      <th>alcohol</th>\n",
       "      <th>antec</th>\n",
       "    </tr>\n",
       "  </thead>\n",
       "  <tbody>\n",
       "    <tr>\n",
       "      <th>0</th>\n",
       "      <td>40.442436</td>\n",
       "      <td>0.0</td>\n",
       "      <td>0.0</td>\n",
       "      <td>0.0</td>\n",
       "      <td>1.0</td>\n",
       "      <td>1.0</td>\n",
       "    </tr>\n",
       "    <tr>\n",
       "      <th>1</th>\n",
       "      <td>39.938385</td>\n",
       "      <td>1.0</td>\n",
       "      <td>0.0</td>\n",
       "      <td>0.0</td>\n",
       "      <td>1.0</td>\n",
       "      <td>1.0</td>\n",
       "    </tr>\n",
       "    <tr>\n",
       "      <th>2</th>\n",
       "      <td>38.135082</td>\n",
       "      <td>1.0</td>\n",
       "      <td>0.0</td>\n",
       "      <td>0.0</td>\n",
       "      <td>1.0</td>\n",
       "      <td>1.0</td>\n",
       "    </tr>\n",
       "    <tr>\n",
       "      <th>3</th>\n",
       "      <td>35.773502</td>\n",
       "      <td>0.0</td>\n",
       "      <td>0.0</td>\n",
       "      <td>0.0</td>\n",
       "      <td>1.0</td>\n",
       "      <td>1.0</td>\n",
       "    </tr>\n",
       "    <tr>\n",
       "      <th>4</th>\n",
       "      <td>45.438084</td>\n",
       "      <td>1.0</td>\n",
       "      <td>0.0</td>\n",
       "      <td>0.0</td>\n",
       "      <td>1.0</td>\n",
       "      <td>1.0</td>\n",
       "    </tr>\n",
       "    <tr>\n",
       "      <th>...</th>\n",
       "      <td>...</td>\n",
       "      <td>...</td>\n",
       "      <td>...</td>\n",
       "      <td>...</td>\n",
       "      <td>...</td>\n",
       "      <td>...</td>\n",
       "    </tr>\n",
       "    <tr>\n",
       "      <th>95</th>\n",
       "      <td>38.486019</td>\n",
       "      <td>1.0</td>\n",
       "      <td>1.0</td>\n",
       "      <td>1.0</td>\n",
       "      <td>0.0</td>\n",
       "      <td>1.0</td>\n",
       "    </tr>\n",
       "    <tr>\n",
       "      <th>96</th>\n",
       "      <td>28.950283</td>\n",
       "      <td>0.0</td>\n",
       "      <td>1.0</td>\n",
       "      <td>1.0</td>\n",
       "      <td>0.0</td>\n",
       "      <td>1.0</td>\n",
       "    </tr>\n",
       "    <tr>\n",
       "      <th>97</th>\n",
       "      <td>45.458092</td>\n",
       "      <td>1.0</td>\n",
       "      <td>1.0</td>\n",
       "      <td>1.0</td>\n",
       "      <td>0.0</td>\n",
       "      <td>1.0</td>\n",
       "    </tr>\n",
       "    <tr>\n",
       "      <th>98</th>\n",
       "      <td>37.794460</td>\n",
       "      <td>1.0</td>\n",
       "      <td>1.0</td>\n",
       "      <td>1.0</td>\n",
       "      <td>0.0</td>\n",
       "      <td>1.0</td>\n",
       "    </tr>\n",
       "    <tr>\n",
       "      <th>99</th>\n",
       "      <td>31.400898</td>\n",
       "      <td>1.0</td>\n",
       "      <td>1.0</td>\n",
       "      <td>1.0</td>\n",
       "      <td>0.0</td>\n",
       "      <td>1.0</td>\n",
       "    </tr>\n",
       "  </tbody>\n",
       "</table>\n",
       "<p>100 rows × 6 columns</p>\n",
       "</div>"
      ],
      "text/plain": [
       "       tiempo  censura  estadio  tabaco  alcohol  antec\n",
       "0   40.442436      0.0      0.0     0.0      1.0    1.0\n",
       "1   39.938385      1.0      0.0     0.0      1.0    1.0\n",
       "2   38.135082      1.0      0.0     0.0      1.0    1.0\n",
       "3   35.773502      0.0      0.0     0.0      1.0    1.0\n",
       "4   45.438084      1.0      0.0     0.0      1.0    1.0\n",
       "..        ...      ...      ...     ...      ...    ...\n",
       "95  38.486019      1.0      1.0     1.0      0.0    1.0\n",
       "96  28.950283      0.0      1.0     1.0      0.0    1.0\n",
       "97  45.458092      1.0      1.0     1.0      0.0    1.0\n",
       "98  37.794460      1.0      1.0     1.0      0.0    1.0\n",
       "99  31.400898      1.0      1.0     1.0      0.0    1.0\n",
       "\n",
       "[100 rows x 6 columns]"
      ]
     },
     "execution_count": 129,
     "metadata": {},
     "output_type": "execute_result"
    }
   ],
   "source": [
    "SobrevidaPY.head(100)"
   ]
  },
  {
   "cell_type": "code",
   "execution_count": 130,
   "metadata": {},
   "outputs": [
    {
     "data": {
      "text/plain": [
       "tiempo     float64\n",
       "censura    float64\n",
       "estadio    float64\n",
       "tabaco     float64\n",
       "alcohol    float64\n",
       "antec      float64\n",
       "dtype: object"
      ]
     },
     "execution_count": 130,
     "metadata": {},
     "output_type": "execute_result"
    }
   ],
   "source": [
    "SobrevidaPY.dtypes"
   ]
  },
  {
   "cell_type": "markdown",
   "metadata": {},
   "source": [
    "Transformando cada variable en formato int64"
   ]
  },
  {
   "cell_type": "code",
   "execution_count": 176,
   "metadata": {},
   "outputs": [],
   "source": [
    "SobrevidaPY[\"tiempo\"]=SobrevidaPY[\"tiempo\"].astype('int64')\n",
    "SobrevidaPY[\"censura\"]=SobrevidaPY[\"censura\"].astype('int64')\n",
    "SobrevidaPY[\"estadio\"]=SobrevidaPY[\"estadio\"].astype('int64')\n",
    "SobrevidaPY[\"tabaco\"]=SobrevidaPY[\"tabaco\"].astype('int64')\n",
    "SobrevidaPY[\"alcohol\"]=SobrevidaPY[\"alcohol\"].astype('int64')\n",
    "SobrevidaPY[\"antec\"]=SobrevidaPY[\"antec\"].astype('int64')"
   ]
  },
  {
   "cell_type": "code",
   "execution_count": 177,
   "metadata": {},
   "outputs": [
    {
     "data": {
      "text/plain": [
       "tiempo     int64\n",
       "censura    int64\n",
       "estadio    int64\n",
       "tabaco     int64\n",
       "alcohol    int64\n",
       "antec      int64\n",
       "dtype: object"
      ]
     },
     "execution_count": 177,
     "metadata": {},
     "output_type": "execute_result"
    }
   ],
   "source": [
    "SobrevidaPY.dtypes"
   ]
  },
  {
   "cell_type": "markdown",
   "metadata": {},
   "source": [
    "Se observan 79 casos censurados."
   ]
  },
  {
   "cell_type": "code",
   "execution_count": 135,
   "metadata": {
    "scrolled": false
   },
   "outputs": [
    {
     "data": {
      "text/html": [
       "<div>\n",
       "<style scoped>\n",
       "    .dataframe tbody tr th:only-of-type {\n",
       "        vertical-align: middle;\n",
       "    }\n",
       "\n",
       "    .dataframe tbody tr th {\n",
       "        vertical-align: top;\n",
       "    }\n",
       "\n",
       "    .dataframe thead th {\n",
       "        text-align: right;\n",
       "    }\n",
       "</style>\n",
       "<table border=\"1\" class=\"dataframe\">\n",
       "  <thead>\n",
       "    <tr style=\"text-align: right;\">\n",
       "      <th></th>\n",
       "      <th>frequency</th>\n",
       "    </tr>\n",
       "    <tr>\n",
       "      <th>censura</th>\n",
       "      <th></th>\n",
       "    </tr>\n",
       "  </thead>\n",
       "  <tbody>\n",
       "    <tr>\n",
       "      <th>0</th>\n",
       "      <td>79</td>\n",
       "    </tr>\n",
       "    <tr>\n",
       "      <th>1</th>\n",
       "      <td>421</td>\n",
       "    </tr>\n",
       "  </tbody>\n",
       "</table>\n",
       "</div>"
      ],
      "text/plain": [
       "         frequency\n",
       "censura           \n",
       "0               79\n",
       "1              421"
      ]
     },
     "execution_count": 135,
     "metadata": {},
     "output_type": "execute_result"
    }
   ],
   "source": [
    "SobrevidaPY.groupby(\"censura\").agg(frequency=(\"censura\", \"count\"))"
   ]
  },
  {
   "cell_type": "markdown",
   "metadata": {},
   "source": [
    "Se observar 3 estadíos de la enfermedad siendo el más frecuente el tercer estadío y el menos frecuente el primero, lo que hace suponer que en su mayoría son enfermos terminales."
   ]
  },
  {
   "cell_type": "code",
   "execution_count": 136,
   "metadata": {
    "scrolled": true
   },
   "outputs": [
    {
     "data": {
      "text/html": [
       "<div>\n",
       "<style scoped>\n",
       "    .dataframe tbody tr th:only-of-type {\n",
       "        vertical-align: middle;\n",
       "    }\n",
       "\n",
       "    .dataframe tbody tr th {\n",
       "        vertical-align: top;\n",
       "    }\n",
       "\n",
       "    .dataframe thead th {\n",
       "        text-align: right;\n",
       "    }\n",
       "</style>\n",
       "<table border=\"1\" class=\"dataframe\">\n",
       "  <thead>\n",
       "    <tr style=\"text-align: right;\">\n",
       "      <th></th>\n",
       "      <th>frequency</th>\n",
       "    </tr>\n",
       "    <tr>\n",
       "      <th>estadio</th>\n",
       "      <th></th>\n",
       "    </tr>\n",
       "  </thead>\n",
       "  <tbody>\n",
       "    <tr>\n",
       "      <th>0</th>\n",
       "      <td>27</td>\n",
       "    </tr>\n",
       "    <tr>\n",
       "      <th>1</th>\n",
       "      <td>200</td>\n",
       "    </tr>\n",
       "    <tr>\n",
       "      <th>2</th>\n",
       "      <td>273</td>\n",
       "    </tr>\n",
       "  </tbody>\n",
       "</table>\n",
       "</div>"
      ],
      "text/plain": [
       "         frequency\n",
       "estadio           \n",
       "0               27\n",
       "1              200\n",
       "2              273"
      ]
     },
     "execution_count": 136,
     "metadata": {},
     "output_type": "execute_result"
    }
   ],
   "source": [
    "SobrevidaPY.groupby(\"estadio\").agg(frequency=(\"estadio\", \"count\"))"
   ]
  },
  {
   "cell_type": "markdown",
   "metadata": {},
   "source": [
    "Con respecto al hábito del tabaco se observa mucho desbalance, siendo en su gran mayoría fumadores."
   ]
  },
  {
   "cell_type": "code",
   "execution_count": 137,
   "metadata": {
    "scrolled": false
   },
   "outputs": [
    {
     "data": {
      "text/html": [
       "<div>\n",
       "<style scoped>\n",
       "    .dataframe tbody tr th:only-of-type {\n",
       "        vertical-align: middle;\n",
       "    }\n",
       "\n",
       "    .dataframe tbody tr th {\n",
       "        vertical-align: top;\n",
       "    }\n",
       "\n",
       "    .dataframe thead th {\n",
       "        text-align: right;\n",
       "    }\n",
       "</style>\n",
       "<table border=\"1\" class=\"dataframe\">\n",
       "  <thead>\n",
       "    <tr style=\"text-align: right;\">\n",
       "      <th></th>\n",
       "      <th>frequency</th>\n",
       "    </tr>\n",
       "    <tr>\n",
       "      <th>tabaco</th>\n",
       "      <th></th>\n",
       "    </tr>\n",
       "  </thead>\n",
       "  <tbody>\n",
       "    <tr>\n",
       "      <th>0</th>\n",
       "      <td>64</td>\n",
       "    </tr>\n",
       "    <tr>\n",
       "      <th>1</th>\n",
       "      <td>436</td>\n",
       "    </tr>\n",
       "  </tbody>\n",
       "</table>\n",
       "</div>"
      ],
      "text/plain": [
       "        frequency\n",
       "tabaco           \n",
       "0              64\n",
       "1             436"
      ]
     },
     "execution_count": 137,
     "metadata": {},
     "output_type": "execute_result"
    }
   ],
   "source": [
    "SobrevidaPY.groupby(\"tabaco\").agg(frequency=(\"tabaco\", \"count\"))"
   ]
  },
  {
   "cell_type": "markdown",
   "metadata": {},
   "source": [
    "Con respecto al consumo de alcohol también se observa mucho desbalance observándose mayoritariamente una muestra de la población que no es bebedora.\n"
   ]
  },
  {
   "cell_type": "code",
   "execution_count": 138,
   "metadata": {
    "scrolled": false
   },
   "outputs": [
    {
     "data": {
      "text/html": [
       "<div>\n",
       "<style scoped>\n",
       "    .dataframe tbody tr th:only-of-type {\n",
       "        vertical-align: middle;\n",
       "    }\n",
       "\n",
       "    .dataframe tbody tr th {\n",
       "        vertical-align: top;\n",
       "    }\n",
       "\n",
       "    .dataframe thead th {\n",
       "        text-align: right;\n",
       "    }\n",
       "</style>\n",
       "<table border=\"1\" class=\"dataframe\">\n",
       "  <thead>\n",
       "    <tr style=\"text-align: right;\">\n",
       "      <th></th>\n",
       "      <th>frequency</th>\n",
       "    </tr>\n",
       "    <tr>\n",
       "      <th>alcohol</th>\n",
       "      <th></th>\n",
       "    </tr>\n",
       "  </thead>\n",
       "  <tbody>\n",
       "    <tr>\n",
       "      <th>0</th>\n",
       "      <td>473</td>\n",
       "    </tr>\n",
       "    <tr>\n",
       "      <th>1</th>\n",
       "      <td>27</td>\n",
       "    </tr>\n",
       "  </tbody>\n",
       "</table>\n",
       "</div>"
      ],
      "text/plain": [
       "         frequency\n",
       "alcohol           \n",
       "0              473\n",
       "1               27"
      ]
     },
     "execution_count": 138,
     "metadata": {},
     "output_type": "execute_result"
    }
   ],
   "source": [
    "SobrevidaPY.groupby(\"alcohol\").agg(frequency=(\"alcohol\", \"count\"))"
   ]
  },
  {
   "cell_type": "markdown",
   "metadata": {},
   "source": [
    "El 70% de los pacientes poseen antecedentes familiares de la enfermedad.\n"
   ]
  },
  {
   "cell_type": "code",
   "execution_count": 139,
   "metadata": {
    "scrolled": true
   },
   "outputs": [
    {
     "data": {
      "text/html": [
       "<div>\n",
       "<style scoped>\n",
       "    .dataframe tbody tr th:only-of-type {\n",
       "        vertical-align: middle;\n",
       "    }\n",
       "\n",
       "    .dataframe tbody tr th {\n",
       "        vertical-align: top;\n",
       "    }\n",
       "\n",
       "    .dataframe thead th {\n",
       "        text-align: right;\n",
       "    }\n",
       "</style>\n",
       "<table border=\"1\" class=\"dataframe\">\n",
       "  <thead>\n",
       "    <tr style=\"text-align: right;\">\n",
       "      <th></th>\n",
       "      <th>frequency</th>\n",
       "    </tr>\n",
       "    <tr>\n",
       "      <th>antec</th>\n",
       "      <th></th>\n",
       "    </tr>\n",
       "  </thead>\n",
       "  <tbody>\n",
       "    <tr>\n",
       "      <th>0</th>\n",
       "      <td>151</td>\n",
       "    </tr>\n",
       "    <tr>\n",
       "      <th>1</th>\n",
       "      <td>349</td>\n",
       "    </tr>\n",
       "  </tbody>\n",
       "</table>\n",
       "</div>"
      ],
      "text/plain": [
       "       frequency\n",
       "antec           \n",
       "0            151\n",
       "1            349"
      ]
     },
     "execution_count": 139,
     "metadata": {},
     "output_type": "execute_result"
    }
   ],
   "source": [
    "SobrevidaPY.groupby(\"antec\").agg(frequency=(\"antec\", \"count\"))"
   ]
  },
  {
   "cell_type": "markdown",
   "metadata": {},
   "source": [
    "Importando Kaplan Meier desde Lifelines"
   ]
  },
  {
   "cell_type": "code",
   "execution_count": 17,
   "metadata": {},
   "outputs": [],
   "source": [
    "from lifelines import KaplanMeierFitter"
   ]
  },
  {
   "cell_type": "markdown",
   "metadata": {},
   "source": [
    "Al ensayar la sobrevida de Kaplan-Meier observamos que el resultado es el mismo observado en Stata y R, es decir, el 50% de los pacientes aún estaba vivo a los 37 meses (percentil 50)"
   ]
  },
  {
   "cell_type": "code",
   "execution_count": 140,
   "metadata": {},
   "outputs": [],
   "source": [
    "kmf=KaplanMeierFitter() "
   ]
  },
  {
   "cell_type": "markdown",
   "metadata": {},
   "source": [
    "Creando los objetos Tiempo y Censura"
   ]
  },
  {
   "cell_type": "code",
   "execution_count": 141,
   "metadata": {},
   "outputs": [],
   "source": [
    "T=SobrevidaPY['tiempo']\n",
    "C=SobrevidaPY['censura']"
   ]
  },
  {
   "cell_type": "markdown",
   "metadata": {},
   "source": [
    "Entrenando el modelo"
   ]
  },
  {
   "cell_type": "code",
   "execution_count": 142,
   "metadata": {},
   "outputs": [
    {
     "data": {
      "text/plain": [
       "<lifelines.KaplanMeierFitter:\"KM_estimate\", fitted with 500 total observations, 79 right-censored observations>"
      ]
     },
     "execution_count": 142,
     "metadata": {},
     "output_type": "execute_result"
    }
   ],
   "source": [
    "kmf.fit(T,C)"
   ]
  },
  {
   "cell_type": "markdown",
   "metadata": {},
   "source": [
    "Obtenemos y graficamos la función de sobrevida"
   ]
  },
  {
   "cell_type": "code",
   "execution_count": 143,
   "metadata": {},
   "outputs": [
    {
     "data": {
      "text/plain": [
       "<matplotlib.axes._subplots.AxesSubplot at 0x1b7eda1f5c8>"
      ]
     },
     "execution_count": 143,
     "metadata": {},
     "output_type": "execute_result"
    },
    {
     "data": {
      "image/png": "[encoded data removed]",
      "text/plain": [
       "<Figure size 576x288 with 1 Axes>"
      ]
     },
     "metadata": {
      "needs_background": "light"
     },
     "output_type": "display_data"
    }
   ],
   "source": [
    "S=kmf.survival_function_\n",
    "S.plot()"
   ]
  },
  {
   "cell_type": "markdown",
   "metadata": {},
   "source": [
    "Obtenemos y graficamos la función de sobrevida acumulada (Nelson-Aalen)\n"
   ]
  },
  {
   "cell_type": "code",
   "execution_count": 58,
   "metadata": {
    "scrolled": true
   },
   "outputs": [
    {
     "data": {
      "text/plain": [
       "<matplotlib.axes._subplots.AxesSubplot at 0x1b7ebb62148>"
      ]
     },
     "execution_count": 58,
     "metadata": {},
     "output_type": "execute_result"
    },
    {
     "data": {
      "image/png": "[encoded data removed]",
      "text/plain": [
       "<Figure size 576x288 with 1 Axes>"
      ]
     },
     "metadata": {
      "needs_background": "light"
     },
     "output_type": "display_data"
    }
   ],
   "source": [
    "Cum=kmf.cumulative_density_\n",
    "Cum.plot()"
   ]
  },
  {
   "cell_type": "markdown",
   "metadata": {},
   "source": [
    "Al observar los percentiles notaremos que a los 33 meses estaba vivo el 75% de los pacientes. La lógica acumulativa de los percentiles es inversa a la de R."
   ]
  },
  {
   "cell_type": "code",
   "execution_count": 23,
   "metadata": {},
   "outputs": [
    {
     "data": {
      "text/plain": [
       "41.0"
      ]
     },
     "execution_count": 23,
     "metadata": {},
     "output_type": "execute_result"
    }
   ],
   "source": [
    "kmf.percentile(0.25)"
   ]
  },
  {
   "cell_type": "code",
   "execution_count": 24,
   "metadata": {},
   "outputs": [
    {
     "data": {
      "text/plain": [
       "37.0"
      ]
     },
     "execution_count": 24,
     "metadata": {},
     "output_type": "execute_result"
    }
   ],
   "source": [
    "kmf.percentile(0.5)"
   ]
  },
  {
   "cell_type": "code",
   "execution_count": 25,
   "metadata": {},
   "outputs": [
    {
     "data": {
      "text/plain": [
       "33.0"
      ]
     },
     "execution_count": 25,
     "metadata": {},
     "output_type": "execute_result"
    }
   ],
   "source": [
    "kmf.percentile(0.75)"
   ]
  },
  {
   "cell_type": "markdown",
   "metadata": {},
   "source": [
    "Gráfico de la sobrevida con intervalos de confianza"
   ]
  },
  {
   "cell_type": "code",
   "execution_count": 26,
   "metadata": {},
   "outputs": [
    {
     "name": "stdout",
     "output_type": "stream",
     "text": [
      "Populating the interactive namespace from numpy and matplotlib\n"
     ]
    },
    {
     "data": {
      "text/plain": [
       "<matplotlib.axes._subplots.AxesSubplot at 0x1b7e9b00408>"
      ]
     },
     "execution_count": 26,
     "metadata": {},
     "output_type": "execute_result"
    },
    {
     "data": {
      "image/png": "[encoded data removed]",
      "text/plain": [
       "<Figure size 576x288 with 1 Axes>"
      ]
     },
     "metadata": {
      "needs_background": "light"
     },
     "output_type": "display_data"
    }
   ],
   "source": [
    "%pylab inline\n",
    "figsize(8,4)\n",
    "kmf.plot()"
   ]
  },
  {
   "cell_type": "markdown",
   "metadata": {},
   "source": [
    "Gráfico de la sobrevida acumulada con intervalos de confianza"
   ]
  },
  {
   "cell_type": "code",
   "execution_count": 27,
   "metadata": {
    "scrolled": true
   },
   "outputs": [
    {
     "data": {
      "text/plain": [
       "<matplotlib.axes._subplots.AxesSubplot at 0x1b7e9b96088>"
      ]
     },
     "execution_count": 27,
     "metadata": {},
     "output_type": "execute_result"
    },
    {
     "data": {
      "image/png": "[encoded data removed]",
      "text/plain": [
       "<Figure size 576x288 with 1 Axes>"
      ]
     },
     "metadata": {
      "needs_background": "light"
     },
     "output_type": "display_data"
    }
   ],
   "source": [
    "from lifelines import NelsonAalenFitter\n",
    "naf = NelsonAalenFitter()\n",
    "naf.fit(T, event_observed=C)\n",
    "naf.plot()"
   ]
  },
  {
   "cell_type": "markdown",
   "metadata": {},
   "source": [
    "Analizaremos las curvas de sobrevida en cada grupo de cada covariable y aplicaremos la dócima de Log Rank para evaluar la existencia de diferencias significativas entre grupos. A diferencia de lo realizado en R, en python realizaremos el modelo de Cox en términos multivariados para evaluar el supuesto de los riesgos proporcionales.\n"
   ]
  },
  {
   "cell_type": "markdown",
   "metadata": {},
   "source": [
    "Antes de esto, y dado que la covariable estadío de la enfermedad es una variable categórica de tres niveles, es necesario crear variables dummy."
   ]
  },
  {
   "cell_type": "code",
   "execution_count": 178,
   "metadata": {},
   "outputs": [
    {
     "data": {
      "text/html": [
       "<div>\n",
       "<style scoped>\n",
       "    .dataframe tbody tr th:only-of-type {\n",
       "        vertical-align: middle;\n",
       "    }\n",
       "\n",
       "    .dataframe tbody tr th {\n",
       "        vertical-align: top;\n",
       "    }\n",
       "\n",
       "    .dataframe thead th {\n",
       "        text-align: right;\n",
       "    }\n",
       "</style>\n",
       "<table border=\"1\" class=\"dataframe\">\n",
       "  <thead>\n",
       "    <tr style=\"text-align: right;\">\n",
       "      <th></th>\n",
       "      <th>estadio_0</th>\n",
       "      <th>estadio_1</th>\n",
       "      <th>estadio_2</th>\n",
       "    </tr>\n",
       "  </thead>\n",
       "  <tbody>\n",
       "    <tr>\n",
       "      <th>0</th>\n",
       "      <td>1</td>\n",
       "      <td>0</td>\n",
       "      <td>0</td>\n",
       "    </tr>\n",
       "    <tr>\n",
       "      <th>1</th>\n",
       "      <td>1</td>\n",
       "      <td>0</td>\n",
       "      <td>0</td>\n",
       "    </tr>\n",
       "    <tr>\n",
       "      <th>2</th>\n",
       "      <td>1</td>\n",
       "      <td>0</td>\n",
       "      <td>0</td>\n",
       "    </tr>\n",
       "    <tr>\n",
       "      <th>3</th>\n",
       "      <td>1</td>\n",
       "      <td>0</td>\n",
       "      <td>0</td>\n",
       "    </tr>\n",
       "    <tr>\n",
       "      <th>4</th>\n",
       "      <td>1</td>\n",
       "      <td>0</td>\n",
       "      <td>0</td>\n",
       "    </tr>\n",
       "    <tr>\n",
       "      <th>...</th>\n",
       "      <td>...</td>\n",
       "      <td>...</td>\n",
       "      <td>...</td>\n",
       "    </tr>\n",
       "    <tr>\n",
       "      <th>495</th>\n",
       "      <td>0</td>\n",
       "      <td>0</td>\n",
       "      <td>1</td>\n",
       "    </tr>\n",
       "    <tr>\n",
       "      <th>496</th>\n",
       "      <td>0</td>\n",
       "      <td>0</td>\n",
       "      <td>1</td>\n",
       "    </tr>\n",
       "    <tr>\n",
       "      <th>497</th>\n",
       "      <td>0</td>\n",
       "      <td>0</td>\n",
       "      <td>1</td>\n",
       "    </tr>\n",
       "    <tr>\n",
       "      <th>498</th>\n",
       "      <td>0</td>\n",
       "      <td>0</td>\n",
       "      <td>1</td>\n",
       "    </tr>\n",
       "    <tr>\n",
       "      <th>499</th>\n",
       "      <td>0</td>\n",
       "      <td>0</td>\n",
       "      <td>1</td>\n",
       "    </tr>\n",
       "  </tbody>\n",
       "</table>\n",
       "<p>500 rows × 3 columns</p>\n",
       "</div>"
      ],
      "text/plain": [
       "     estadio_0  estadio_1  estadio_2\n",
       "0            1          0          0\n",
       "1            1          0          0\n",
       "2            1          0          0\n",
       "3            1          0          0\n",
       "4            1          0          0\n",
       "..         ...        ...        ...\n",
       "495          0          0          1\n",
       "496          0          0          1\n",
       "497          0          0          1\n",
       "498          0          0          1\n",
       "499          0          0          1\n",
       "\n",
       "[500 rows x 3 columns]"
      ]
     },
     "execution_count": 178,
     "metadata": {},
     "output_type": "execute_result"
    }
   ],
   "source": [
    "dummies = pd.get_dummies(SobrevidaPY['estadio']).rename(columns=lambda x: 'estadio_' + str(x))\n",
    "dummies"
   ]
  },
  {
   "cell_type": "code",
   "execution_count": 436,
   "metadata": {},
   "outputs": [
    {
     "data": {
      "text/html": [
       "<div>\n",
       "<style scoped>\n",
       "    .dataframe tbody tr th:only-of-type {\n",
       "        vertical-align: middle;\n",
       "    }\n",
       "\n",
       "    .dataframe tbody tr th {\n",
       "        vertical-align: top;\n",
       "    }\n",
       "\n",
       "    .dataframe thead th {\n",
       "        text-align: right;\n",
       "    }\n",
       "</style>\n",
       "<table border=\"1\" class=\"dataframe\">\n",
       "  <thead>\n",
       "    <tr style=\"text-align: right;\">\n",
       "      <th></th>\n",
       "      <th>tiempo</th>\n",
       "      <th>censura</th>\n",
       "      <th>estadio</th>\n",
       "      <th>tabaco</th>\n",
       "      <th>alcohol</th>\n",
       "      <th>antec</th>\n",
       "      <th>estadio_0</th>\n",
       "      <th>estadio_1</th>\n",
       "      <th>estadio_2</th>\n",
       "    </tr>\n",
       "  </thead>\n",
       "  <tbody>\n",
       "    <tr>\n",
       "      <th>0</th>\n",
       "      <td>40</td>\n",
       "      <td>0</td>\n",
       "      <td>0</td>\n",
       "      <td>0</td>\n",
       "      <td>1</td>\n",
       "      <td>1</td>\n",
       "      <td>1</td>\n",
       "      <td>0</td>\n",
       "      <td>0</td>\n",
       "    </tr>\n",
       "    <tr>\n",
       "      <th>1</th>\n",
       "      <td>39</td>\n",
       "      <td>1</td>\n",
       "      <td>0</td>\n",
       "      <td>0</td>\n",
       "      <td>1</td>\n",
       "      <td>1</td>\n",
       "      <td>1</td>\n",
       "      <td>0</td>\n",
       "      <td>0</td>\n",
       "    </tr>\n",
       "    <tr>\n",
       "      <th>2</th>\n",
       "      <td>38</td>\n",
       "      <td>1</td>\n",
       "      <td>0</td>\n",
       "      <td>0</td>\n",
       "      <td>1</td>\n",
       "      <td>1</td>\n",
       "      <td>1</td>\n",
       "      <td>0</td>\n",
       "      <td>0</td>\n",
       "    </tr>\n",
       "    <tr>\n",
       "      <th>3</th>\n",
       "      <td>35</td>\n",
       "      <td>0</td>\n",
       "      <td>0</td>\n",
       "      <td>0</td>\n",
       "      <td>1</td>\n",
       "      <td>1</td>\n",
       "      <td>1</td>\n",
       "      <td>0</td>\n",
       "      <td>0</td>\n",
       "    </tr>\n",
       "    <tr>\n",
       "      <th>4</th>\n",
       "      <td>45</td>\n",
       "      <td>1</td>\n",
       "      <td>0</td>\n",
       "      <td>0</td>\n",
       "      <td>1</td>\n",
       "      <td>1</td>\n",
       "      <td>1</td>\n",
       "      <td>0</td>\n",
       "      <td>0</td>\n",
       "    </tr>\n",
       "    <tr>\n",
       "      <th>...</th>\n",
       "      <td>...</td>\n",
       "      <td>...</td>\n",
       "      <td>...</td>\n",
       "      <td>...</td>\n",
       "      <td>...</td>\n",
       "      <td>...</td>\n",
       "      <td>...</td>\n",
       "      <td>...</td>\n",
       "      <td>...</td>\n",
       "    </tr>\n",
       "    <tr>\n",
       "      <th>495</th>\n",
       "      <td>39</td>\n",
       "      <td>1</td>\n",
       "      <td>2</td>\n",
       "      <td>1</td>\n",
       "      <td>0</td>\n",
       "      <td>0</td>\n",
       "      <td>0</td>\n",
       "      <td>0</td>\n",
       "      <td>1</td>\n",
       "    </tr>\n",
       "    <tr>\n",
       "      <th>496</th>\n",
       "      <td>34</td>\n",
       "      <td>1</td>\n",
       "      <td>2</td>\n",
       "      <td>1</td>\n",
       "      <td>0</td>\n",
       "      <td>1</td>\n",
       "      <td>0</td>\n",
       "      <td>0</td>\n",
       "      <td>1</td>\n",
       "    </tr>\n",
       "    <tr>\n",
       "      <th>497</th>\n",
       "      <td>39</td>\n",
       "      <td>1</td>\n",
       "      <td>2</td>\n",
       "      <td>1</td>\n",
       "      <td>0</td>\n",
       "      <td>0</td>\n",
       "      <td>0</td>\n",
       "      <td>0</td>\n",
       "      <td>1</td>\n",
       "    </tr>\n",
       "    <tr>\n",
       "      <th>498</th>\n",
       "      <td>31</td>\n",
       "      <td>0</td>\n",
       "      <td>2</td>\n",
       "      <td>1</td>\n",
       "      <td>0</td>\n",
       "      <td>0</td>\n",
       "      <td>0</td>\n",
       "      <td>0</td>\n",
       "      <td>1</td>\n",
       "    </tr>\n",
       "    <tr>\n",
       "      <th>499</th>\n",
       "      <td>40</td>\n",
       "      <td>1</td>\n",
       "      <td>2</td>\n",
       "      <td>1</td>\n",
       "      <td>0</td>\n",
       "      <td>1</td>\n",
       "      <td>0</td>\n",
       "      <td>0</td>\n",
       "      <td>1</td>\n",
       "    </tr>\n",
       "  </tbody>\n",
       "</table>\n",
       "<p>500 rows × 9 columns</p>\n",
       "</div>"
      ],
      "text/latex": [
       "\\begin{tabular}{lrrrrrrrrr}\n",
       "\\toprule\n",
       "{} &  tiempo &  censura &  estadio &  tabaco &  alcohol &  antec &  estadio\\_0 &  estadio\\_1 &  estadio\\_2 \\\\\n",
       "\\midrule\n",
       "0   &      40 &        0 &        0 &       0 &        1 &      1 &          1 &          0 &          0 \\\\\n",
       "1   &      39 &        1 &        0 &       0 &        1 &      1 &          1 &          0 &          0 \\\\\n",
       "2   &      38 &        1 &        0 &       0 &        1 &      1 &          1 &          0 &          0 \\\\\n",
       "3   &      35 &        0 &        0 &       0 &        1 &      1 &          1 &          0 &          0 \\\\\n",
       "4   &      45 &        1 &        0 &       0 &        1 &      1 &          1 &          0 &          0 \\\\\n",
       "5   &      31 &        0 &        0 &       0 &        1 &      1 &          1 &          0 &          0 \\\\\n",
       "6   &      36 &        1 &        0 &       0 &        1 &      1 &          1 &          0 &          0 \\\\\n",
       "7   &      39 &        1 &        0 &       0 &        1 &      1 &          1 &          0 &          0 \\\\\n",
       "8   &      32 &        1 &        0 &       0 &        1 &      1 &          1 &          0 &          0 \\\\\n",
       "9   &      40 &        1 &        0 &       0 &        1 &      1 &          1 &          0 &          0 \\\\\n",
       "10  &      30 &        1 &        0 &       0 &        1 &      1 &          1 &          0 &          0 \\\\\n",
       "11  &      33 &        1 &        0 &       0 &        1 &      1 &          1 &          0 &          0 \\\\\n",
       "12  &      33 &        1 &        0 &       0 &        1 &      1 &          1 &          0 &          0 \\\\\n",
       "13  &      34 &        1 &        0 &       0 &        1 &      1 &          1 &          0 &          0 \\\\\n",
       "14  &      37 &        0 &        0 &       0 &        1 &      1 &          1 &          0 &          0 \\\\\n",
       "15  &      36 &        0 &        0 &       0 &        1 &      1 &          1 &          0 &          0 \\\\\n",
       "16  &      44 &        0 &        0 &       0 &        1 &      1 &          1 &          0 &          0 \\\\\n",
       "17  &      37 &        1 &        0 &       0 &        1 &      1 &          1 &          0 &          0 \\\\\n",
       "18  &      31 &        1 &        0 &       0 &        1 &      1 &          1 &          0 &          0 \\\\\n",
       "19  &      28 &        1 &        0 &       0 &        1 &      1 &          1 &          0 &          0 \\\\\n",
       "20  &      31 &        1 &        0 &       0 &        1 &      1 &          1 &          0 &          0 \\\\\n",
       "21  &      37 &        0 &        0 &       0 &        1 &      1 &          1 &          0 &          0 \\\\\n",
       "22  &      44 &        0 &        0 &       0 &        1 &      1 &          1 &          0 &          0 \\\\\n",
       "23  &      46 &        1 &        0 &       0 &        1 &      1 &          1 &          0 &          0 \\\\\n",
       "24  &      39 &        1 &        0 &       0 &        1 &      1 &          1 &          0 &          0 \\\\\n",
       "25  &      53 &        1 &        0 &       0 &        1 &      1 &          1 &          0 &          0 \\\\\n",
       "26  &      37 &        0 &        0 &       0 &        1 &      1 &          1 &          0 &          0 \\\\\n",
       "27  &      26 &        1 &        1 &       1 &        0 &      1 &          0 &          1 &          0 \\\\\n",
       "28  &      35 &        1 &        1 &       0 &        0 &      1 &          0 &          1 &          0 \\\\\n",
       "29  &      41 &        1 &        1 &       1 &        0 &      1 &          0 &          1 &          0 \\\\\n",
       "30  &      33 &        1 &        1 &       1 &        0 &      1 &          0 &          1 &          0 \\\\\n",
       "31  &      32 &        1 &        1 &       1 &        0 &      1 &          0 &          1 &          0 \\\\\n",
       "32  &      26 &        1 &        1 &       1 &        0 &      1 &          0 &          1 &          0 \\\\\n",
       "33  &      33 &        1 &        1 &       0 &        0 &      1 &          0 &          1 &          0 \\\\\n",
       "34  &      30 &        1 &        1 &       1 &        0 &      1 &          0 &          1 &          0 \\\\\n",
       "35  &      46 &        1 &        1 &       1 &        0 &      1 &          0 &          1 &          0 \\\\\n",
       "36  &      37 &        0 &        1 &       1 &        0 &      1 &          0 &          1 &          0 \\\\\n",
       "37  &      37 &        1 &        1 &       1 &        0 &      1 &          0 &          1 &          0 \\\\\n",
       "38  &      40 &        1 &        1 &       0 &        0 &      1 &          0 &          1 &          0 \\\\\n",
       "39  &      39 &        0 &        1 &       1 &        0 &      1 &          0 &          1 &          0 \\\\\n",
       "40  &      34 &        1 &        1 &       1 &        0 &      1 &          0 &          1 &          0 \\\\\n",
       "41  &      43 &        1 &        1 &       1 &        0 &      1 &          0 &          1 &          0 \\\\\n",
       "42  &      29 &        0 &        1 &       1 &        0 &      1 &          0 &          1 &          0 \\\\\n",
       "43  &      42 &        1 &        1 &       0 &        0 &      1 &          0 &          1 &          0 \\\\\n",
       "44  &      36 &        1 &        1 &       0 &        0 &      1 &          0 &          1 &          0 \\\\\n",
       "45  &      43 &        1 &        1 &       1 &        0 &      1 &          0 &          1 &          0 \\\\\n",
       "46  &      32 &        1 &        1 &       1 &        0 &      1 &          0 &          1 &          0 \\\\\n",
       "47  &      38 &        1 &        1 &       1 &        0 &      1 &          0 &          1 &          0 \\\\\n",
       "48  &      38 &        1 &        1 &       1 &        0 &      1 &          0 &          1 &          0 \\\\\n",
       "49  &      29 &        1 &        1 &       1 &        0 &      1 &          0 &          1 &          0 \\\\\n",
       "50  &      30 &        1 &        1 &       1 &        0 &      1 &          0 &          1 &          0 \\\\\n",
       "51  &      36 &        1 &        1 &       1 &        0 &      1 &          0 &          1 &          0 \\\\\n",
       "52  &      42 &        1 &        1 &       1 &        0 &      1 &          0 &          1 &          0 \\\\\n",
       "53  &      32 &        1 &        1 &       0 &        0 &      1 &          0 &          1 &          0 \\\\\n",
       "54  &      35 &        1 &        1 &       1 &        0 &      1 &          0 &          1 &          0 \\\\\n",
       "55  &      34 &        1 &        1 &       1 &        0 &      1 &          0 &          1 &          0 \\\\\n",
       "56  &      34 &        0 &        1 &       1 &        0 &      1 &          0 &          1 &          0 \\\\\n",
       "57  &      42 &        1 &        1 &       1 &        0 &      1 &          0 &          1 &          0 \\\\\n",
       "58  &      43 &        1 &        1 &       1 &        0 &      1 &          0 &          1 &          0 \\\\\n",
       "59  &      29 &        1 &        1 &       1 &        0 &      1 &          0 &          1 &          0 \\\\\n",
       "60  &      41 &        1 &        1 &       1 &        0 &      1 &          0 &          1 &          0 \\\\\n",
       "61  &      32 &        1 &        1 &       1 &        0 &      1 &          0 &          1 &          0 \\\\\n",
       "62  &      37 &        1 &        1 &       1 &        0 &      1 &          0 &          1 &          0 \\\\\n",
       "63  &      34 &        1 &        1 &       0 &        0 &      1 &          0 &          1 &          0 \\\\\n",
       "64  &      27 &        1 &        1 &       1 &        0 &      1 &          0 &          1 &          0 \\\\\n",
       "65  &      40 &        1 &        1 &       1 &        0 &      1 &          0 &          1 &          0 \\\\\n",
       "66  &      35 &        1 &        1 &       0 &        0 &      1 &          0 &          1 &          0 \\\\\n",
       "67  &      35 &        1 &        1 &       1 &        0 &      1 &          0 &          1 &          0 \\\\\n",
       "68  &      37 &        1 &        1 &       1 &        0 &      1 &          0 &          1 &          0 \\\\\n",
       "69  &      39 &        1 &        1 &       1 &        0 &      1 &          0 &          1 &          0 \\\\\n",
       "70  &      38 &        1 &        1 &       1 &        0 &      1 &          0 &          1 &          0 \\\\\n",
       "71  &      42 &        1 &        1 &       0 &        0 &      1 &          0 &          1 &          0 \\\\\n",
       "72  &      43 &        1 &        1 &       1 &        0 &      1 &          0 &          1 &          0 \\\\\n",
       "73  &      28 &        0 &        1 &       1 &        0 &      1 &          0 &          1 &          0 \\\\\n",
       "74  &      39 &        1 &        1 &       1 &        0 &      1 &          0 &          1 &          0 \\\\\n",
       "75  &      30 &        1 &        1 &       0 &        0 &      1 &          0 &          1 &          0 \\\\\n",
       "76  &      33 &        1 &        1 &       1 &        0 &      1 &          0 &          1 &          0 \\\\\n",
       "77  &      36 &        0 &        1 &       1 &        0 &      1 &          0 &          1 &          0 \\\\\n",
       "78  &      26 &        1 &        1 &       0 &        0 &      1 &          0 &          1 &          0 \\\\\n",
       "79  &      42 &        0 &        1 &       0 &        0 &      1 &          0 &          1 &          0 \\\\\n",
       "80  &      41 &        0 &        1 &       1 &        0 &      1 &          0 &          1 &          0 \\\\\n",
       "81  &      39 &        1 &        1 &       1 &        0 &      1 &          0 &          1 &          0 \\\\\n",
       "82  &      42 &        1 &        1 &       1 &        0 &      1 &          0 &          1 &          0 \\\\\n",
       "83  &      30 &        1 &        1 &       1 &        0 &      1 &          0 &          1 &          0 \\\\\n",
       "84  &      42 &        1 &        1 &       0 &        0 &      1 &          0 &          1 &          0 \\\\\n",
       "85  &      37 &        1 &        1 &       1 &        0 &      1 &          0 &          1 &          0 \\\\\n",
       "86  &      32 &        1 &        1 &       1 &        0 &      1 &          0 &          1 &          0 \\\\\n",
       "87  &      33 &        1 &        1 &       1 &        0 &      1 &          0 &          1 &          0 \\\\\n",
       "88  &      38 &        1 &        1 &       1 &        0 &      1 &          0 &          1 &          0 \\\\\n",
       "89  &      28 &        1 &        1 &       1 &        0 &      1 &          0 &          1 &          0 \\\\\n",
       "90  &      30 &        1 &        1 &       1 &        0 &      1 &          0 &          1 &          0 \\\\\n",
       "91  &      38 &        1 &        1 &       1 &        0 &      1 &          0 &          1 &          0 \\\\\n",
       "92  &      29 &        1 &        1 &       1 &        0 &      1 &          0 &          1 &          0 \\\\\n",
       "93  &      37 &        1 &        1 &       1 &        0 &      1 &          0 &          1 &          0 \\\\\n",
       "94  &      38 &        1 &        1 &       0 &        0 &      1 &          0 &          1 &          0 \\\\\n",
       "95  &      38 &        1 &        1 &       1 &        0 &      1 &          0 &          1 &          0 \\\\\n",
       "96  &      28 &        0 &        1 &       1 &        0 &      1 &          0 &          1 &          0 \\\\\n",
       "97  &      45 &        1 &        1 &       1 &        0 &      1 &          0 &          1 &          0 \\\\\n",
       "98  &      37 &        1 &        1 &       1 &        0 &      1 &          0 &          1 &          0 \\\\\n",
       "99  &      31 &        1 &        1 &       1 &        0 &      1 &          0 &          1 &          0 \\\\\n",
       "100 &      32 &        1 &        1 &       1 &        0 &      1 &          0 &          1 &          0 \\\\\n",
       "101 &      34 &        1 &        1 &       1 &        0 &      1 &          0 &          1 &          0 \\\\\n",
       "102 &      34 &        1 &        1 &       1 &        0 &      1 &          0 &          1 &          0 \\\\\n",
       "103 &      33 &        1 &        1 &       1 &        0 &      1 &          0 &          1 &          0 \\\\\n",
       "104 &      35 &        1 &        1 &       0 &        0 &      1 &          0 &          1 &          0 \\\\\n",
       "105 &      25 &        1 &        1 &       1 &        0 &      1 &          0 &          1 &          0 \\\\\n",
       "106 &      32 &        1 &        1 &       1 &        0 &      1 &          0 &          1 &          0 \\\\\n",
       "107 &      34 &        0 &        1 &       1 &        0 &      1 &          0 &          1 &          0 \\\\\n",
       "108 &      39 &        1 &        1 &       1 &        0 &      1 &          0 &          1 &          0 \\\\\n",
       "109 &      32 &        0 &        1 &       0 &        0 &      1 &          0 &          1 &          0 \\\\\n",
       "110 &      38 &        1 &        1 &       1 &        0 &      1 &          0 &          1 &          0 \\\\\n",
       "111 &      28 &        1 &        1 &       1 &        0 &      1 &          0 &          1 &          0 \\\\\n",
       "112 &      34 &        1 &        1 &       0 &        0 &      1 &          0 &          1 &          0 \\\\\n",
       "113 &      33 &        1 &        1 &       1 &        0 &      1 &          0 &          1 &          0 \\\\\n",
       "114 &      41 &        0 &        1 &       0 &        0 &      1 &          0 &          1 &          0 \\\\\n",
       "115 &      35 &        1 &        1 &       1 &        0 &      1 &          0 &          1 &          0 \\\\\n",
       "116 &      42 &        1 &        1 &       1 &        0 &      1 &          0 &          1 &          0 \\\\\n",
       "117 &      29 &        0 &        1 &       1 &        0 &      1 &          0 &          1 &          0 \\\\\n",
       "118 &      28 &        1 &        1 &       1 &        0 &      1 &          0 &          1 &          0 \\\\\n",
       "119 &      29 &        1 &        1 &       1 &        0 &      1 &          0 &          1 &          0 \\\\\n",
       "120 &      32 &        1 &        1 &       1 &        0 &      1 &          0 &          1 &          0 \\\\\n",
       "121 &      41 &        1 &        1 &       1 &        0 &      1 &          0 &          1 &          0 \\\\\n",
       "122 &      40 &        1 &        1 &       1 &        0 &      1 &          0 &          1 &          0 \\\\\n",
       "123 &      33 &        0 &        1 &       1 &        0 &      1 &          0 &          1 &          0 \\\\\n",
       "124 &      36 &        1 &        1 &       1 &        0 &      1 &          0 &          1 &          0 \\\\\n",
       "125 &      31 &        1 &        1 &       1 &        0 &      1 &          0 &          1 &          0 \\\\\n",
       "126 &      27 &        1 &        1 &       1 &        0 &      1 &          0 &          1 &          0 \\\\\n",
       "127 &      36 &        1 &        1 &       1 &        0 &      1 &          0 &          1 &          0 \\\\\n",
       "128 &      24 &        1 &        1 &       1 &        0 &      1 &          0 &          1 &          0 \\\\\n",
       "129 &      39 &        1 &        1 &       1 &        0 &      1 &          0 &          1 &          0 \\\\\n",
       "130 &      37 &        1 &        1 &       0 &        0 &      1 &          0 &          1 &          0 \\\\\n",
       "131 &      38 &        1 &        1 &       1 &        0 &      1 &          0 &          1 &          0 \\\\\n",
       "132 &      37 &        0 &        1 &       0 &        0 &      1 &          0 &          1 &          0 \\\\\n",
       "133 &      28 &        1 &        1 &       1 &        0 &      1 &          0 &          1 &          0 \\\\\n",
       "134 &      35 &        1 &        1 &       0 &        0 &      1 &          0 &          1 &          0 \\\\\n",
       "135 &      32 &        1 &        1 &       1 &        0 &      1 &          0 &          1 &          0 \\\\\n",
       "136 &      37 &        1 &        1 &       1 &        0 &      1 &          0 &          1 &          0 \\\\\n",
       "137 &      35 &        1 &        1 &       1 &        0 &      1 &          0 &          1 &          0 \\\\\n",
       "138 &      46 &        1 &        1 &       1 &        0 &      1 &          0 &          1 &          0 \\\\\n",
       "139 &      39 &        0 &        1 &       1 &        0 &      1 &          0 &          1 &          0 \\\\\n",
       "140 &      43 &        0 &        1 &       1 &        0 &      1 &          0 &          1 &          0 \\\\\n",
       "141 &      38 &        1 &        1 &       0 &        0 &      1 &          0 &          1 &          0 \\\\\n",
       "142 &      39 &        0 &        1 &       1 &        0 &      1 &          0 &          1 &          0 \\\\\n",
       "143 &      37 &        1 &        1 &       1 &        0 &      1 &          0 &          1 &          0 \\\\\n",
       "144 &      38 &        0 &        1 &       1 &        0 &      1 &          0 &          1 &          0 \\\\\n",
       "145 &      36 &        1 &        1 &       1 &        0 &      1 &          0 &          1 &          0 \\\\\n",
       "146 &      37 &        1 &        1 &       1 &        0 &      1 &          0 &          1 &          0 \\\\\n",
       "147 &      31 &        0 &        1 &       1 &        0 &      1 &          0 &          1 &          0 \\\\\n",
       "148 &      43 &        1 &        1 &       1 &        0 &      1 &          0 &          1 &          0 \\\\\n",
       "149 &      41 &        1 &        1 &       0 &        0 &      1 &          0 &          1 &          0 \\\\\n",
       "150 &      28 &        0 &        1 &       1 &        0 &      1 &          0 &          1 &          0 \\\\\n",
       "151 &      41 &        1 &        1 &       1 &        0 &      1 &          0 &          1 &          0 \\\\\n",
       "152 &      32 &        1 &        1 &       0 &        0 &      1 &          0 &          1 &          0 \\\\\n",
       "153 &      39 &        1 &        1 &       1 &        0 &      1 &          0 &          1 &          0 \\\\\n",
       "154 &      45 &        1 &        1 &       1 &        0 &      1 &          0 &          1 &          0 \\\\\n",
       "155 &      44 &        1 &        1 &       1 &        0 &      1 &          0 &          1 &          0 \\\\\n",
       "156 &      40 &        0 &        1 &       1 &        0 &      1 &          0 &          1 &          0 \\\\\n",
       "157 &      32 &        1 &        1 &       1 &        0 &      1 &          0 &          1 &          0 \\\\\n",
       "158 &      45 &        1 &        1 &       0 &        0 &      1 &          0 &          1 &          0 \\\\\n",
       "159 &      36 &        1 &        1 &       0 &        0 &      1 &          0 &          1 &          0 \\\\\n",
       "160 &      38 &        1 &        1 &       1 &        0 &      1 &          0 &          1 &          0 \\\\\n",
       "161 &      37 &        1 &        1 &       1 &        0 &      1 &          0 &          1 &          0 \\\\\n",
       "162 &      31 &        1 &        1 &       1 &        0 &      1 &          0 &          1 &          0 \\\\\n",
       "163 &      27 &        1 &        1 &       1 &        0 &      1 &          0 &          1 &          0 \\\\\n",
       "164 &      34 &        0 &        1 &       1 &        0 &      1 &          0 &          1 &          0 \\\\\n",
       "165 &      33 &        0 &        1 &       1 &        0 &      1 &          0 &          1 &          0 \\\\\n",
       "166 &      44 &        1 &        1 &       1 &        0 &      1 &          0 &          1 &          0 \\\\\n",
       "167 &      39 &        1 &        1 &       0 &        0 &      1 &          0 &          1 &          0 \\\\\n",
       "168 &      30 &        0 &        1 &       0 &        0 &      1 &          0 &          1 &          0 \\\\\n",
       "169 &      46 &        0 &        1 &       1 &        0 &      1 &          0 &          1 &          0 \\\\\n",
       "170 &      44 &        1 &        1 &       1 &        0 &      1 &          0 &          1 &          0 \\\\\n",
       "171 &      29 &        1 &        1 &       0 &        0 &      1 &          0 &          1 &          0 \\\\\n",
       "172 &      39 &        1 &        1 &       1 &        0 &      1 &          0 &          1 &          0 \\\\\n",
       "173 &      30 &        1 &        1 &       1 &        0 &      1 &          0 &          1 &          0 \\\\\n",
       "174 &      46 &        1 &        1 &       1 &        0 &      1 &          0 &          1 &          0 \\\\\n",
       "175 &      41 &        1 &        1 &       1 &        0 &      1 &          0 &          1 &          0 \\\\\n",
       "176 &      27 &        1 &        1 &       1 &        0 &      1 &          0 &          1 &          0 \\\\\n",
       "177 &      40 &        1 &        1 &       1 &        0 &      1 &          0 &          1 &          0 \\\\\n",
       "178 &      34 &        1 &        1 &       0 &        0 &      1 &          0 &          1 &          0 \\\\\n",
       "179 &      37 &        0 &        1 &       0 &        0 &      1 &          0 &          1 &          0 \\\\\n",
       "180 &      42 &        1 &        1 &       0 &        0 &      1 &          0 &          1 &          0 \\\\\n",
       "181 &      30 &        1 &        1 &       1 &        0 &      1 &          0 &          1 &          0 \\\\\n",
       "182 &      35 &        1 &        1 &       1 &        0 &      1 &          0 &          1 &          0 \\\\\n",
       "183 &      35 &        1 &        1 &       1 &        0 &      1 &          0 &          1 &          0 \\\\\n",
       "184 &      32 &        0 &        1 &       1 &        0 &      1 &          0 &          1 &          0 \\\\\n",
       "185 &      49 &        0 &        1 &       1 &        0 &      1 &          0 &          1 &          0 \\\\\n",
       "186 &      32 &        0 &        1 &       0 &        0 &      1 &          0 &          1 &          0 \\\\\n",
       "187 &      41 &        1 &        1 &       1 &        0 &      1 &          0 &          1 &          0 \\\\\n",
       "188 &      44 &        1 &        1 &       0 &        0 &      1 &          0 &          1 &          0 \\\\\n",
       "189 &      41 &        1 &        1 &       1 &        0 &      1 &          0 &          1 &          0 \\\\\n",
       "190 &      33 &        1 &        1 &       1 &        0 &      1 &          0 &          1 &          0 \\\\\n",
       "191 &      42 &        1 &        1 &       1 &        0 &      1 &          0 &          1 &          0 \\\\\n",
       "192 &      44 &        0 &        1 &       1 &        0 &      1 &          0 &          1 &          0 \\\\\n",
       "193 &      45 &        1 &        1 &       1 &        0 &      1 &          0 &          1 &          0 \\\\\n",
       "194 &      40 &        1 &        1 &       1 &        0 &      1 &          0 &          1 &          0 \\\\\n",
       "195 &      37 &        1 &        1 &       1 &        0 &      1 &          0 &          1 &          0 \\\\\n",
       "196 &      32 &        1 &        1 &       1 &        0 &      1 &          0 &          1 &          0 \\\\\n",
       "197 &      41 &        1 &        1 &       1 &        0 &      1 &          0 &          1 &          0 \\\\\n",
       "198 &      38 &        1 &        1 &       1 &        0 &      1 &          0 &          1 &          0 \\\\\n",
       "199 &      44 &        1 &        1 &       1 &        0 &      1 &          0 &          1 &          0 \\\\\n",
       "200 &      40 &        1 &        1 &       1 &        0 &      1 &          0 &          1 &          0 \\\\\n",
       "201 &      35 &        0 &        1 &       1 &        0 &      1 &          0 &          1 &          0 \\\\\n",
       "202 &      33 &        1 &        1 &       1 &        0 &      1 &          0 &          1 &          0 \\\\\n",
       "203 &      39 &        0 &        1 &       1 &        0 &      1 &          0 &          1 &          0 \\\\\n",
       "204 &      37 &        1 &        1 &       1 &        0 &      1 &          0 &          1 &          0 \\\\\n",
       "205 &      43 &        1 &        1 &       1 &        0 &      1 &          0 &          1 &          0 \\\\\n",
       "206 &      43 &        1 &        1 &       1 &        0 &      1 &          0 &          1 &          0 \\\\\n",
       "207 &      31 &        1 &        1 &       1 &        0 &      1 &          0 &          1 &          0 \\\\\n",
       "208 &      37 &        1 &        1 &       0 &        0 &      1 &          0 &          1 &          0 \\\\\n",
       "209 &      43 &        0 &        1 &       1 &        0 &      1 &          0 &          1 &          0 \\\\\n",
       "210 &      37 &        1 &        1 &       1 &        0 &      1 &          0 &          1 &          0 \\\\\n",
       "211 &      31 &        1 &        1 &       1 &        0 &      1 &          0 &          1 &          0 \\\\\n",
       "212 &      36 &        1 &        1 &       1 &        0 &      1 &          0 &          1 &          0 \\\\\n",
       "213 &      40 &        0 &        1 &       0 &        0 &      1 &          0 &          1 &          0 \\\\\n",
       "214 &      36 &        1 &        1 &       1 &        0 &      1 &          0 &          1 &          0 \\\\\n",
       "215 &      42 &        0 &        1 &       1 &        0 &      1 &          0 &          1 &          0 \\\\\n",
       "216 &      39 &        1 &        1 &       1 &        0 &      1 &          0 &          1 &          0 \\\\\n",
       "217 &      42 &        1 &        1 &       1 &        0 &      1 &          0 &          1 &          0 \\\\\n",
       "218 &      28 &        1 &        1 &       1 &        0 &      1 &          0 &          1 &          0 \\\\\n",
       "219 &      34 &        1 &        1 &       1 &        0 &      1 &          0 &          1 &          0 \\\\\n",
       "220 &      42 &        0 &        1 &       1 &        0 &      1 &          0 &          1 &          0 \\\\\n",
       "221 &      35 &        0 &        1 &       1 &        0 &      1 &          0 &          1 &          0 \\\\\n",
       "222 &      35 &        1 &        1 &       1 &        0 &      1 &          0 &          1 &          0 \\\\\n",
       "223 &      35 &        1 &        1 &       1 &        0 &      1 &          0 &          1 &          0 \\\\\n",
       "224 &      37 &        0 &        1 &       0 &        0 &      1 &          0 &          1 &          0 \\\\\n",
       "225 &      39 &        1 &        1 &       1 &        0 &      1 &          0 &          1 &          0 \\\\\n",
       "226 &      39 &        0 &        1 &       1 &        0 &      1 &          0 &          1 &          0 \\\\\n",
       "227 &      23 &        1 &        2 &       1 &        0 &      0 &          0 &          0 &          1 \\\\\n",
       "228 &      36 &        1 &        2 &       1 &        0 &      0 &          0 &          0 &          1 \\\\\n",
       "229 &      39 &        1 &        2 &       1 &        0 &      0 &          0 &          0 &          1 \\\\\n",
       "230 &      46 &        1 &        2 &       1 &        0 &      1 &          0 &          0 &          1 \\\\\n",
       "231 &      35 &        1 &        2 &       1 &        0 &      1 &          0 &          0 &          1 \\\\\n",
       "232 &      27 &        1 &        2 &       1 &        0 &      0 &          0 &          0 &          1 \\\\\n",
       "233 &      41 &        1 &        2 &       1 &        0 &      0 &          0 &          0 &          1 \\\\\n",
       "234 &      39 &        1 &        2 &       1 &        0 &      1 &          0 &          0 &          1 \\\\\n",
       "235 &      32 &        1 &        2 &       1 &        0 &      1 &          0 &          0 &          1 \\\\\n",
       "236 &      48 &        1 &        2 &       1 &        0 &      0 &          0 &          0 &          1 \\\\\n",
       "237 &      37 &        1 &        2 &       1 &        0 &      0 &          0 &          0 &          1 \\\\\n",
       "238 &      36 &        1 &        2 &       1 &        0 &      0 &          0 &          0 &          1 \\\\\n",
       "239 &      34 &        1 &        2 &       1 &        0 &      1 &          0 &          0 &          1 \\\\\n",
       "240 &      34 &        1 &        2 &       1 &        0 &      1 &          0 &          0 &          1 \\\\\n",
       "241 &      38 &        1 &        2 &       1 &        0 &      1 &          0 &          0 &          1 \\\\\n",
       "242 &      31 &        1 &        2 &       1 &        0 &      1 &          0 &          0 &          1 \\\\\n",
       "243 &      30 &        0 &        2 &       1 &        0 &      0 &          0 &          0 &          1 \\\\\n",
       "244 &      27 &        1 &        2 &       1 &        0 &      0 &          0 &          0 &          1 \\\\\n",
       "245 &      38 &        1 &        2 &       1 &        0 &      1 &          0 &          0 &          1 \\\\\n",
       "246 &      42 &        1 &        2 &       1 &        0 &      0 &          0 &          0 &          1 \\\\\n",
       "247 &      42 &        1 &        2 &       1 &        0 &      0 &          0 &          0 &          1 \\\\\n",
       "248 &      32 &        1 &        2 &       1 &        0 &      1 &          0 &          0 &          1 \\\\\n",
       "249 &      32 &        1 &        2 &       1 &        0 &      0 &          0 &          0 &          1 \\\\\n",
       "250 &      38 &        1 &        2 &       1 &        0 &      1 &          0 &          0 &          1 \\\\\n",
       "251 &      29 &        1 &        2 &       1 &        0 &      0 &          0 &          0 &          1 \\\\\n",
       "252 &      36 &        1 &        2 &       1 &        0 &      0 &          0 &          0 &          1 \\\\\n",
       "253 &      36 &        1 &        2 &       1 &        0 &      0 &          0 &          0 &          1 \\\\\n",
       "254 &      30 &        1 &        2 &       1 &        0 &      1 &          0 &          0 &          1 \\\\\n",
       "255 &      26 &        0 &        2 &       1 &        0 &      1 &          0 &          0 &          1 \\\\\n",
       "256 &      34 &        1 &        2 &       1 &        0 &      0 &          0 &          0 &          1 \\\\\n",
       "257 &      37 &        1 &        2 &       1 &        0 &      0 &          0 &          0 &          1 \\\\\n",
       "258 &      37 &        1 &        2 &       1 &        0 &      0 &          0 &          0 &          1 \\\\\n",
       "259 &      42 &        1 &        2 &       1 &        0 &      1 &          0 &          0 &          1 \\\\\n",
       "260 &      42 &        1 &        2 &       1 &        0 &      0 &          0 &          0 &          1 \\\\\n",
       "261 &      47 &        1 &        2 &       1 &        0 &      0 &          0 &          0 &          1 \\\\\n",
       "262 &      34 &        1 &        2 &       1 &        0 &      1 &          0 &          0 &          1 \\\\\n",
       "263 &      37 &        1 &        2 &       1 &        0 &      0 &          0 &          0 &          1 \\\\\n",
       "264 &      41 &        1 &        2 &       1 &        0 &      0 &          0 &          0 &          1 \\\\\n",
       "265 &      42 &        1 &        2 &       1 &        0 &      1 &          0 &          0 &          1 \\\\\n",
       "266 &      41 &        1 &        2 &       1 &        0 &      1 &          0 &          0 &          1 \\\\\n",
       "267 &      47 &        1 &        2 &       1 &        0 &      1 &          0 &          0 &          1 \\\\\n",
       "268 &      38 &        1 &        2 &       1 &        0 &      0 &          0 &          0 &          1 \\\\\n",
       "269 &      39 &        1 &        2 &       1 &        0 &      1 &          0 &          0 &          1 \\\\\n",
       "270 &      23 &        1 &        2 &       1 &        0 &      0 &          0 &          0 &          1 \\\\\n",
       "271 &      39 &        1 &        2 &       1 &        0 &      0 &          0 &          0 &          1 \\\\\n",
       "272 &      25 &        1 &        2 &       1 &        0 &      1 &          0 &          0 &          1 \\\\\n",
       "273 &      34 &        1 &        2 &       1 &        0 &      0 &          0 &          0 &          1 \\\\\n",
       "274 &      43 &        1 &        2 &       1 &        0 &      0 &          0 &          0 &          1 \\\\\n",
       "275 &      46 &        1 &        2 &       1 &        0 &      1 &          0 &          0 &          1 \\\\\n",
       "276 &      40 &        1 &        2 &       1 &        0 &      0 &          0 &          0 &          1 \\\\\n",
       "277 &      35 &        1 &        2 &       1 &        0 &      1 &          0 &          0 &          1 \\\\\n",
       "278 &      32 &        1 &        2 &       1 &        0 &      0 &          0 &          0 &          1 \\\\\n",
       "279 &      41 &        1 &        2 &       1 &        0 &      0 &          0 &          0 &          1 \\\\\n",
       "280 &      26 &        1 &        2 &       1 &        0 &      0 &          0 &          0 &          1 \\\\\n",
       "281 &      47 &        1 &        2 &       1 &        0 &      1 &          0 &          0 &          1 \\\\\n",
       "282 &      37 &        1 &        2 &       1 &        0 &      1 &          0 &          0 &          1 \\\\\n",
       "283 &      30 &        1 &        2 &       1 &        0 &      1 &          0 &          0 &          1 \\\\\n",
       "284 &      44 &        1 &        2 &       1 &        0 &      0 &          0 &          0 &          1 \\\\\n",
       "285 &      42 &        1 &        2 &       1 &        0 &      0 &          0 &          0 &          1 \\\\\n",
       "286 &      43 &        1 &        2 &       1 &        0 &      1 &          0 &          0 &          1 \\\\\n",
       "287 &      30 &        1 &        2 &       1 &        0 &      0 &          0 &          0 &          1 \\\\\n",
       "288 &      36 &        1 &        2 &       1 &        0 &      0 &          0 &          0 &          1 \\\\\n",
       "289 &      30 &        0 &        2 &       1 &        0 &      0 &          0 &          0 &          1 \\\\\n",
       "290 &      35 &        1 &        2 &       1 &        0 &      0 &          0 &          0 &          1 \\\\\n",
       "291 &      43 &        1 &        2 &       1 &        0 &      1 &          0 &          0 &          1 \\\\\n",
       "292 &      36 &        1 &        2 &       1 &        0 &      0 &          0 &          0 &          1 \\\\\n",
       "293 &      42 &        1 &        2 &       1 &        0 &      1 &          0 &          0 &          1 \\\\\n",
       "294 &      36 &        1 &        2 &       1 &        0 &      0 &          0 &          0 &          1 \\\\\n",
       "295 &      27 &        1 &        2 &       1 &        0 &      0 &          0 &          0 &          1 \\\\\n",
       "296 &      33 &        1 &        2 &       1 &        0 &      0 &          0 &          0 &          1 \\\\\n",
       "297 &      35 &        1 &        2 &       1 &        0 &      1 &          0 &          0 &          1 \\\\\n",
       "298 &      24 &        1 &        2 &       1 &        0 &      1 &          0 &          0 &          1 \\\\\n",
       "299 &      28 &        1 &        2 &       1 &        0 &      0 &          0 &          0 &          1 \\\\\n",
       "300 &      48 &        1 &        2 &       1 &        0 &      1 &          0 &          0 &          1 \\\\\n",
       "301 &      38 &        1 &        2 &       1 &        0 &      1 &          0 &          0 &          1 \\\\\n",
       "302 &      30 &        1 &        2 &       1 &        0 &      1 &          0 &          0 &          1 \\\\\n",
       "303 &      39 &        1 &        2 &       1 &        0 &      0 &          0 &          0 &          1 \\\\\n",
       "304 &      31 &        1 &        2 &       1 &        0 &      0 &          0 &          0 &          1 \\\\\n",
       "305 &      42 &        1 &        2 &       1 &        0 &      0 &          0 &          0 &          1 \\\\\n",
       "306 &      30 &        0 &        2 &       1 &        0 &      1 &          0 &          0 &          1 \\\\\n",
       "307 &      37 &        1 &        2 &       1 &        0 &      1 &          0 &          0 &          1 \\\\\n",
       "308 &      36 &        1 &        2 &       1 &        0 &      0 &          0 &          0 &          1 \\\\\n",
       "309 &      39 &        1 &        2 &       1 &        0 &      0 &          0 &          0 &          1 \\\\\n",
       "310 &      27 &        1 &        2 &       1 &        0 &      1 &          0 &          0 &          1 \\\\\n",
       "311 &      33 &        1 &        2 &       1 &        0 &      0 &          0 &          0 &          1 \\\\\n",
       "312 &      29 &        1 &        2 &       1 &        0 &      1 &          0 &          0 &          1 \\\\\n",
       "313 &      35 &        1 &        2 &       1 &        0 &      0 &          0 &          0 &          1 \\\\\n",
       "314 &      32 &        1 &        2 &       1 &        0 &      0 &          0 &          0 &          1 \\\\\n",
       "315 &      37 &        1 &        2 &       1 &        0 &      0 &          0 &          0 &          1 \\\\\n",
       "316 &      31 &        1 &        2 &       1 &        0 &      0 &          0 &          0 &          1 \\\\\n",
       "317 &      37 &        1 &        2 &       1 &        0 &      0 &          0 &          0 &          1 \\\\\n",
       "318 &      38 &        1 &        2 &       1 &        0 &      0 &          0 &          0 &          1 \\\\\n",
       "319 &      36 &        1 &        2 &       1 &        0 &      1 &          0 &          0 &          1 \\\\\n",
       "320 &      30 &        1 &        2 &       1 &        0 &      1 &          0 &          0 &          1 \\\\\n",
       "321 &      34 &        1 &        2 &       1 &        0 &      0 &          0 &          0 &          1 \\\\\n",
       "322 &      29 &        1 &        2 &       1 &        0 &      1 &          0 &          0 &          1 \\\\\n",
       "323 &      37 &        1 &        2 &       1 &        0 &      1 &          0 &          0 &          1 \\\\\n",
       "324 &      37 &        0 &        2 &       1 &        0 &      0 &          0 &          0 &          1 \\\\\n",
       "325 &      34 &        1 &        2 &       1 &        0 &      1 &          0 &          0 &          1 \\\\\n",
       "326 &      35 &        1 &        2 &       1 &        0 &      1 &          0 &          0 &          1 \\\\\n",
       "327 &      30 &        1 &        2 &       1 &        0 &      1 &          0 &          0 &          1 \\\\\n",
       "328 &      26 &        1 &        2 &       1 &        0 &      0 &          0 &          0 &          1 \\\\\n",
       "329 &      39 &        1 &        2 &       1 &        0 &      0 &          0 &          0 &          1 \\\\\n",
       "330 &      40 &        1 &        2 &       1 &        0 &      1 &          0 &          0 &          1 \\\\\n",
       "331 &      23 &        1 &        2 &       1 &        0 &      0 &          0 &          0 &          1 \\\\\n",
       "332 &      32 &        1 &        2 &       1 &        0 &      1 &          0 &          0 &          1 \\\\\n",
       "333 &      40 &        1 &        2 &       1 &        0 &      0 &          0 &          0 &          1 \\\\\n",
       "334 &      39 &        1 &        2 &       1 &        0 &      1 &          0 &          0 &          1 \\\\\n",
       "335 &      25 &        1 &        2 &       1 &        0 &      1 &          0 &          0 &          1 \\\\\n",
       "336 &      32 &        1 &        2 &       1 &        0 &      1 &          0 &          0 &          1 \\\\\n",
       "337 &      29 &        1 &        2 &       1 &        0 &      0 &          0 &          0 &          1 \\\\\n",
       "338 &      34 &        0 &        2 &       1 &        0 &      0 &          0 &          0 &          1 \\\\\n",
       "339 &      38 &        1 &        2 &       1 &        0 &      1 &          0 &          0 &          1 \\\\\n",
       "340 &      32 &        1 &        2 &       1 &        0 &      0 &          0 &          0 &          1 \\\\\n",
       "341 &      28 &        1 &        2 &       1 &        0 &      1 &          0 &          0 &          1 \\\\\n",
       "342 &      34 &        1 &        2 &       1 &        0 &      1 &          0 &          0 &          1 \\\\\n",
       "343 &      25 &        1 &        2 &       1 &        0 &      0 &          0 &          0 &          1 \\\\\n",
       "344 &      44 &        1 &        2 &       1 &        0 &      0 &          0 &          0 &          1 \\\\\n",
       "345 &      41 &        1 &        2 &       1 &        0 &      1 &          0 &          0 &          1 \\\\\n",
       "346 &      30 &        1 &        2 &       1 &        0 &      0 &          0 &          0 &          1 \\\\\n",
       "347 &      32 &        1 &        2 &       1 &        0 &      1 &          0 &          0 &          1 \\\\\n",
       "348 &      41 &        0 &        2 &       1 &        0 &      0 &          0 &          0 &          1 \\\\\n",
       "349 &      32 &        1 &        2 &       1 &        0 &      0 &          0 &          0 &          1 \\\\\n",
       "350 &      36 &        1 &        2 &       1 &        0 &      1 &          0 &          0 &          1 \\\\\n",
       "351 &      37 &        0 &        2 &       1 &        0 &      1 &          0 &          0 &          1 \\\\\n",
       "352 &      33 &        1 &        2 &       1 &        0 &      1 &          0 &          0 &          1 \\\\\n",
       "353 &      26 &        1 &        2 &       1 &        0 &      0 &          0 &          0 &          1 \\\\\n",
       "354 &      41 &        1 &        2 &       1 &        0 &      0 &          0 &          0 &          1 \\\\\n",
       "355 &      36 &        1 &        2 &       1 &        0 &      0 &          0 &          0 &          1 \\\\\n",
       "356 &      25 &        0 &        2 &       1 &        0 &      0 &          0 &          0 &          1 \\\\\n",
       "357 &      36 &        1 &        2 &       1 &        0 &      0 &          0 &          0 &          1 \\\\\n",
       "358 &      38 &        1 &        2 &       1 &        0 &      0 &          0 &          0 &          1 \\\\\n",
       "359 &      32 &        1 &        2 &       1 &        0 &      0 &          0 &          0 &          1 \\\\\n",
       "360 &      38 &        1 &        2 &       1 &        0 &      1 &          0 &          0 &          1 \\\\\n",
       "361 &      36 &        0 &        2 &       1 &        0 &      0 &          0 &          0 &          1 \\\\\n",
       "362 &      35 &        0 &        2 &       1 &        0 &      0 &          0 &          0 &          1 \\\\\n",
       "363 &      39 &        1 &        2 &       1 &        0 &      0 &          0 &          0 &          1 \\\\\n",
       "364 &      32 &        1 &        2 &       1 &        0 &      1 &          0 &          0 &          1 \\\\\n",
       "365 &      39 &        0 &        2 &       1 &        0 &      1 &          0 &          0 &          1 \\\\\n",
       "366 &      32 &        0 &        2 &       1 &        0 &      0 &          0 &          0 &          1 \\\\\n",
       "367 &      37 &        1 &        2 &       1 &        0 &      1 &          0 &          0 &          1 \\\\\n",
       "368 &      40 &        1 &        2 &       1 &        0 &      1 &          0 &          0 &          1 \\\\\n",
       "369 &      42 &        1 &        2 &       1 &        0 &      1 &          0 &          0 &          1 \\\\\n",
       "370 &      34 &        1 &        2 &       1 &        0 &      0 &          0 &          0 &          1 \\\\\n",
       "371 &      37 &        1 &        2 &       1 &        0 &      1 &          0 &          0 &          1 \\\\\n",
       "372 &      39 &        1 &        2 &       1 &        0 &      0 &          0 &          0 &          1 \\\\\n",
       "373 &      43 &        1 &        2 &       1 &        0 &      0 &          0 &          0 &          1 \\\\\n",
       "374 &      44 &        0 &        2 &       1 &        0 &      1 &          0 &          0 &          1 \\\\\n",
       "375 &      43 &        1 &        2 &       1 &        0 &      0 &          0 &          0 &          1 \\\\\n",
       "376 &      35 &        1 &        2 &       1 &        0 &      1 &          0 &          0 &          1 \\\\\n",
       "377 &      33 &        1 &        2 &       1 &        0 &      1 &          0 &          0 &          1 \\\\\n",
       "378 &      34 &        1 &        2 &       1 &        0 &      0 &          0 &          0 &          1 \\\\\n",
       "379 &      40 &        1 &        2 &       1 &        0 &      1 &          0 &          0 &          1 \\\\\n",
       "380 &      43 &        0 &        2 &       1 &        0 &      0 &          0 &          0 &          1 \\\\\n",
       "381 &      34 &        1 &        2 &       1 &        0 &      1 &          0 &          0 &          1 \\\\\n",
       "382 &      43 &        1 &        2 &       1 &        0 &      1 &          0 &          0 &          1 \\\\\n",
       "383 &      36 &        1 &        2 &       1 &        0 &      0 &          0 &          0 &          1 \\\\\n",
       "384 &      32 &        1 &        2 &       1 &        0 &      0 &          0 &          0 &          1 \\\\\n",
       "385 &      31 &        1 &        2 &       1 &        0 &      0 &          0 &          0 &          1 \\\\\n",
       "386 &      31 &        1 &        2 &       1 &        0 &      1 &          0 &          0 &          1 \\\\\n",
       "387 &      34 &        1 &        2 &       1 &        0 &      1 &          0 &          0 &          1 \\\\\n",
       "388 &      38 &        1 &        2 &       1 &        0 &      0 &          0 &          0 &          1 \\\\\n",
       "389 &      41 &        1 &        2 &       1 &        0 &      0 &          0 &          0 &          1 \\\\\n",
       "390 &      36 &        1 &        2 &       1 &        0 &      1 &          0 &          0 &          1 \\\\\n",
       "391 &      29 &        1 &        2 &       1 &        0 &      0 &          0 &          0 &          1 \\\\\n",
       "392 &      32 &        1 &        2 &       1 &        0 &      1 &          0 &          0 &          1 \\\\\n",
       "393 &      43 &        0 &        2 &       1 &        0 &      0 &          0 &          0 &          1 \\\\\n",
       "394 &      34 &        1 &        2 &       1 &        0 &      1 &          0 &          0 &          1 \\\\\n",
       "395 &      31 &        1 &        2 &       1 &        0 &      0 &          0 &          0 &          1 \\\\\n",
       "396 &      30 &        1 &        2 &       1 &        0 &      1 &          0 &          0 &          1 \\\\\n",
       "397 &      38 &        1 &        2 &       1 &        0 &      1 &          0 &          0 &          1 \\\\\n",
       "398 &      34 &        1 &        2 &       1 &        0 &      0 &          0 &          0 &          1 \\\\\n",
       "399 &      32 &        1 &        2 &       1 &        0 &      0 &          0 &          0 &          1 \\\\\n",
       "400 &      38 &        1 &        2 &       1 &        0 &      0 &          0 &          0 &          1 \\\\\n",
       "401 &      42 &        0 &        2 &       1 &        0 &      0 &          0 &          0 &          1 \\\\\n",
       "402 &      34 &        1 &        2 &       1 &        0 &      0 &          0 &          0 &          1 \\\\\n",
       "403 &      42 &        1 &        2 &       1 &        0 &      0 &          0 &          0 &          1 \\\\\n",
       "404 &      31 &        1 &        2 &       1 &        0 &      0 &          0 &          0 &          1 \\\\\n",
       "405 &      39 &        1 &        2 &       1 &        0 &      0 &          0 &          0 &          1 \\\\\n",
       "406 &      37 &        1 &        2 &       1 &        0 &      1 &          0 &          0 &          1 \\\\\n",
       "407 &      33 &        1 &        2 &       1 &        0 &      0 &          0 &          0 &          1 \\\\\n",
       "408 &      29 &        1 &        2 &       1 &        0 &      1 &          0 &          0 &          1 \\\\\n",
       "409 &      39 &        1 &        2 &       1 &        0 &      1 &          0 &          0 &          1 \\\\\n",
       "410 &      36 &        1 &        2 &       1 &        0 &      0 &          0 &          0 &          1 \\\\\n",
       "411 &      33 &        1 &        2 &       1 &        0 &      1 &          0 &          0 &          1 \\\\\n",
       "412 &      35 &        1 &        2 &       1 &        0 &      1 &          0 &          0 &          1 \\\\\n",
       "413 &      32 &        1 &        2 &       1 &        0 &      0 &          0 &          0 &          1 \\\\\n",
       "414 &      23 &        1 &        2 &       1 &        0 &      1 &          0 &          0 &          1 \\\\\n",
       "415 &      45 &        1 &        2 &       1 &        0 &      0 &          0 &          0 &          1 \\\\\n",
       "416 &      35 &        1 &        2 &       1 &        0 &      0 &          0 &          0 &          1 \\\\\n",
       "417 &      35 &        1 &        2 &       1 &        0 &      1 &          0 &          0 &          1 \\\\\n",
       "418 &      31 &        1 &        2 &       1 &        0 &      0 &          0 &          0 &          1 \\\\\n",
       "419 &      33 &        1 &        2 &       1 &        0 &      1 &          0 &          0 &          1 \\\\\n",
       "420 &      32 &        1 &        2 &       1 &        0 &      1 &          0 &          0 &          1 \\\\\n",
       "421 &      36 &        1 &        2 &       1 &        0 &      0 &          0 &          0 &          1 \\\\\n",
       "422 &      44 &        1 &        2 &       1 &        0 &      0 &          0 &          0 &          1 \\\\\n",
       "423 &      35 &        1 &        2 &       1 &        0 &      1 &          0 &          0 &          1 \\\\\n",
       "424 &      40 &        1 &        2 &       1 &        0 &      0 &          0 &          0 &          1 \\\\\n",
       "425 &      25 &        1 &        2 &       1 &        0 &      1 &          0 &          0 &          1 \\\\\n",
       "426 &      28 &        1 &        2 &       1 &        0 &      0 &          0 &          0 &          1 \\\\\n",
       "427 &      26 &        1 &        2 &       1 &        0 &      1 &          0 &          0 &          1 \\\\\n",
       "428 &      33 &        1 &        2 &       1 &        0 &      0 &          0 &          0 &          1 \\\\\n",
       "429 &      38 &        1 &        2 &       1 &        0 &      0 &          0 &          0 &          1 \\\\\n",
       "430 &      34 &        1 &        2 &       1 &        0 &      1 &          0 &          0 &          1 \\\\\n",
       "431 &      31 &        1 &        2 &       1 &        0 &      1 &          0 &          0 &          1 \\\\\n",
       "432 &      36 &        1 &        2 &       1 &        0 &      1 &          0 &          0 &          1 \\\\\n",
       "433 &      43 &        1 &        2 &       1 &        0 &      0 &          0 &          0 &          1 \\\\\n",
       "434 &      34 &        1 &        2 &       1 &        0 &      0 &          0 &          0 &          1 \\\\\n",
       "435 &      29 &        1 &        2 &       1 &        0 &      1 &          0 &          0 &          1 \\\\\n",
       "436 &      40 &        1 &        2 &       1 &        0 &      1 &          0 &          0 &          1 \\\\\n",
       "437 &      38 &        1 &        2 &       1 &        0 &      1 &          0 &          0 &          1 \\\\\n",
       "438 &      39 &        1 &        2 &       1 &        0 &      1 &          0 &          0 &          1 \\\\\n",
       "439 &      40 &        1 &        2 &       1 &        0 &      0 &          0 &          0 &          1 \\\\\n",
       "440 &      37 &        1 &        2 &       1 &        0 &      0 &          0 &          0 &          1 \\\\\n",
       "441 &      43 &        1 &        2 &       1 &        0 &      0 &          0 &          0 &          1 \\\\\n",
       "442 &      39 &        0 &        2 &       1 &        0 &      0 &          0 &          0 &          1 \\\\\n",
       "443 &      32 &        1 &        2 &       1 &        0 &      1 &          0 &          0 &          1 \\\\\n",
       "444 &      37 &        0 &        2 &       1 &        0 &      0 &          0 &          0 &          1 \\\\\n",
       "445 &      35 &        1 &        2 &       1 &        0 &      0 &          0 &          0 &          1 \\\\\n",
       "446 &      29 &        1 &        2 &       1 &        0 &      1 &          0 &          0 &          1 \\\\\n",
       "447 &      34 &        0 &        2 &       1 &        0 &      0 &          0 &          0 &          1 \\\\\n",
       "448 &      37 &        0 &        2 &       1 &        0 &      1 &          0 &          0 &          1 \\\\\n",
       "449 &      38 &        1 &        2 &       1 &        0 &      0 &          0 &          0 &          1 \\\\\n",
       "450 &      36 &        1 &        2 &       1 &        0 &      0 &          0 &          0 &          1 \\\\\n",
       "451 &      37 &        1 &        2 &       1 &        0 &      0 &          0 &          0 &          1 \\\\\n",
       "452 &      40 &        1 &        2 &       1 &        0 &      1 &          0 &          0 &          1 \\\\\n",
       "453 &      36 &        0 &        2 &       1 &        0 &      0 &          0 &          0 &          1 \\\\\n",
       "454 &      35 &        0 &        2 &       1 &        0 &      0 &          0 &          0 &          1 \\\\\n",
       "455 &      34 &        1 &        2 &       1 &        0 &      0 &          0 &          0 &          1 \\\\\n",
       "456 &      25 &        1 &        2 &       1 &        0 &      0 &          0 &          0 &          1 \\\\\n",
       "457 &      42 &        1 &        2 &       1 &        0 &      1 &          0 &          0 &          1 \\\\\n",
       "458 &      32 &        1 &        2 &       1 &        0 &      0 &          0 &          0 &          1 \\\\\n",
       "459 &      39 &        0 &        2 &       1 &        0 &      1 &          0 &          0 &          1 \\\\\n",
       "460 &      28 &        1 &        2 &       1 &        0 &      1 &          0 &          0 &          1 \\\\\n",
       "461 &      30 &        1 &        2 &       1 &        0 &      1 &          0 &          0 &          1 \\\\\n",
       "462 &      34 &        1 &        2 &       1 &        0 &      1 &          0 &          0 &          1 \\\\\n",
       "463 &      31 &        1 &        2 &       1 &        0 &      1 &          0 &          0 &          1 \\\\\n",
       "464 &      33 &        0 &        2 &       1 &        0 &      0 &          0 &          0 &          1 \\\\\n",
       "465 &      38 &        1 &        2 &       1 &        0 &      1 &          0 &          0 &          1 \\\\\n",
       "466 &      34 &        0 &        2 &       1 &        0 &      1 &          0 &          0 &          1 \\\\\n",
       "467 &      37 &        1 &        2 &       1 &        0 &      0 &          0 &          0 &          1 \\\\\n",
       "468 &      29 &        1 &        2 &       1 &        0 &      0 &          0 &          0 &          1 \\\\\n",
       "469 &      40 &        1 &        2 &       1 &        0 &      1 &          0 &          0 &          1 \\\\\n",
       "470 &      37 &        1 &        2 &       1 &        0 &      0 &          0 &          0 &          1 \\\\\n",
       "471 &      38 &        1 &        2 &       1 &        0 &      0 &          0 &          0 &          1 \\\\\n",
       "472 &      32 &        1 &        2 &       1 &        0 &      1 &          0 &          0 &          1 \\\\\n",
       "473 &      38 &        1 &        2 &       1 &        0 &      0 &          0 &          0 &          1 \\\\\n",
       "474 &      30 &        0 &        2 &       1 &        0 &      1 &          0 &          0 &          1 \\\\\n",
       "475 &      26 &        0 &        2 &       1 &        0 &      1 &          0 &          0 &          1 \\\\\n",
       "476 &      26 &        1 &        2 &       1 &        0 &      0 &          0 &          0 &          1 \\\\\n",
       "477 &      44 &        1 &        2 &       1 &        0 &      1 &          0 &          0 &          1 \\\\\n",
       "478 &      32 &        1 &        2 &       1 &        0 &      0 &          0 &          0 &          1 \\\\\n",
       "479 &      33 &        1 &        2 &       1 &        0 &      0 &          0 &          0 &          1 \\\\\n",
       "480 &      41 &        1 &        2 &       1 &        0 &      1 &          0 &          0 &          1 \\\\\n",
       "481 &      38 &        1 &        2 &       1 &        0 &      0 &          0 &          0 &          1 \\\\\n",
       "482 &      42 &        1 &        2 &       1 &        0 &      1 &          0 &          0 &          1 \\\\\n",
       "483 &      30 &        1 &        2 &       1 &        0 &      0 &          0 &          0 &          1 \\\\\n",
       "484 &      41 &        1 &        2 &       1 &        0 &      0 &          0 &          0 &          1 \\\\\n",
       "485 &      41 &        1 &        2 &       1 &        0 &      0 &          0 &          0 &          1 \\\\\n",
       "486 &      39 &        1 &        2 &       1 &        0 &      0 &          0 &          0 &          1 \\\\\n",
       "487 &      50 &        1 &        2 &       1 &        0 &      0 &          0 &          0 &          1 \\\\\n",
       "488 &      34 &        1 &        2 &       1 &        0 &      1 &          0 &          0 &          1 \\\\\n",
       "489 &      32 &        1 &        2 &       1 &        0 &      1 &          0 &          0 &          1 \\\\\n",
       "490 &      38 &        1 &        2 &       1 &        0 &      1 &          0 &          0 &          1 \\\\\n",
       "491 &      36 &        1 &        2 &       1 &        0 &      0 &          0 &          0 &          1 \\\\\n",
       "492 &      35 &        0 &        2 &       1 &        0 &      0 &          0 &          0 &          1 \\\\\n",
       "493 &      44 &        1 &        2 &       1 &        0 &      1 &          0 &          0 &          1 \\\\\n",
       "494 &      38 &        1 &        2 &       1 &        0 &      1 &          0 &          0 &          1 \\\\\n",
       "495 &      39 &        1 &        2 &       1 &        0 &      0 &          0 &          0 &          1 \\\\\n",
       "496 &      34 &        1 &        2 &       1 &        0 &      1 &          0 &          0 &          1 \\\\\n",
       "497 &      39 &        1 &        2 &       1 &        0 &      0 &          0 &          0 &          1 \\\\\n",
       "498 &      31 &        0 &        2 &       1 &        0 &      0 &          0 &          0 &          1 \\\\\n",
       "499 &      40 &        1 &        2 &       1 &        0 &      1 &          0 &          0 &          1 \\\\\n",
       "\\bottomrule\n",
       "\\end{tabular}\n"
      ],
      "text/plain": [
       "     tiempo  censura  estadio  tabaco  alcohol  antec  estadio_0  estadio_1  \\\n",
       "0        40        0        0       0        1      1          1          0   \n",
       "1        39        1        0       0        1      1          1          0   \n",
       "2        38        1        0       0        1      1          1          0   \n",
       "3        35        0        0       0        1      1          1          0   \n",
       "4        45        1        0       0        1      1          1          0   \n",
       "..      ...      ...      ...     ...      ...    ...        ...        ...   \n",
       "495      39        1        2       1        0      0          0          0   \n",
       "496      34        1        2       1        0      1          0          0   \n",
       "497      39        1        2       1        0      0          0          0   \n",
       "498      31        0        2       1        0      0          0          0   \n",
       "499      40        1        2       1        0      1          0          0   \n",
       "\n",
       "     estadio_2  \n",
       "0            0  \n",
       "1            0  \n",
       "2            0  \n",
       "3            0  \n",
       "4            0  \n",
       "..         ...  \n",
       "495          1  \n",
       "496          1  \n",
       "497          1  \n",
       "498          1  \n",
       "499          1  \n",
       "\n",
       "[500 rows x 9 columns]"
      ]
     },
     "execution_count": 436,
     "metadata": {},
     "output_type": "execute_result"
    }
   ],
   "source": [
    "SobrevidaPYdum= pd.concat([SobrevidaPY, dummies], axis=1)\n",
    "SobrevidaPYdum"
   ]
  },
  {
   "cell_type": "markdown",
   "metadata": {},
   "source": [
    "Estadío:"
   ]
  },
  {
   "cell_type": "markdown",
   "metadata": {},
   "source": [
    "creamos los grupos para esta covariable y el gráfico correspondiente."
   ]
  },
  {
   "cell_type": "code",
   "execution_count": 28,
   "metadata": {},
   "outputs": [
    {
     "data": {
      "text/plain": [
       "<matplotlib.axes._subplots.AxesSubplot at 0x1b7e9c157c8>"
      ]
     },
     "execution_count": 28,
     "metadata": {},
     "output_type": "execute_result"
    },
    {
     "data": {
      "image/png": "[encoded data removed]",
      "text/plain": [
       "<Figure size 576x288 with 1 Axes>"
      ]
     },
     "metadata": {
      "needs_background": "light"
     },
     "output_type": "display_data"
    }
   ],
   "source": [
    "groups = SobrevidaPY['estadio']\n",
    "\n",
    "ix0 = (groups == 0)\n",
    "ix1 = (groups == 1)\n",
    "ix2 = (groups == 2)\n",
    "\n",
    "kmf.fit(T[ix0], C[ix0], label=0)\n",
    "ax0 = kmf.plot()\n",
    "\n",
    "kmf.fit(T[ix1], C[ix1], label=1)\n",
    "ax1 = kmf.plot()\n",
    "\n",
    "\n",
    "kmf.fit(T[ix2], C[ix2], label=2)\n",
    "kmf.plot(ax=ax0)"
   ]
  },
  {
   "cell_type": "markdown",
   "metadata": {},
   "source": [
    "Importamos la librería correspondiente y creamos los grupos para la comparación mediante la dócima"
   ]
  },
  {
   "cell_type": "code",
   "execution_count": 29,
   "metadata": {},
   "outputs": [],
   "source": [
    "from lifelines.statistics import logrank_test"
   ]
  },
  {
   "cell_type": "code",
   "execution_count": 30,
   "metadata": {},
   "outputs": [],
   "source": [
    "group0=SobrevidaPY[SobrevidaPY['estadio']==0]\n",
    "group1=SobrevidaPY[SobrevidaPY['estadio']==1]\n",
    "group2=SobrevidaPY[SobrevidaPY['estadio']==2]\n",
    "T0=group0['tiempo']\n",
    "C0=group0['censura']\n",
    "T1=group1['tiempo']\n",
    "C1=group1['censura']\n",
    "T2=group2['tiempo']\n",
    "C2=group2['censura']\n",
    "\n",
    "kmf = KaplanMeierFitter()"
   ]
  },
  {
   "cell_type": "markdown",
   "metadata": {},
   "source": [
    "La dócima de Log Rank confirma la existencia diferencias significativas entre los 3 grupos."
   ]
  },
  {
   "cell_type": "markdown",
   "metadata": {},
   "source": [
    "Comparando el estadio cero con el estadio uno"
   ]
  },
  {
   "cell_type": "code",
   "execution_count": 397,
   "metadata": {},
   "outputs": [
    {
     "data": {
      "text/html": [
       "<div>\n",
       "<style scoped>\n",
       "    .dataframe tbody tr th:only-of-type {\n",
       "        vertical-align: middle;\n",
       "    }\n",
       "\n",
       "    .dataframe tbody tr th {\n",
       "        vertical-align: top;\n",
       "    }\n",
       "\n",
       "    .dataframe thead th {\n",
       "        text-align: right;\n",
       "    }\n",
       "</style>\n",
       "<table border=\"1\" class=\"dataframe\">\n",
       "  <thead>\n",
       "    <tr style=\"text-align: right;\">\n",
       "      <th></th>\n",
       "      <th>test_statistic</th>\n",
       "      <th>p</th>\n",
       "    </tr>\n",
       "  </thead>\n",
       "  <tbody>\n",
       "    <tr>\n",
       "      <th>0</th>\n",
       "      <td>1.360147</td>\n",
       "      <td>0.243512</td>\n",
       "    </tr>\n",
       "  </tbody>\n",
       "</table>\n",
       "</div>"
      ],
      "text/latex": [
       "\\begin{tabular}{lrr}\n",
       "\\toprule\n",
       "{} &  test\\_statistic &         p \\\\\n",
       "\\midrule\n",
       "0 &        1.360147 &  0.243512 \\\\\n",
       "\\bottomrule\n",
       "\\end{tabular}\n"
      ],
      "text/plain": [
       "   test_statistic         p\n",
       "0        1.360147  0.243512"
      ]
     },
     "execution_count": 397,
     "metadata": {},
     "output_type": "execute_result"
    }
   ],
   "source": [
    "results = logrank_test(T0, T1, event_observed_A=C0, event_observed_B=C1) \n",
    "results.summary"
   ]
  },
  {
   "cell_type": "markdown",
   "metadata": {},
   "source": [
    "\n",
    "Comparando el estadio uno con el estadio dos\n"
   ]
  },
  {
   "cell_type": "code",
   "execution_count": 398,
   "metadata": {},
   "outputs": [
    {
     "data": {
      "text/html": [
       "<div>\n",
       "<style scoped>\n",
       "    .dataframe tbody tr th:only-of-type {\n",
       "        vertical-align: middle;\n",
       "    }\n",
       "\n",
       "    .dataframe tbody tr th {\n",
       "        vertical-align: top;\n",
       "    }\n",
       "\n",
       "    .dataframe thead th {\n",
       "        text-align: right;\n",
       "    }\n",
       "</style>\n",
       "<table border=\"1\" class=\"dataframe\">\n",
       "  <thead>\n",
       "    <tr style=\"text-align: right;\">\n",
       "      <th></th>\n",
       "      <th>test_statistic</th>\n",
       "      <th>p</th>\n",
       "    </tr>\n",
       "  </thead>\n",
       "  <tbody>\n",
       "    <tr>\n",
       "      <th>0</th>\n",
       "      <td>3.3485</td>\n",
       "      <td>0.067266</td>\n",
       "    </tr>\n",
       "  </tbody>\n",
       "</table>\n",
       "</div>"
      ],
      "text/latex": [
       "\\begin{tabular}{lrr}\n",
       "\\toprule\n",
       "{} &  test\\_statistic &         p \\\\\n",
       "\\midrule\n",
       "0 &          3.3485 &  0.067266 \\\\\n",
       "\\bottomrule\n",
       "\\end{tabular}\n"
      ],
      "text/plain": [
       "   test_statistic         p\n",
       "0          3.3485  0.067266"
      ]
     },
     "execution_count": 398,
     "metadata": {},
     "output_type": "execute_result"
    }
   ],
   "source": [
    "results = logrank_test(T1, T2, event_observed_A=C1, event_observed_B=C2) \n",
    "results.summary\n"
   ]
  },
  {
   "cell_type": "markdown",
   "metadata": {},
   "source": [
    "\n",
    "Comparando el estadio cero con el estadio dos\n"
   ]
  },
  {
   "cell_type": "code",
   "execution_count": 399,
   "metadata": {
    "scrolled": true
   },
   "outputs": [
    {
     "data": {
      "text/html": [
       "<div>\n",
       "<style scoped>\n",
       "    .dataframe tbody tr th:only-of-type {\n",
       "        vertical-align: middle;\n",
       "    }\n",
       "\n",
       "    .dataframe tbody tr th {\n",
       "        vertical-align: top;\n",
       "    }\n",
       "\n",
       "    .dataframe thead th {\n",
       "        text-align: right;\n",
       "    }\n",
       "</style>\n",
       "<table border=\"1\" class=\"dataframe\">\n",
       "  <thead>\n",
       "    <tr style=\"text-align: right;\">\n",
       "      <th></th>\n",
       "      <th>test_statistic</th>\n",
       "      <th>p</th>\n",
       "    </tr>\n",
       "  </thead>\n",
       "  <tbody>\n",
       "    <tr>\n",
       "      <th>0</th>\n",
       "      <td>0.183951</td>\n",
       "      <td>0.668</td>\n",
       "    </tr>\n",
       "  </tbody>\n",
       "</table>\n",
       "</div>"
      ],
      "text/latex": [
       "\\begin{tabular}{lrr}\n",
       "\\toprule\n",
       "{} &  test\\_statistic &      p \\\\\n",
       "\\midrule\n",
       "0 &        0.183951 &  0.668 \\\\\n",
       "\\bottomrule\n",
       "\\end{tabular}\n"
      ],
      "text/plain": [
       "   test_statistic      p\n",
       "0        0.183951  0.668"
      ]
     },
     "execution_count": 399,
     "metadata": {},
     "output_type": "execute_result"
    }
   ],
   "source": [
    "results = logrank_test(T0, T2, event_observed_A=C0, event_observed_B=C2) \n",
    "results.summary"
   ]
  },
  {
   "cell_type": "markdown",
   "metadata": {},
   "source": [
    "Tabaco:"
   ]
  },
  {
   "cell_type": "markdown",
   "metadata": {},
   "source": [
    "Los pacientes con hábito de tabaquismo parecen ser más riesgosos.\n"
   ]
  },
  {
   "cell_type": "code",
   "execution_count": 34,
   "metadata": {},
   "outputs": [
    {
     "data": {
      "text/plain": [
       "<matplotlib.axes._subplots.AxesSubplot at 0x1b7e9cbc108>"
      ]
     },
     "execution_count": 34,
     "metadata": {},
     "output_type": "execute_result"
    },
    {
     "data": {
      "image/png": "[encoded data removed]",
      "text/plain": [
       "<Figure size 576x288 with 1 Axes>"
      ]
     },
     "metadata": {
      "needs_background": "light"
     },
     "output_type": "display_data"
    }
   ],
   "source": [
    "groups = SobrevidaPY['tabaco']\n",
    "ix = (groups == 0)\n",
    "\n",
    "kmf.fit(T[~ix], C[~ix], label=\"No Fuma\")\n",
    "ax = kmf.plot()\n",
    "\n",
    "kmf.fit(T[ix], C[ix], label=\"Fuma\")\n",
    "kmf.plot(ax=ax)"
   ]
  },
  {
   "cell_type": "markdown",
   "metadata": {},
   "source": [
    "La dócima de Log Rank confirma un efecto significativo de la covariable sobre la variable de interés. Aunque el valor del test estadístico es levemente diferente al entregado por Stata y R.\n"
   ]
  },
  {
   "cell_type": "code",
   "execution_count": 35,
   "metadata": {},
   "outputs": [],
   "source": [
    "group0=SobrevidaPY[SobrevidaPY['tabaco']==0]\n",
    "group1=SobrevidaPY[SobrevidaPY['tabaco']==1]\n",
    "\n",
    "T0=group0['tiempo']\n",
    "C0=group0['censura']\n",
    "T1=group1['tiempo']\n",
    "C1=group1['censura']\n",
    "\n",
    "kmf = KaplanMeierFitter()"
   ]
  },
  {
   "cell_type": "code",
   "execution_count": 400,
   "metadata": {},
   "outputs": [
    {
     "data": {
      "text/html": [
       "<div>\n",
       "<style scoped>\n",
       "    .dataframe tbody tr th:only-of-type {\n",
       "        vertical-align: middle;\n",
       "    }\n",
       "\n",
       "    .dataframe tbody tr th {\n",
       "        vertical-align: top;\n",
       "    }\n",
       "\n",
       "    .dataframe thead th {\n",
       "        text-align: right;\n",
       "    }\n",
       "</style>\n",
       "<table border=\"1\" class=\"dataframe\">\n",
       "  <thead>\n",
       "    <tr style=\"text-align: right;\">\n",
       "      <th></th>\n",
       "      <th>test_statistic</th>\n",
       "      <th>p</th>\n",
       "    </tr>\n",
       "  </thead>\n",
       "  <tbody>\n",
       "    <tr>\n",
       "      <th>0</th>\n",
       "      <td>1.360147</td>\n",
       "      <td>0.243512</td>\n",
       "    </tr>\n",
       "  </tbody>\n",
       "</table>\n",
       "</div>"
      ],
      "text/latex": [
       "\\begin{tabular}{lrr}\n",
       "\\toprule\n",
       "{} &  test\\_statistic &         p \\\\\n",
       "\\midrule\n",
       "0 &        1.360147 &  0.243512 \\\\\n",
       "\\bottomrule\n",
       "\\end{tabular}\n"
      ],
      "text/plain": [
       "   test_statistic         p\n",
       "0        1.360147  0.243512"
      ]
     },
     "execution_count": 400,
     "metadata": {},
     "output_type": "execute_result"
    }
   ],
   "source": [
    "results = logrank_test(T0, T1, event_observed_A=C0, event_observed_B=C1) \n",
    "results.summary"
   ]
  },
  {
   "cell_type": "markdown",
   "metadata": {},
   "source": [
    "Alcohol:\n",
    "\n",
    "Los pacientes con hábito de consumo de alcohol presentan una sobrevida superior.\n"
   ]
  },
  {
   "cell_type": "code",
   "execution_count": 37,
   "metadata": {},
   "outputs": [
    {
     "data": {
      "text/plain": [
       "<matplotlib.axes._subplots.AxesSubplot at 0x1b7e9d24608>"
      ]
     },
     "execution_count": 37,
     "metadata": {},
     "output_type": "execute_result"
    },
    {
     "data": {
      "image/png": "[encoded data removed]",
      "text/plain": [
       "<Figure size 576x288 with 1 Axes>"
      ]
     },
     "metadata": {
      "needs_background": "light"
     },
     "output_type": "display_data"
    }
   ],
   "source": [
    "groups = SobrevidaPY['alcohol']\n",
    "ix = (groups == 0)\n",
    "kmf.fit(T[~ix], C[~ix], label=\"No bebe\")\n",
    "ax = kmf.plot()\n",
    "kmf.fit(T[ix], C[ix], label=\"Bebe\")\n",
    "kmf.plot(ax=ax)"
   ]
  },
  {
   "cell_type": "markdown",
   "metadata": {},
   "source": [
    "La dócima de Log Rank muestra un efecto significativo de la covariable sobre la variable de interés. Aunque el valor del test estadístico es levemente diferente al entregado por Stata y R."
   ]
  },
  {
   "cell_type": "code",
   "execution_count": 38,
   "metadata": {},
   "outputs": [],
   "source": [
    "group0=SobrevidaPY[SobrevidaPY['alcohol']==0]\n",
    "group1=SobrevidaPY[SobrevidaPY['alcohol']==1]\n",
    "\n",
    "T0=group0['tiempo']\n",
    "C0=group0['censura']\n",
    "T1=group1['tiempo']\n",
    "C1=group1['censura']\n",
    "\n",
    "kmf = KaplanMeierFitter()"
   ]
  },
  {
   "cell_type": "code",
   "execution_count": 401,
   "metadata": {},
   "outputs": [
    {
     "data": {
      "text/html": [
       "<div>\n",
       "<style scoped>\n",
       "    .dataframe tbody tr th:only-of-type {\n",
       "        vertical-align: middle;\n",
       "    }\n",
       "\n",
       "    .dataframe tbody tr th {\n",
       "        vertical-align: top;\n",
       "    }\n",
       "\n",
       "    .dataframe thead th {\n",
       "        text-align: right;\n",
       "    }\n",
       "</style>\n",
       "<table border=\"1\" class=\"dataframe\">\n",
       "  <thead>\n",
       "    <tr style=\"text-align: right;\">\n",
       "      <th></th>\n",
       "      <th>test_statistic</th>\n",
       "      <th>p</th>\n",
       "    </tr>\n",
       "  </thead>\n",
       "  <tbody>\n",
       "    <tr>\n",
       "      <th>0</th>\n",
       "      <td>1.360147</td>\n",
       "      <td>0.243512</td>\n",
       "    </tr>\n",
       "  </tbody>\n",
       "</table>\n",
       "</div>"
      ],
      "text/latex": [
       "\\begin{tabular}{lrr}\n",
       "\\toprule\n",
       "{} &  test\\_statistic &         p \\\\\n",
       "\\midrule\n",
       "0 &        1.360147 &  0.243512 \\\\\n",
       "\\bottomrule\n",
       "\\end{tabular}\n"
      ],
      "text/plain": [
       "   test_statistic         p\n",
       "0        1.360147  0.243512"
      ]
     },
     "execution_count": 401,
     "metadata": {},
     "output_type": "execute_result"
    }
   ],
   "source": [
    "results = logrank_test(T0, T1, event_observed_A=C0, event_observed_B=C1) \n",
    "results.summary"
   ]
  },
  {
   "cell_type": "markdown",
   "metadata": {},
   "source": [
    "Antecedentes Familiares:\n",
    "Parece no existir un efecto significativo de esta covariable sobre el evento de interés."
   ]
  },
  {
   "cell_type": "code",
   "execution_count": 40,
   "metadata": {},
   "outputs": [
    {
     "data": {
      "text/plain": [
       "<matplotlib.axes._subplots.AxesSubplot at 0x1b7e9db75c8>"
      ]
     },
     "execution_count": 40,
     "metadata": {},
     "output_type": "execute_result"
    },
    {
     "data": {
      "image/png": "[encoded data removed]",
      "text/plain": [
       "<Figure size 576x288 with 1 Axes>"
      ]
     },
     "metadata": {
      "needs_background": "light"
     },
     "output_type": "display_data"
    }
   ],
   "source": [
    "groups = SobrevidaPY['antec']\n",
    "ix = (groups == 0)\n",
    "kmf.fit(T[~ix], C[~ix], label=0)\n",
    "ax = kmf.plot()\n",
    "kmf.fit(T[ix], C[ix], label=1)\n",
    "kmf.plot(ax=ax)"
   ]
  },
  {
   "cell_type": "markdown",
   "metadata": {},
   "source": [
    "La dócima de Log Rank no muestra un efecto significativo de la covariable sobre la variable de interés."
   ]
  },
  {
   "cell_type": "code",
   "execution_count": 41,
   "metadata": {},
   "outputs": [],
   "source": [
    "group0=SobrevidaPY[SobrevidaPY['antec']==0]\n",
    "group1=SobrevidaPY[SobrevidaPY['antec']==1]\n",
    "\n",
    "T0=group0['tiempo']\n",
    "C0=group0['censura']\n",
    "T1=group1['tiempo']\n",
    "C1=group1['censura']\n",
    "\n",
    "kmf = KaplanMeierFitter()"
   ]
  },
  {
   "cell_type": "code",
   "execution_count": 402,
   "metadata": {},
   "outputs": [
    {
     "data": {
      "text/html": [
       "<div>\n",
       "<style scoped>\n",
       "    .dataframe tbody tr th:only-of-type {\n",
       "        vertical-align: middle;\n",
       "    }\n",
       "\n",
       "    .dataframe tbody tr th {\n",
       "        vertical-align: top;\n",
       "    }\n",
       "\n",
       "    .dataframe thead th {\n",
       "        text-align: right;\n",
       "    }\n",
       "</style>\n",
       "<table border=\"1\" class=\"dataframe\">\n",
       "  <thead>\n",
       "    <tr style=\"text-align: right;\">\n",
       "      <th></th>\n",
       "      <th>test_statistic</th>\n",
       "      <th>p</th>\n",
       "    </tr>\n",
       "  </thead>\n",
       "  <tbody>\n",
       "    <tr>\n",
       "      <th>0</th>\n",
       "      <td>1.360147</td>\n",
       "      <td>0.243512</td>\n",
       "    </tr>\n",
       "  </tbody>\n",
       "</table>\n",
       "</div>"
      ],
      "text/latex": [
       "\\begin{tabular}{lrr}\n",
       "\\toprule\n",
       "{} &  test\\_statistic &         p \\\\\n",
       "\\midrule\n",
       "0 &        1.360147 &  0.243512 \\\\\n",
       "\\bottomrule\n",
       "\\end{tabular}\n"
      ],
      "text/plain": [
       "   test_statistic         p\n",
       "0        1.360147  0.243512"
      ]
     },
     "execution_count": 402,
     "metadata": {},
     "output_type": "execute_result"
    }
   ],
   "source": [
    "results = logrank_test(T0, T1, event_observed_A=C0, event_observed_B=C1) \n",
    "results.summary"
   ]
  },
  {
   "cell_type": "markdown",
   "metadata": {},
   "source": [
    "Para evaluar la proporcionalidad de los riesgos realizaremos el modelo completo de riesgos proporcionales de Cox. \n",
    "Utilizaremos check_assumptions y proportional hazar test para este efecto. \n",
    "Por otro lado, debido al notorio desbalance de la variable estadío, ocurre multicolinealidad, por lo que sólo se debe considerar la variable dummy estadio_2. \n",
    "A diferencia de R y Python, Stata detecta la multicolinelidad y hace la exclusión automáticamente."
   ]
  },
  {
   "cell_type": "markdown",
   "metadata": {},
   "source": [
    "Eliminamos entonces la covariable y las variables dummy que producen multicolinealidad."
   ]
  },
  {
   "cell_type": "code",
   "execution_count": 180,
   "metadata": {},
   "outputs": [],
   "source": [
    "SobrevidaPYdum=SobrevidaPYdum.drop(['estadio'], axis=1)\n",
    "SobrevidaPYdum=SobrevidaPYdum.drop(['estadio_0'], axis=1)\n",
    "SobrevidaPYdum=SobrevidaPYdum.drop(['estadio_1'], axis=1)"
   ]
  },
  {
   "cell_type": "code",
   "execution_count": 145,
   "metadata": {},
   "outputs": [
    {
     "data": {
      "text/html": [
       "<div>\n",
       "<style scoped>\n",
       "    .dataframe tbody tr th:only-of-type {\n",
       "        vertical-align: middle;\n",
       "    }\n",
       "\n",
       "    .dataframe tbody tr th {\n",
       "        vertical-align: top;\n",
       "    }\n",
       "\n",
       "    .dataframe thead th {\n",
       "        text-align: right;\n",
       "    }\n",
       "</style>\n",
       "<table border=\"1\" class=\"dataframe\">\n",
       "  <thead>\n",
       "    <tr style=\"text-align: right;\">\n",
       "      <th></th>\n",
       "      <th>tiempo</th>\n",
       "      <th>censura</th>\n",
       "      <th>tabaco</th>\n",
       "      <th>alcohol</th>\n",
       "      <th>antec</th>\n",
       "      <th>estadio_2</th>\n",
       "    </tr>\n",
       "  </thead>\n",
       "  <tbody>\n",
       "    <tr>\n",
       "      <th>0</th>\n",
       "      <td>40</td>\n",
       "      <td>0</td>\n",
       "      <td>0</td>\n",
       "      <td>1</td>\n",
       "      <td>1</td>\n",
       "      <td>0</td>\n",
       "    </tr>\n",
       "    <tr>\n",
       "      <th>1</th>\n",
       "      <td>39</td>\n",
       "      <td>1</td>\n",
       "      <td>0</td>\n",
       "      <td>1</td>\n",
       "      <td>1</td>\n",
       "      <td>0</td>\n",
       "    </tr>\n",
       "    <tr>\n",
       "      <th>2</th>\n",
       "      <td>38</td>\n",
       "      <td>1</td>\n",
       "      <td>0</td>\n",
       "      <td>1</td>\n",
       "      <td>1</td>\n",
       "      <td>0</td>\n",
       "    </tr>\n",
       "    <tr>\n",
       "      <th>3</th>\n",
       "      <td>35</td>\n",
       "      <td>0</td>\n",
       "      <td>0</td>\n",
       "      <td>1</td>\n",
       "      <td>1</td>\n",
       "      <td>0</td>\n",
       "    </tr>\n",
       "    <tr>\n",
       "      <th>4</th>\n",
       "      <td>45</td>\n",
       "      <td>1</td>\n",
       "      <td>0</td>\n",
       "      <td>1</td>\n",
       "      <td>1</td>\n",
       "      <td>0</td>\n",
       "    </tr>\n",
       "    <tr>\n",
       "      <th>...</th>\n",
       "      <td>...</td>\n",
       "      <td>...</td>\n",
       "      <td>...</td>\n",
       "      <td>...</td>\n",
       "      <td>...</td>\n",
       "      <td>...</td>\n",
       "    </tr>\n",
       "    <tr>\n",
       "      <th>495</th>\n",
       "      <td>39</td>\n",
       "      <td>1</td>\n",
       "      <td>1</td>\n",
       "      <td>0</td>\n",
       "      <td>0</td>\n",
       "      <td>1</td>\n",
       "    </tr>\n",
       "    <tr>\n",
       "      <th>496</th>\n",
       "      <td>34</td>\n",
       "      <td>1</td>\n",
       "      <td>1</td>\n",
       "      <td>0</td>\n",
       "      <td>1</td>\n",
       "      <td>1</td>\n",
       "    </tr>\n",
       "    <tr>\n",
       "      <th>497</th>\n",
       "      <td>39</td>\n",
       "      <td>1</td>\n",
       "      <td>1</td>\n",
       "      <td>0</td>\n",
       "      <td>0</td>\n",
       "      <td>1</td>\n",
       "    </tr>\n",
       "    <tr>\n",
       "      <th>498</th>\n",
       "      <td>31</td>\n",
       "      <td>0</td>\n",
       "      <td>1</td>\n",
       "      <td>0</td>\n",
       "      <td>0</td>\n",
       "      <td>1</td>\n",
       "    </tr>\n",
       "    <tr>\n",
       "      <th>499</th>\n",
       "      <td>40</td>\n",
       "      <td>1</td>\n",
       "      <td>1</td>\n",
       "      <td>0</td>\n",
       "      <td>1</td>\n",
       "      <td>1</td>\n",
       "    </tr>\n",
       "  </tbody>\n",
       "</table>\n",
       "<p>500 rows × 6 columns</p>\n",
       "</div>"
      ],
      "text/plain": [
       "     tiempo  censura  tabaco  alcohol  antec  estadio_2\n",
       "0        40        0       0        1      1          0\n",
       "1        39        1       0        1      1          0\n",
       "2        38        1       0        1      1          0\n",
       "3        35        0       0        1      1          0\n",
       "4        45        1       0        1      1          0\n",
       "..      ...      ...     ...      ...    ...        ...\n",
       "495      39        1       1        0      0          1\n",
       "496      34        1       1        0      1          1\n",
       "497      39        1       1        0      0          1\n",
       "498      31        0       1        0      0          1\n",
       "499      40        1       1        0      1          1\n",
       "\n",
       "[500 rows x 6 columns]"
      ]
     },
     "execution_count": 145,
     "metadata": {},
     "output_type": "execute_result"
    }
   ],
   "source": [
    "SobrevidaPYdum"
   ]
  },
  {
   "cell_type": "markdown",
   "metadata": {},
   "source": [
    "Importamos las librerías necesaria para el modelo semiparamétrico de Cox y entrenamos el modelo."
   ]
  },
  {
   "cell_type": "code",
   "execution_count": 146,
   "metadata": {},
   "outputs": [
    {
     "data": {
      "text/plain": [
       "<lifelines.CoxPHFitter: fitted with 500 total observations, 79 right-censored observations>"
      ]
     },
     "execution_count": 146,
     "metadata": {},
     "output_type": "execute_result"
    }
   ],
   "source": [
    "from matplotlib import pyplot as plt\n",
    "from lifelines import CoxPHFitter\n",
    "cph = CoxPHFitter()\n",
    "\n",
    "cph.fit(SobrevidaPYdum, \"tiempo\", \"censura\")"
   ]
  },
  {
   "cell_type": "markdown",
   "metadata": {},
   "source": [
    "Resultados del modelo de Cox"
   ]
  },
  {
   "cell_type": "code",
   "execution_count": 434,
   "metadata": {
    "scrolled": true
   },
   "outputs": [
    {
     "data": {
      "text/html": [
       "<div>\n",
       "<style scoped>\n",
       "    .dataframe tbody tr th:only-of-type {\n",
       "        vertical-align: middle;\n",
       "    }\n",
       "\n",
       "    .dataframe tbody tr th {\n",
       "        vertical-align: top;\n",
       "    }\n",
       "\n",
       "    .dataframe thead th {\n",
       "        text-align: right;\n",
       "    }\n",
       "</style>\n",
       "<table border=\"1\" class=\"dataframe\">\n",
       "  <thead>\n",
       "    <tr style=\"text-align: right;\">\n",
       "      <th></th>\n",
       "      <th>coef</th>\n",
       "      <th>exp(coef)</th>\n",
       "      <th>se(coef)</th>\n",
       "      <th>coef lower 95%</th>\n",
       "      <th>coef upper 95%</th>\n",
       "      <th>exp(coef) lower 95%</th>\n",
       "      <th>exp(coef) upper 95%</th>\n",
       "      <th>z</th>\n",
       "      <th>p</th>\n",
       "      <th>-log2(p)</th>\n",
       "    </tr>\n",
       "  </thead>\n",
       "  <tbody>\n",
       "    <tr>\n",
       "      <th>tabaco</th>\n",
       "      <td>0.024019</td>\n",
       "      <td>1.024310</td>\n",
       "      <td>0.208357</td>\n",
       "      <td>-0.384354</td>\n",
       "      <td>0.432393</td>\n",
       "      <td>0.680891</td>\n",
       "      <td>1.540940</td>\n",
       "      <td>0.115280</td>\n",
       "      <td>0.908223</td>\n",
       "      <td>0.138881</td>\n",
       "    </tr>\n",
       "    <tr>\n",
       "      <th>alcohol</th>\n",
       "      <td>-0.414207</td>\n",
       "      <td>0.660864</td>\n",
       "      <td>0.309502</td>\n",
       "      <td>-1.020819</td>\n",
       "      <td>0.192406</td>\n",
       "      <td>0.360300</td>\n",
       "      <td>1.212162</td>\n",
       "      <td>-1.338301</td>\n",
       "      <td>0.180798</td>\n",
       "      <td>2.467547</td>\n",
       "    </tr>\n",
       "    <tr>\n",
       "      <th>antec</th>\n",
       "      <td>0.084418</td>\n",
       "      <td>1.088084</td>\n",
       "      <td>0.128977</td>\n",
       "      <td>-0.168373</td>\n",
       "      <td>0.337209</td>\n",
       "      <td>0.845039</td>\n",
       "      <td>1.401031</td>\n",
       "      <td>0.654518</td>\n",
       "      <td>0.512778</td>\n",
       "      <td>0.963594</td>\n",
       "    </tr>\n",
       "    <tr>\n",
       "      <th>estadio_2</th>\n",
       "      <td>0.266541</td>\n",
       "      <td>1.305441</td>\n",
       "      <td>0.128734</td>\n",
       "      <td>0.014226</td>\n",
       "      <td>0.518856</td>\n",
       "      <td>1.014328</td>\n",
       "      <td>1.680104</td>\n",
       "      <td>2.070470</td>\n",
       "      <td>0.038408</td>\n",
       "      <td>4.702437</td>\n",
       "    </tr>\n",
       "  </tbody>\n",
       "</table>\n",
       "</div>"
      ],
      "text/latex": [
       "\\begin{tabular}{lrrrrrrrrrr}\n",
       "\\toprule\n",
       "{} &      coef &  exp(coef) &  se(coef) &  coef lower 95\\% &  coef upper 95\\% &  exp(coef) lower 95\\% &  exp(coef) upper 95\\% &         z &         p &  -log2(p) \\\\\n",
       "\\midrule\n",
       "tabaco    &  0.024019 &   1.024310 &  0.208357 &       -0.384354 &        0.432393 &             0.680891 &             1.540940 &  0.115280 &  0.908223 &  0.138881 \\\\\n",
       "alcohol   & -0.414207 &   0.660864 &  0.309502 &       -1.020819 &        0.192406 &             0.360300 &             1.212162 & -1.338301 &  0.180798 &  2.467547 \\\\\n",
       "antec     &  0.084418 &   1.088084 &  0.128977 &       -0.168373 &        0.337209 &             0.845039 &             1.401031 &  0.654518 &  0.512778 &  0.963594 \\\\\n",
       "estadio\\_2 &  0.266541 &   1.305441 &  0.128734 &        0.014226 &        0.518856 &             1.014328 &             1.680104 &  2.070470 &  0.038408 &  4.702437 \\\\\n",
       "\\bottomrule\n",
       "\\end{tabular}\n"
      ],
      "text/plain": [
       "               coef  exp(coef)  se(coef)  coef lower 95%  coef upper 95%  \\\n",
       "tabaco     0.024019   1.024310  0.208357       -0.384354        0.432393   \n",
       "alcohol   -0.414207   0.660864  0.309502       -1.020819        0.192406   \n",
       "antec      0.084418   1.088084  0.128977       -0.168373        0.337209   \n",
       "estadio_2  0.266541   1.305441  0.128734        0.014226        0.518856   \n",
       "\n",
       "           exp(coef) lower 95%  exp(coef) upper 95%         z         p  \\\n",
       "tabaco                0.680891             1.540940  0.115280  0.908223   \n",
       "alcohol               0.360300             1.212162 -1.338301  0.180798   \n",
       "antec                 0.845039             1.401031  0.654518  0.512778   \n",
       "estadio_2             1.014328             1.680104  2.070470  0.038408   \n",
       "\n",
       "           -log2(p)  \n",
       "tabaco     0.138881  \n",
       "alcohol    2.467547  \n",
       "antec      0.963594  \n",
       "estadio_2  4.702437  "
      ]
     },
     "execution_count": 434,
     "metadata": {},
     "output_type": "execute_result"
    }
   ],
   "source": [
    "cph.summary"
   ]
  },
  {
   "cell_type": "code",
   "execution_count": 148,
   "metadata": {},
   "outputs": [
    {
     "data": {
      "text/plain": [
       "<matplotlib.axes._subplots.AxesSubplot at 0x1b7ed985088>"
      ]
     },
     "execution_count": 148,
     "metadata": {},
     "output_type": "execute_result"
    },
    {
     "data": {
      "image/png": "[encoded data removed]",
      "text/plain": [
       "<Figure size 576x288 with 1 Axes>"
      ]
     },
     "metadata": {
      "needs_background": "light"
     },
     "output_type": "display_data"
    }
   ],
   "source": [
    "cph.plot()"
   ]
  },
  {
   "cell_type": "markdown",
   "metadata": {},
   "source": [
    "Lifelines entrega un reporte muy completo en el que, entre otras situaciones, se revisan los residuos de schoenfeld. Sin embargo al no encontrar inconsistencia en la proporcionalidad de los riersgos el informe sólo se reduce al siguiente mensaje."
   ]
  },
  {
   "cell_type": "code",
   "execution_count": 149,
   "metadata": {},
   "outputs": [
    {
     "name": "stdout",
     "output_type": "stream",
     "text": [
      "Proportional hazard assumption looks okay.\n"
     ]
    }
   ],
   "source": [
    "cph.check_assumptions(SobrevidaPYdum, p_value_threshold=0.05, show_plots=True)  "
   ]
  },
  {
   "cell_type": "markdown",
   "metadata": {},
   "source": [
    "El informe mencionado anteriormente también contiene el siguiente test el cual es posible consultar individualmente invocando los comandos para observar, para cada variable, el valor del test estadístico aplicado y el p-value. "
   ]
  },
  {
   "cell_type": "code",
   "execution_count": 150,
   "metadata": {},
   "outputs": [
    {
     "data": {
      "text/html": [
       "<div>\n",
       "<style scoped>\n",
       "    .dataframe tbody tr th:only-of-type {\n",
       "        vertical-align: middle;\n",
       "    }\n",
       "\n",
       "    .dataframe tbody tr th {\n",
       "        vertical-align: top;\n",
       "    }\n",
       "\n",
       "    .dataframe thead th {\n",
       "        text-align: right;\n",
       "    }\n",
       "</style>\n",
       "<table border=\"1\" class=\"dataframe\">\n",
       "  <tbody>\n",
       "    <tr>\n",
       "      <th>time_transform</th>\n",
       "      <td>rank</td>\n",
       "    </tr>\n",
       "    <tr>\n",
       "      <th>null_distribution</th>\n",
       "      <td>chi squared</td>\n",
       "    </tr>\n",
       "    <tr>\n",
       "      <th>degrees_of_freedom</th>\n",
       "      <td>1</td>\n",
       "    </tr>\n",
       "    <tr>\n",
       "      <th>test_name</th>\n",
       "      <td>proportional_hazard_test</td>\n",
       "    </tr>\n",
       "    <tr>\n",
       "      <th>model</th>\n",
       "      <td>untransformed variables</td>\n",
       "    </tr>\n",
       "  </tbody>\n",
       "</table>\n",
       "</div><table border=\"1\" class=\"dataframe\">\n",
       "  <thead>\n",
       "    <tr style=\"text-align: right;\">\n",
       "      <th></th>\n",
       "      <th>test_statistic</th>\n",
       "      <th>p</th>\n",
       "    </tr>\n",
       "  </thead>\n",
       "  <tbody>\n",
       "    <tr>\n",
       "      <th>alcohol</th>\n",
       "      <td>2.778</td>\n",
       "      <td>0.096</td>\n",
       "    </tr>\n",
       "    <tr>\n",
       "      <th>antec</th>\n",
       "      <td>0.524</td>\n",
       "      <td>0.469</td>\n",
       "    </tr>\n",
       "    <tr>\n",
       "      <th>estadio_2</th>\n",
       "      <td>0.024</td>\n",
       "      <td>0.876</td>\n",
       "    </tr>\n",
       "    <tr>\n",
       "      <th>tabaco</th>\n",
       "      <td>1.098</td>\n",
       "      <td>0.295</td>\n",
       "    </tr>\n",
       "  </tbody>\n",
       "</table>"
      ],
      "text/plain": [
       "<IPython.core.display.HTML object>"
      ]
     },
     "metadata": {},
     "output_type": "display_data"
    }
   ],
   "source": [
    "from lifelines.statistics import proportional_hazard_test\n",
    "\n",
    "results = proportional_hazard_test(cph, SobrevidaPYdum, time_transform='rank')\n",
    "results.print_summary(decimals=3, model=\"untransformed variables\")"
   ]
  },
  {
   "cell_type": "markdown",
   "metadata": {},
   "source": [
    "Buscaremos un ajuste paramétrico dentro de la familia de las exponenciales."
   ]
  },
  {
   "cell_type": "markdown",
   "metadata": {},
   "source": [
    "Importamos la librería correspondiente"
   ]
  },
  {
   "cell_type": "code",
   "execution_count": 49,
   "metadata": {},
   "outputs": [],
   "source": [
    "import statsmodels.api as st"
   ]
  },
  {
   "cell_type": "markdown",
   "metadata": {},
   "source": [
    "Los datos distribuyen exponencial?"
   ]
  },
  {
   "cell_type": "code",
   "execution_count": 151,
   "metadata": {},
   "outputs": [
    {
     "data": {
      "text/plain": [
       "[<matplotlib.lines.Line2D at 0x1b7ed800a08>]"
      ]
     },
     "execution_count": 151,
     "metadata": {},
     "output_type": "execute_result"
    },
    {
     "data": {
      "image/png": "[encoded data removed]",
      "text/plain": [
       "<Figure size 576x288 with 1 Axes>"
      ]
     },
     "metadata": {
      "needs_background": "light"
     },
     "output_type": "display_data"
    }
   ],
   "source": [
    "kmf.fit(T,event_observed = C, label = \"All groups\")\n",
    "plt.figure()\n",
    "plt.plot(kmf.survival_function_.index.values,-np.log(kmf.survival_function_['All groups']),linewidth = 2.0)\n",
    "plt.ylabel('-ln(S(t))')\n",
    "plt.xlabel('Time')\n",
    "plt.title('Exponential')\n",
    "S=kmf.survival_function_[:50] # eliminamos el último registro por ser =0; -log(0)= infinito, lo que afecta a la correlación\n",
    "y = -np.log(S['All groups'])\n",
    "X = np.asarray(S.index.values)\n",
    "X = st.add_constant(X, prepend=False)\n",
    "linearmodel = st.OLS(y,X)\n",
    "linearmodelresults = linearmodel.fit()\n",
    "plt.plot(X[:,[0]],linearmodelresults.fittedvalues,'g--',linewidth = 2.0)"
   ]
  },
  {
   "cell_type": "markdown",
   "metadata": {},
   "source": [
    "No se observa un buen ajuste con la regresión exponencial"
   ]
  },
  {
   "cell_type": "markdown",
   "metadata": {},
   "source": [
    "Los datos distribuyen Weibull?"
   ]
  },
  {
   "cell_type": "code",
   "execution_count": 152,
   "metadata": {
    "scrolled": true
   },
   "outputs": [
    {
     "data": {
      "text/plain": [
       "[<matplotlib.lines.Line2D at 0x1b7ed60f908>]"
      ]
     },
     "execution_count": 152,
     "metadata": {},
     "output_type": "execute_result"
    },
    {
     "data": {
      "image/png": "[encoded data removed]",
      "text/plain": [
       "<Figure size 576x288 with 1 Axes>"
      ]
     },
     "metadata": {
      "needs_background": "light"
     },
     "output_type": "display_data"
    }
   ],
   "source": [
    "S=kmf.survival_function_[:50]\n",
    "plt.figure()\n",
    "plt.plot(np.log(S.index.values),np.log(-np.log(S['All groups'])),linewidth = 2.0)\n",
    "plt.ylabel('ln(-ln(S(t)))')\n",
    "plt.xlabel('ln(Time)')\n",
    "plt.title('Weibull')\n",
    "\n",
    "y = np.log(-np.log(S['All groups'].iloc[1:len(S)]))\n",
    "X = np.log(S.index.values[1:len(S.index.values)])\n",
    "X = st.add_constant(X, prepend=False)\n",
    "linearmodel = st.OLS(y,X)\n",
    "linearmodelresults = linearmodel.fit()\n",
    "plt.plot(X[:,[0]],linearmodelresults.fittedvalues,'g--',linewidth = 2.0)"
   ]
  },
  {
   "cell_type": "markdown",
   "metadata": {},
   "source": [
    "Al igual que Stata y R, el ajuste weibull se presenta como una buena alternativa."
   ]
  },
  {
   "cell_type": "markdown",
   "metadata": {},
   "source": [
    "Los datos distribuyen gompertz?"
   ]
  },
  {
   "cell_type": "code",
   "execution_count": 153,
   "metadata": {},
   "outputs": [
    {
     "data": {
      "text/plain": [
       "[<matplotlib.lines.Line2D at 0x1b7ed5e02c8>]"
      ]
     },
     "execution_count": 153,
     "metadata": {},
     "output_type": "execute_result"
    },
    {
     "data": {
      "image/png": "[encoded data removed]",
      "text/plain": [
       "<Figure size 576x288 with 1 Axes>"
      ]
     },
     "metadata": {
      "needs_background": "light"
     },
     "output_type": "display_data"
    }
   ],
   "source": [
    "S=kmf.survival_function_[:50]\n",
    "plt.figure()\n",
    "t_1 = S.iloc[0:len(S) - 1]\n",
    "t_2 = S.iloc[1:len(S)]\n",
    "gompertz_hazard = []\n",
    "gompertz_hazard.append(0)\n",
    "for index in range(len(t_1)):\n",
    "    #Because we are summing the log of the hazard, check if the \n",
    "    #hazard is zero between t_2 and t_1. \n",
    "    if (-np.log(t_2.iloc[index,0])+np.log(t_1.iloc[index,0])) > 0:\n",
    "        gompertz_hazard.append(gompertz_hazard[index] - np.log(-np.log(t_2.iloc[index,0])+np.log(t_1.iloc[index,0])))\n",
    "    else:\n",
    "    #If it is, append the latest value of the cumulative hazard at time t_2\n",
    "        gompertz_hazard.append(gompertz_hazard[index])\n",
    "plt.plot(t_1.index.values,gompertz_hazard[:-1],linewidth = 2.0)\n",
    "plt.title('Gompertz')\n",
    "plt.ylabel('-Integral(ln(h(t)))')\n",
    "plt.xlabel('Time')\n",
    "y = gompertz_hazard[:-1]\n",
    "X = t_1.index.values\n",
    "X = st.add_constant(X,prepend=False)\n",
    "linearmodel = st.OLS(y,X)\n",
    "linearmodelresults = linearmodel.fit()\n",
    "plt.plot(X[:,0],linearmodelresults.fittedvalues,'g--',linewidth = 2.0)"
   ]
  },
  {
   "cell_type": "markdown",
   "metadata": {},
   "source": [
    "Los datos distribuyen  Log-Logistic"
   ]
  },
  {
   "cell_type": "code",
   "execution_count": 154,
   "metadata": {
    "scrolled": true
   },
   "outputs": [
    {
     "data": {
      "text/plain": [
       "[<matplotlib.lines.Line2D at 0x1b7ed721788>]"
      ]
     },
     "execution_count": 154,
     "metadata": {},
     "output_type": "execute_result"
    },
    {
     "data": {
      "image/png": "[encoded data removed]",
      "text/plain": [
       "<Figure size 576x288 with 1 Axes>"
      ]
     },
     "metadata": {
      "needs_background": "light"
     },
     "output_type": "display_data"
    }
   ],
   "source": [
    "S=kmf.survival_function_[:50]\n",
    "plt.figure()\n",
    "plt.plot(np.log(S.index.values),-np.log(S['All groups']/(1-S['All groups'])),linewidth = 2.0)\n",
    "plt.ylabel('Probability of ending')\n",
    "plt.xlabel('Years')\n",
    "plt.title('Log-Logistic')\n",
    "plt.ylabel('-(ln(S(t)/(1-S(t))))')\n",
    "plt.xlabel('ln(Time)')\n",
    "y = -np.log(S['All groups'].iloc[1:len(S)]/(1-S['All groups'].iloc[1:len(S)]))\n",
    "X = np.log(S.index.values[1:len(S.index.values)])\n",
    "X = st.add_constant(X, prepend=False)\n",
    "linearmodel = st.OLS(y,X)\n",
    "linearmodelresults = linearmodel.fit()\n",
    "plt.plot(X[:,[0]],linearmodelresults.fittedvalues,'g--',linewidth = 2.0)"
   ]
  },
  {
   "cell_type": "code",
   "execution_count": 155,
   "metadata": {},
   "outputs": [],
   "source": [
    "from scipy.stats import norm"
   ]
  },
  {
   "cell_type": "markdown",
   "metadata": {},
   "source": [
    "Los datos distribuyen Log-Normal?"
   ]
  },
  {
   "cell_type": "code",
   "execution_count": 156,
   "metadata": {
    "scrolled": true
   },
   "outputs": [
    {
     "data": {
      "text/plain": [
       "[<matplotlib.lines.Line2D at 0x1b7edde0108>]"
      ]
     },
     "execution_count": 156,
     "metadata": {},
     "output_type": "execute_result"
    },
    {
     "data": {
      "image/png": "[encoded data removed]",
      "text/plain": [
       "<Figure size 576x288 with 1 Axes>"
      ]
     },
     "metadata": {
      "needs_background": "light"
     },
     "output_type": "display_data"
    }
   ],
   "source": [
    "S=kmf.survival_function_[:50]\n",
    "plt.figure()\n",
    "plt.plot(np.log(S.index.values),norm.ppf(1 - S['All groups']),linewidth = 2.0)\n",
    "plt.xlabel('Years')\n",
    "plt.title('Log-Normal')\n",
    "plt.ylabel('norm.ppf(1 - S(t))')\n",
    "plt.xlabel('ln(Time)')\n",
    "y = norm.ppf(1 - S['All groups'].iloc[1:len(S)])\n",
    "X = np.log(S.index.values[1:len(S.index.values)])\n",
    "X = st.add_constant(X, prepend=False)\n",
    "linearmodel = st.OLS(y,X)\n",
    "linearmodelresults = linearmodel.fit()\n",
    "plt.plot(X[:,[0]],linearmodelresults.fittedvalues,'g--',linewidth = 2.0)"
   ]
  },
  {
   "cell_type": "markdown",
   "metadata": {},
   "source": [
    "Ajustaremos los datos a un modelo paramétrico\n",
    "\n",
    "Creamos un objeto auxiliar que nos permita ingresar sólo las covariables necesarias para ensayar los modelos multivariados. "
   ]
  },
  {
   "cell_type": "code",
   "execution_count": 227,
   "metadata": {},
   "outputs": [],
   "source": [
    "SobrevidaPYdum1=SobrevidaPYdum"
   ]
  },
  {
   "cell_type": "code",
   "execution_count": 228,
   "metadata": {},
   "outputs": [],
   "source": [
    "SobrevidaPYdum1=SobrevidaPYdum1.drop(['tiempo'], axis=1)\n",
    "SobrevidaPYdum1=SobrevidaPYdum1.drop(['censura'], axis=1)"
   ]
  },
  {
   "cell_type": "code",
   "execution_count": 232,
   "metadata": {},
   "outputs": [],
   "source": [
    "censura=SobrevidaPYdum['censura']\n",
    "tiempo=SobrevidaPYdum['tiempo']"
   ]
  },
  {
   "cell_type": "code",
   "execution_count": 272,
   "metadata": {},
   "outputs": [],
   "source": [
    "SobrevidaPYdum1 = st.add_constant(SobrevidaPYdum1, prepend=False)"
   ]
  },
  {
   "cell_type": "code",
   "execution_count": 273,
   "metadata": {},
   "outputs": [
    {
     "data": {
      "text/html": [
       "<div>\n",
       "<style scoped>\n",
       "    .dataframe tbody tr th:only-of-type {\n",
       "        vertical-align: middle;\n",
       "    }\n",
       "\n",
       "    .dataframe tbody tr th {\n",
       "        vertical-align: top;\n",
       "    }\n",
       "\n",
       "    .dataframe thead th {\n",
       "        text-align: right;\n",
       "    }\n",
       "</style>\n",
       "<table border=\"1\" class=\"dataframe\">\n",
       "  <thead>\n",
       "    <tr style=\"text-align: right;\">\n",
       "      <th></th>\n",
       "      <th>tabaco</th>\n",
       "      <th>alcohol</th>\n",
       "      <th>antec</th>\n",
       "      <th>estadio_2</th>\n",
       "      <th>const</th>\n",
       "    </tr>\n",
       "  </thead>\n",
       "  <tbody>\n",
       "    <tr>\n",
       "      <th>0</th>\n",
       "      <td>0</td>\n",
       "      <td>1</td>\n",
       "      <td>1</td>\n",
       "      <td>0</td>\n",
       "      <td>1.0</td>\n",
       "    </tr>\n",
       "    <tr>\n",
       "      <th>1</th>\n",
       "      <td>0</td>\n",
       "      <td>1</td>\n",
       "      <td>1</td>\n",
       "      <td>0</td>\n",
       "      <td>1.0</td>\n",
       "    </tr>\n",
       "    <tr>\n",
       "      <th>2</th>\n",
       "      <td>0</td>\n",
       "      <td>1</td>\n",
       "      <td>1</td>\n",
       "      <td>0</td>\n",
       "      <td>1.0</td>\n",
       "    </tr>\n",
       "    <tr>\n",
       "      <th>3</th>\n",
       "      <td>0</td>\n",
       "      <td>1</td>\n",
       "      <td>1</td>\n",
       "      <td>0</td>\n",
       "      <td>1.0</td>\n",
       "    </tr>\n",
       "    <tr>\n",
       "      <th>4</th>\n",
       "      <td>0</td>\n",
       "      <td>1</td>\n",
       "      <td>1</td>\n",
       "      <td>0</td>\n",
       "      <td>1.0</td>\n",
       "    </tr>\n",
       "    <tr>\n",
       "      <th>...</th>\n",
       "      <td>...</td>\n",
       "      <td>...</td>\n",
       "      <td>...</td>\n",
       "      <td>...</td>\n",
       "      <td>...</td>\n",
       "    </tr>\n",
       "    <tr>\n",
       "      <th>495</th>\n",
       "      <td>1</td>\n",
       "      <td>0</td>\n",
       "      <td>0</td>\n",
       "      <td>1</td>\n",
       "      <td>1.0</td>\n",
       "    </tr>\n",
       "    <tr>\n",
       "      <th>496</th>\n",
       "      <td>1</td>\n",
       "      <td>0</td>\n",
       "      <td>1</td>\n",
       "      <td>1</td>\n",
       "      <td>1.0</td>\n",
       "    </tr>\n",
       "    <tr>\n",
       "      <th>497</th>\n",
       "      <td>1</td>\n",
       "      <td>0</td>\n",
       "      <td>0</td>\n",
       "      <td>1</td>\n",
       "      <td>1.0</td>\n",
       "    </tr>\n",
       "    <tr>\n",
       "      <th>498</th>\n",
       "      <td>1</td>\n",
       "      <td>0</td>\n",
       "      <td>0</td>\n",
       "      <td>1</td>\n",
       "      <td>1.0</td>\n",
       "    </tr>\n",
       "    <tr>\n",
       "      <th>499</th>\n",
       "      <td>1</td>\n",
       "      <td>0</td>\n",
       "      <td>1</td>\n",
       "      <td>1</td>\n",
       "      <td>1.0</td>\n",
       "    </tr>\n",
       "  </tbody>\n",
       "</table>\n",
       "<p>500 rows × 5 columns</p>\n",
       "</div>"
      ],
      "text/plain": [
       "     tabaco  alcohol  antec  estadio_2  const\n",
       "0         0        1      1          0    1.0\n",
       "1         0        1      1          0    1.0\n",
       "2         0        1      1          0    1.0\n",
       "3         0        1      1          0    1.0\n",
       "4         0        1      1          0    1.0\n",
       "..      ...      ...    ...        ...    ...\n",
       "495       1        0      0          1    1.0\n",
       "496       1        0      1          1    1.0\n",
       "497       1        0      0          1    1.0\n",
       "498       1        0      0          1    1.0\n",
       "499       1        0      1          1    1.0\n",
       "\n",
       "[500 rows x 5 columns]"
      ]
     },
     "execution_count": 273,
     "metadata": {},
     "output_type": "execute_result"
    }
   ],
   "source": [
    "SobrevidaPYdum1"
   ]
  },
  {
   "cell_type": "markdown",
   "metadata": {},
   "source": [
    "Ajuste Exponencial Exponencial PH"
   ]
  },
  {
   "cell_type": "markdown",
   "metadata": {},
   "source": [
    "Python es un lenguaje de programación, por ende en muchos casos es necesario definir clases, generadores y funciones como ocurrirá en los ajustes de los modelos paramétricos."
   ]
  },
  {
   "cell_type": "code",
   "execution_count": 313,
   "metadata": {},
   "outputs": [],
   "source": [
    "class ExponentialPH(GenericLikelihoodModel):\n",
    "    def _init_(self,endog,exog,**kwds):\n",
    "        super(ExponentialPH, self).__init__(endog,exog,**kwds)\n",
    "    def nloglikeobs(self,params):\n",
    "        ll = _ll_exponentialph(self.endog,self.exog,params)\n",
    "        return -ll\n",
    "    def fit(self, start_params = None, maxiter = 10000,maxfun = 5000,**kwds):\n",
    "        if start_params == None:\n",
    "            start_params = start_params_var \n",
    "        return super(ExponentialPH, self).fit(start_params = start_params, method = 'ncg',maxiter = maxiter, maxfun = maxfun,**kwds)"
   ]
  },
  {
   "cell_type": "code",
   "execution_count": 314,
   "metadata": {
    "scrolled": true
   },
   "outputs": [
    {
     "name": "stdout",
     "output_type": "stream",
     "text": [
      "Optimization terminated successfully.\n",
      "         Current function value: 3.997858\n",
      "         Iterations: 13\n",
      "         Function evaluations: 14\n",
      "         Gradient evaluations: 26\n",
      "         Hessian evaluations: 13\n",
      "                            ExponentialPH Results                             \n",
      "==============================================================================\n",
      "Dep. Variable:                 tiempo   Log-Likelihood:                -1998.9\n",
      "Model:                  ExponentialPH   AIC:                             4008.\n",
      "Method:            Maximum Likelihood   BIC:                             4029.\n",
      "Date:                Mon, 01 Jun 2020                                         \n",
      "Time:                        12:50:07                                         \n",
      "No. Observations:                 500                                         \n",
      "Df Residuals:                     495                                         \n",
      "Df Model:                           4                                         \n",
      "==============================================================================\n",
      "                 coef    std err          z      P>|z|      [0.025      0.975]\n",
      "------------------------------------------------------------------------------\n",
      "tabaco         0.0768      0.208      0.369      0.712      -0.331       0.485\n",
      "alcohol       -0.1460      0.302     -0.483      0.629      -0.738       0.446\n",
      "antec          0.0649      0.129      0.504      0.614      -0.187       0.317\n",
      "estadio_2      0.1496      0.128      1.165      0.244      -0.102       0.401\n",
      "const         -3.9413      0.229    -17.238      0.000      -4.389      -3.493\n",
      "==============================================================================\n"
     ]
    }
   ],
   "source": [
    "kmf.fit(tiempo,event_observed = censura,label = \"All groups\")\n",
    "#ExponentialPH\n",
    "start_params_var = np.repeat(0,len(SobrevidaPYdum1.columns))\n",
    "mod_exponentialph = ExponentialPH(tiempo,SobrevidaPYdum1)\n",
    "res_expPH = mod_exponentialph.fit()\n",
    "print(res_expPH.summary())"
   ]
  },
  {
   "cell_type": "markdown",
   "metadata": {},
   "source": [
    "Los HR para cada variable son los siguientes:\n",
    "tabaco= 1.079; alcohol= 0.8642; antec= 1.067; estadío_2= 1.1613"
   ]
  },
  {
   "cell_type": "markdown",
   "metadata": {},
   "source": [
    "Los pacientes en estadío 2 tienen un riesgo relativo de un 16% superior de realizar el evento de interés, por otro lado los pacientes que consumen alcohol tienen un 14% menos. Estos resultados son muy similares a los obtenidos en Stata y R."
   ]
  },
  {
   "cell_type": "markdown",
   "metadata": {},
   "source": [
    "Ajuste Weibull PH"
   ]
  },
  {
   "cell_type": "code",
   "execution_count": 315,
   "metadata": {},
   "outputs": [],
   "source": [
    "class WeibullPH(GenericLikelihoodModel):\n",
    "    def _init_(self,endog,exog,**kwds):\n",
    "        super(WeibullPH, self).__init__(endog,exog,**kwds)\n",
    "    def nloglikeobs(self,params):\n",
    "        gamma = params[-1]\n",
    "        beta = params[:-1]\n",
    "        ll = _ll_weibullph(self.endog,self.exog,beta,gamma)\n",
    "        return -ll\n",
    "    def fit(self, start_params = None, maxiter = 10000,maxfun = 5000,**kwds):\n",
    "        if len(self.exog_names) == len(self.exog[1]):\n",
    "            self.exog_names.append('gamma')        \n",
    "        if start_params == None:\n",
    "            start_params = start_params_var \n",
    "        return super(WeibullPH, self).fit(start_params = start_params,method = 'basinhopping',maxiter = maxiter, maxfun = maxfun,**kwds)"
   ]
  },
  {
   "cell_type": "code",
   "execution_count": 316,
   "metadata": {
    "scrolled": false
   },
   "outputs": [
    {
     "name": "stdout",
     "output_type": "stream",
     "text": [
      "basinhopping step 0: f 2.75489\n",
      "basinhopping step 1: f 2.75489 trial_f 2.75489 accepted 1  lowest_f 2.75489\n",
      "basinhopping step 2: f 2.75489 trial_f 2.75489 accepted 1  lowest_f 2.75489\n",
      "basinhopping step 3: f 2.75489 trial_f 2.75489 accepted 1  lowest_f 2.75489\n",
      "found new global minimum on step 3 with function value 2.75489\n",
      "basinhopping step 4: f 2.75489 trial_f 2.75489 accepted 1  lowest_f 2.75489\n",
      "basinhopping step 5: f 2.75489 trial_f 2.75489 accepted 1  lowest_f 2.75489\n",
      "basinhopping step 6: f 2.75489 trial_f 2.75489 accepted 1  lowest_f 2.75489\n",
      "found new global minimum on step 6 with function value 2.75489\n",
      "basinhopping step 7: f 2.75489 trial_f 2.75489 accepted 1  lowest_f 2.75489\n",
      "found new global minimum on step 7 with function value 2.75489\n",
      "basinhopping step 8: f 2.75489 trial_f 2.75489 accepted 1  lowest_f 2.75489\n",
      "found new global minimum on step 8 with function value 2.75489\n",
      "basinhopping step 9: f 2.75489 trial_f 2.75489 accepted 1  lowest_f 2.75489\n",
      "basinhopping step 10: f 2.75489 trial_f 2.75489 accepted 1  lowest_f 2.75489\n",
      "basinhopping step 11: f 2.75489 trial_f 2.75489 accepted 1  lowest_f 2.75489\n",
      "basinhopping step 12: f 2.75489 trial_f 2.75489 accepted 1  lowest_f 2.75489\n",
      "basinhopping step 13: f 2.75489 trial_f 2.75489 accepted 1  lowest_f 2.75489\n",
      "basinhopping step 14: f 2.75489 trial_f 2.75489 accepted 1  lowest_f 2.75489\n",
      "basinhopping step 15: f 2.75489 trial_f 2.75489 accepted 1  lowest_f 2.75489\n",
      "basinhopping step 16: f 2.75489 trial_f 2.75489 accepted 1  lowest_f 2.75489\n",
      "basinhopping step 17: f 2.75489 trial_f 2.75489 accepted 1  lowest_f 2.75489\n",
      "basinhopping step 18: f 2.75489 trial_f 2.75489 accepted 1  lowest_f 2.75489\n",
      "basinhopping step 19: f 2.75489 trial_f 2.75489 accepted 1  lowest_f 2.75489\n",
      "basinhopping step 20: f 2.75489 trial_f 2.75489 accepted 1  lowest_f 2.75489\n",
      "basinhopping step 21: f 2.75489 trial_f 2.75489 accepted 1  lowest_f 2.75489\n",
      "basinhopping step 22: f 2.75489 trial_f 2.75489 accepted 1  lowest_f 2.75489\n",
      "basinhopping step 23: f 2.75489 trial_f 2.75489 accepted 1  lowest_f 2.75489\n",
      "basinhopping step 24: f 2.75489 trial_f 2.75489 accepted 1  lowest_f 2.75489\n",
      "basinhopping step 25: f 2.75489 trial_f 2.75489 accepted 1  lowest_f 2.75489\n",
      "basinhopping step 26: f 2.75489 trial_f 2.75489 accepted 1  lowest_f 2.75489\n",
      "basinhopping step 27: f 2.75489 trial_f 2.75489 accepted 1  lowest_f 2.75489\n",
      "basinhopping step 28: f 2.75489 trial_f 2.75489 accepted 1  lowest_f 2.75489\n",
      "basinhopping step 29: f 2.75489 trial_f 2.75489 accepted 1  lowest_f 2.75489\n",
      "basinhopping step 30: f 2.75489 trial_f 2.75489 accepted 1  lowest_f 2.75489\n",
      "basinhopping step 31: f 2.75489 trial_f 2.75489 accepted 1  lowest_f 2.75489\n",
      "basinhopping step 32: f 2.75489 trial_f 2.75489 accepted 1  lowest_f 2.75489\n",
      "basinhopping step 33: f 2.75489 trial_f 2.75489 accepted 1  lowest_f 2.75489\n",
      "basinhopping step 34: f 2.75489 trial_f 2.75489 accepted 1  lowest_f 2.75489\n",
      "basinhopping step 35: f 2.75489 trial_f 2.75489 accepted 1  lowest_f 2.75489\n",
      "basinhopping step 36: f 2.75489 trial_f 2.75489 accepted 1  lowest_f 2.75489\n",
      "basinhopping step 37: f 2.75489 trial_f 2.75489 accepted 1  lowest_f 2.75489\n",
      "basinhopping step 38: f 2.75489 trial_f 2.75489 accepted 1  lowest_f 2.75489\n",
      "basinhopping step 39: f 2.75489 trial_f 2.75489 accepted 1  lowest_f 2.75489\n",
      "basinhopping step 40: f 2.75489 trial_f 2.75489 accepted 1  lowest_f 2.75489\n",
      "basinhopping step 41: f 2.75489 trial_f 2.75489 accepted 1  lowest_f 2.75489\n",
      "basinhopping step 42: f 2.75489 trial_f 2.75489 accepted 1  lowest_f 2.75489\n",
      "basinhopping step 43: f 2.75489 trial_f 2.75489 accepted 1  lowest_f 2.75489\n",
      "basinhopping step 44: f 2.75489 trial_f 2.75489 accepted 1  lowest_f 2.75489\n",
      "basinhopping step 45: f 2.75489 trial_f 2.75489 accepted 1  lowest_f 2.75489\n",
      "basinhopping step 46: f 2.75489 trial_f 2.75489 accepted 1  lowest_f 2.75489\n",
      "basinhopping step 47: f 2.75489 trial_f 2.75489 accepted 1  lowest_f 2.75489\n",
      "basinhopping step 48: f 2.75489 trial_f 2.75489 accepted 1  lowest_f 2.75489\n",
      "basinhopping step 49: f 2.75489 trial_f 2.75489 accepted 1  lowest_f 2.75489\n",
      "adaptive stepsize: acceptance rate 0.980000 target 0.500000 new stepsize 0.555556 old stepsize 0.5\n",
      "basinhopping step 50: f 2.75489 trial_f 2.75489 accepted 1  lowest_f 2.75489\n",
      "basinhopping step 51: f 2.75489 trial_f 2.75489 accepted 1  lowest_f 2.75489\n",
      "basinhopping step 52: f 2.75489 trial_f 2.75489 accepted 1  lowest_f 2.75489\n",
      "found new global minimum on step 52 with function value 2.75489\n",
      "basinhopping step 53: f 2.75489 trial_f 2.75489 accepted 1  lowest_f 2.75489\n",
      "basinhopping step 54: f 2.75489 trial_f 2.75489 accepted 1  lowest_f 2.75489\n",
      "basinhopping step 55: f 2.75489 trial_f 2.75489 accepted 1  lowest_f 2.75489\n",
      "basinhopping step 56: f 2.75489 trial_f 2.75489 accepted 1  lowest_f 2.75489\n",
      "basinhopping step 57: f 2.75489 trial_f 2.75489 accepted 1  lowest_f 2.75489\n",
      "basinhopping step 58: f 2.75489 trial_f 2.75489 accepted 1  lowest_f 2.75489\n",
      "basinhopping step 59: f 2.75489 trial_f 2.75489 accepted 1  lowest_f 2.75489\n",
      "basinhopping step 60: f 2.75489 trial_f 2.75489 accepted 1  lowest_f 2.75489\n",
      "basinhopping step 61: f 2.75489 trial_f 2.75489 accepted 1  lowest_f 2.75489\n",
      "basinhopping step 62: f 2.75489 trial_f 2.75489 accepted 1  lowest_f 2.75489\n",
      "basinhopping step 63: f 2.75489 trial_f 2.75489 accepted 1  lowest_f 2.75489\n",
      "basinhopping step 64: f 2.75489 trial_f 2.75489 accepted 1  lowest_f 2.75489\n",
      "basinhopping step 65: f 2.75489 trial_f 2.75489 accepted 1  lowest_f 2.75489\n",
      "basinhopping step 66: f 2.75489 trial_f 2.75489 accepted 1  lowest_f 2.75489\n",
      "basinhopping step 67: f 2.75489 trial_f 2.75489 accepted 1  lowest_f 2.75489\n",
      "basinhopping step 68: f 2.75489 trial_f 2.75489 accepted 1  lowest_f 2.75489\n",
      "basinhopping step 69: f 2.75489 trial_f 2.75489 accepted 1  lowest_f 2.75489\n",
      "basinhopping step 70: f 2.75489 trial_f 2.75489 accepted 1  lowest_f 2.75489\n",
      "basinhopping step 71: f 2.75489 trial_f 2.75489 accepted 1  lowest_f 2.75489\n",
      "basinhopping step 72: f 2.75489 trial_f 2.75489 accepted 1  lowest_f 2.75489\n",
      "basinhopping step 73: f 2.75489 trial_f 2.75489 accepted 1  lowest_f 2.75489\n",
      "basinhopping step 74: f 2.75489 trial_f 2.75489 accepted 1  lowest_f 2.75489\n",
      "basinhopping step 75: f 2.75489 trial_f 2.75489 accepted 1  lowest_f 2.75489\n",
      "basinhopping step 76: f 2.75489 trial_f 2.75489 accepted 1  lowest_f 2.75489\n",
      "basinhopping step 77: f 2.75489 trial_f 2.75489 accepted 1  lowest_f 2.75489\n",
      "basinhopping step 78: f 2.75489 trial_f 2.75489 accepted 1  lowest_f 2.75489\n",
      "basinhopping step 79: f 2.75489 trial_f 2.75489 accepted 1  lowest_f 2.75489\n",
      "basinhopping step 80: f 2.75489 trial_f 2.75489 accepted 1  lowest_f 2.75489\n",
      "basinhopping step 81: f 2.75489 trial_f 2.75489 accepted 1  lowest_f 2.75489\n",
      "basinhopping step 82: f 2.75489 trial_f 2.75489 accepted 1  lowest_f 2.75489\n",
      "basinhopping step 83: f 2.75489 trial_f 2.75489 accepted 1  lowest_f 2.75489\n",
      "basinhopping step 84: f 2.75489 trial_f 2.75489 accepted 1  lowest_f 2.75489\n",
      "basinhopping step 85: f 2.75489 trial_f 2.75489 accepted 1  lowest_f 2.75489\n",
      "basinhopping step 86: f 2.75489 trial_f 2.75489 accepted 1  lowest_f 2.75489\n",
      "basinhopping step 87: f 2.75489 trial_f 2.75489 accepted 1  lowest_f 2.75489\n",
      "basinhopping step 88: f 2.75489 trial_f 2.75489 accepted 1  lowest_f 2.75489\n",
      "basinhopping step 89: f 2.75489 trial_f 2.75489 accepted 1  lowest_f 2.75489\n",
      "basinhopping step 90: f 2.75489 trial_f 2.75489 accepted 1  lowest_f 2.75489\n",
      "basinhopping step 91: f 2.75489 trial_f 2.75489 accepted 1  lowest_f 2.75489\n",
      "basinhopping step 92: f 2.75489 trial_f 2.75489 accepted 1  lowest_f 2.75489\n",
      "basinhopping step 93: f 2.75489 trial_f 2.75489 accepted 1  lowest_f 2.75489\n",
      "basinhopping step 94: f 2.75489 trial_f 2.75489 accepted 1  lowest_f 2.75489\n",
      "basinhopping step 95: f 2.75489 trial_f 2.75489 accepted 1  lowest_f 2.75489\n",
      "basinhopping step 96: f 2.75489 trial_f 2.75489 accepted 1  lowest_f 2.75489\n",
      "basinhopping step 97: f 2.75489 trial_f 2.75489 accepted 1  lowest_f 2.75489\n",
      "basinhopping step 98: f 2.75489 trial_f 2.75489 accepted 1  lowest_f 2.75489\n",
      "basinhopping step 99: f 2.75489 trial_f 2.75489 accepted 1  lowest_f 2.75489\n",
      "adaptive stepsize: acceptance rate 0.990000 target 0.500000 new stepsize 0.617284 old stepsize 0.555556\n",
      "basinhopping step 100: f 2.75489 trial_f 2.75489 accepted 1  lowest_f 2.75489\n",
      "                              WeibullPH Results                               \n",
      "==============================================================================\n",
      "Dep. Variable:                 tiempo   Log-Likelihood:                -1377.4\n",
      "Model:                      WeibullPH   AIC:                             2765.\n",
      "Method:            Maximum Likelihood   BIC:                             2786.\n",
      "Date:                Mon, 01 Jun 2020                                         \n",
      "Time:                        12:50:49                                         \n",
      "No. Observations:                 500                                         \n",
      "Df Residuals:                     495                                         \n",
      "Df Model:                           4                                         \n",
      "==============================================================================\n",
      "                 coef    std err          z      P>|z|      [0.025      0.975]\n",
      "------------------------------------------------------------------------------\n",
      "tabaco         0.0037      0.208      0.018      0.986      -0.404       0.412\n",
      "alcohol       -0.5218      0.303     -1.720      0.085      -1.116       0.073\n",
      "antec          0.0834      0.129      0.648      0.517      -0.169       0.336\n",
      "estadio_2      0.2618      0.128      2.037      0.042       0.010       0.514\n",
      "const        -27.5839      1.041    -26.507      0.000     -29.623     -25.544\n",
      "gamma          7.4785      0.276     27.109      0.000       6.938       8.019\n",
      "==============================================================================\n"
     ]
    }
   ],
   "source": [
    "start_params_var = np.repeat(1,len(SobrevidaPYdum1.columns) + 1)\n",
    "mod_weibullph = WeibullPH(tiempo,SobrevidaPYdum1)\n",
    "res_weiPH = mod_weibullph.fit()\n",
    "print(res_weiPH.summary())"
   ]
  },
  {
   "cell_type": "markdown",
   "metadata": {},
   "source": [
    "Los HR para cada variable son los siguientes:\n",
    "tabaco= 1.003; alcohol= 0.5934; antec= 1.087; estadío_2= 1.299"
   ]
  },
  {
   "cell_type": "markdown",
   "metadata": {},
   "source": [
    "Los pacientes en estadío 2 tienen un riesgo relativo de un 30% superior de realizar el evento de interés, por otro lado los pacientes que consumen alcohol tienen un 41% menos. Estos resultados son muy similares a los obtenidos en Stata y R."
   ]
  },
  {
   "cell_type": "markdown",
   "metadata": {},
   "source": [
    "Ajuste Gompertz PH"
   ]
  },
  {
   "cell_type": "code",
   "execution_count": 317,
   "metadata": {},
   "outputs": [],
   "source": [
    "class GompertzPH(GenericLikelihoodModel):\n",
    "    def _init_(self,endog,exog,**kwds):\n",
    "        super(GompertzPH, self).__init__(endog,exog,**kwds)\n",
    "    def nloglikeobs(self,params):\n",
    "        gamma = params[-1]\n",
    "        beta = params[:-1]\n",
    "        ll = _ll_gompertzph(self.endog,self.exog,beta,gamma)\n",
    "        return -ll\n",
    "    def fit(self, start_params = None, maxiter = 10000,maxfun = 5000,**kwds):\n",
    "        if len(self.exog_names) == len(self.exog[1]):\n",
    "            self.exog_names.append('gamma')        \n",
    "        if start_params == None:\n",
    "            start_params = start_params_var \n",
    "        return super(GompertzPH, self).fit(start_params = start_params,method = 'ncg',maxiter = maxiter, maxfun = maxfun,**kwds)"
   ]
  },
  {
   "cell_type": "code",
   "execution_count": 318,
   "metadata": {
    "scrolled": true
   },
   "outputs": [
    {
     "name": "stdout",
     "output_type": "stream",
     "text": [
      "Optimization terminated successfully.\n",
      "         Current function value: 2.791886\n",
      "         Iterations: 82\n",
      "         Function evaluations: 104\n",
      "         Gradient evaluations: 185\n",
      "         Hessian evaluations: 82\n",
      "                              GompertzPH Results                              \n",
      "==============================================================================\n",
      "Dep. Variable:                 tiempo   Log-Likelihood:                -1395.9\n",
      "Model:                     GompertzPH   AIC:                             2802.\n",
      "Method:            Maximum Likelihood   BIC:                             2823.\n",
      "Date:                Mon, 01 Jun 2020                                         \n",
      "Time:                        12:51:40                                         \n",
      "No. Observations:                 500                                         \n",
      "Df Residuals:                     495                                         \n",
      "Df Model:                           4                                         \n",
      "==============================================================================\n",
      "                 coef    std err          z      P>|z|      [0.025      0.975]\n",
      "------------------------------------------------------------------------------\n",
      "tabaco        -0.0176      0.208     -0.085      0.933      -0.426       0.390\n",
      "alcohol       -0.6735      0.305     -2.210      0.027      -1.271      -0.076\n",
      "antec          0.0815      0.129      0.633      0.527      -0.171       0.334\n",
      "estadio_2      0.2554      0.128      1.988      0.047       0.004       0.507\n",
      "const         -9.4856      0.335    -28.319      0.000     -10.142      -8.829\n",
      "gamma          0.1957      0.007     27.821      0.000       0.182       0.209\n",
      "==============================================================================\n"
     ]
    }
   ],
   "source": [
    "start_params_var = np.repeat(0,len(SobrevidaPYdum1.columns))\n",
    "start_params_var = np.append(start_params_var,1)\n",
    "mod_gompertzph = GompertzPH(tiempo,SobrevidaPYdum1)\n",
    "res_gompPH = mod_gompertzph.fit()\n",
    "print(res_gompPH.summary())"
   ]
  },
  {
   "cell_type": "markdown",
   "metadata": {},
   "source": [
    "Los HR para cada variable son los siguientes:\n",
    "tabaco= 0.983; alcohol= 0.51; antec= 1.085; estadío_2= 1.291"
   ]
  },
  {
   "cell_type": "markdown",
   "metadata": {},
   "source": [
    "Los pacientes en estadío 2 tienen un riesgo relativo de un 29% superior de realizar el evento de interés, por otro lado los pacientes que consumen alcohol tienen un 49% menos. Estos resultados son muy similares a los obtenidos en Stata y R."
   ]
  }
 ],
 "metadata": {
  "kernelspec": {
   "display_name": "Python 3",
   "language": "python",
   "name": "python3"
  },
  "language_info": {
   "codemirror_mode": {
    "name": "ipython",
    "version": 3
   },
   "file_extension": ".py",
   "mimetype": "text/x-python",
   "name": "python",
   "nbconvert_exporter": "python",
   "pygments_lexer": "ipython3",
   "version": "3.7.7"
  }
 },
 "nbformat": 4,
 "nbformat_minor": 4
}
