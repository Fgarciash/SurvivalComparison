{
 "cells": [
  {
   "cell_type": "markdown",
   "metadata": {},
   "source": [
    "Instalación de packages"
   ]
  },
  {
   "cell_type": "code",
   "execution_count": null,
   "metadata": {},
   "outputs": [],
   "source": [
    "\n",
    "\n",
    "\n",
    "install.packages(\"RODBC\")\n",
    "install.packages(\"survival\")\n",
    "install.packages(\"KMsurv\")\n",
    "install.packages(\"survMisc\")\n",
    "install.packages(\"survminer\")\n",
    "install.packages(\"ggfortify\")\n",
    "install.packages(\"flexsurv\")\n",
    "install.packages(\"actuar\")\n",
    "install.packages(\"car\")\n",
    "install.packages(\"e1071\")\n",
    "install.packages(\"rms\")\n",
    "install.packages(\"fastDummies\")\n",
    "install.packages(\"expss\")\n",
    "\n",
    "\n",
    "\n",
    "\n",
    "\n",
    "library(RODBC)\n",
    "library(survival)\n",
    "library(KMsurv)\n",
    "library(survMisc)\n",
    "library(survminer)\n",
    "library(ggfortify)\n",
    "library(flexsurv)\n",
    "library(actuar)\n",
    "library(car)\n",
    "library(e1071)\n",
    "library(rms)\n",
    "library(dummies)\n",
    "library(fastDummies)\n",
    "library(expss)\n",
    "\n",
    "\n",
    "\n",
    "\n",
    "\n"
   ]
  },
  {
   "cell_type": "markdown",
   "metadata": {},
   "source": [
    "Conectamos R con SQL mediante ODBC para extraer la base de datos desde el servidor local."
   ]
  },
  {
   "cell_type": "code",
   "execution_count": 2,
   "metadata": {},
   "outputs": [],
   "source": [
    "canal_bd <-odbcDriverConnect('driver={SQL Server};\n",
    "                             server=LAPTOP-SRBMTPNS;\n",
    "                             database=TestFalabella;\n",
    "                             trusted_connection=true')"
   ]
  },
  {
   "cell_type": "markdown",
   "metadata": {},
   "source": [
    "Importando la tabla desde SQL."
   ]
  },
  {
   "cell_type": "code",
   "execution_count": 3,
   "metadata": {},
   "outputs": [],
   "source": [
    "Sobrevida <- sqlQuery(canal_bd, '\n",
    "\n",
    "select * from SobrevidaUchile\n",
    "                         \n",
    "                         ')"
   ]
  },
  {
   "cell_type": "markdown",
   "metadata": {},
   "source": [
    "Descripción de la data."
   ]
  },
  {
   "cell_type": "code",
   "execution_count": 4,
   "metadata": {
    "scrolled": true
   },
   "outputs": [
    {
     "data": {
      "text/html": [
       "<table>\n",
       "<thead><tr><th scope=col>tiempo</th><th scope=col>censura</th><th scope=col>estadio</th><th scope=col>tabaco</th><th scope=col>alcohol</th><th scope=col>antec</th></tr></thead>\n",
       "<tbody>\n",
       "\t<tr><td>40.44244</td><td>0       </td><td>0       </td><td>0       </td><td>1       </td><td>1       </td></tr>\n",
       "\t<tr><td>39.93839</td><td>1       </td><td>0       </td><td>0       </td><td>1       </td><td>1       </td></tr>\n",
       "\t<tr><td>38.13508</td><td>1       </td><td>0       </td><td>0       </td><td>1       </td><td>1       </td></tr>\n",
       "\t<tr><td>35.77350</td><td>0       </td><td>0       </td><td>0       </td><td>1       </td><td>1       </td></tr>\n",
       "\t<tr><td>45.43808</td><td>1       </td><td>0       </td><td>0       </td><td>1       </td><td>1       </td></tr>\n",
       "\t<tr><td>31.93737</td><td>0       </td><td>0       </td><td>0       </td><td>1       </td><td>1       </td></tr>\n",
       "</tbody>\n",
       "</table>\n"
      ],
      "text/latex": [
       "\\begin{tabular}{r|llllll}\n",
       " tiempo & censura & estadio & tabaco & alcohol & antec\\\\\n",
       "\\hline\n",
       "\t 40.44244 & 0        & 0        & 0        & 1        & 1       \\\\\n",
       "\t 39.93839 & 1        & 0        & 0        & 1        & 1       \\\\\n",
       "\t 38.13508 & 1        & 0        & 0        & 1        & 1       \\\\\n",
       "\t 35.77350 & 0        & 0        & 0        & 1        & 1       \\\\\n",
       "\t 45.43808 & 1        & 0        & 0        & 1        & 1       \\\\\n",
       "\t 31.93737 & 0        & 0        & 0        & 1        & 1       \\\\\n",
       "\\end{tabular}\n"
      ],
      "text/markdown": [
       "\n",
       "| tiempo | censura | estadio | tabaco | alcohol | antec |\n",
       "|---|---|---|---|---|---|\n",
       "| 40.44244 | 0        | 0        | 0        | 1        | 1        |\n",
       "| 39.93839 | 1        | 0        | 0        | 1        | 1        |\n",
       "| 38.13508 | 1        | 0        | 0        | 1        | 1        |\n",
       "| 35.77350 | 0        | 0        | 0        | 1        | 1        |\n",
       "| 45.43808 | 1        | 0        | 0        | 1        | 1        |\n",
       "| 31.93737 | 0        | 0        | 0        | 1        | 1        |\n",
       "\n"
      ],
      "text/plain": [
       "  tiempo   censura estadio tabaco alcohol antec\n",
       "1 40.44244 0       0       0      1       1    \n",
       "2 39.93839 1       0       0      1       1    \n",
       "3 38.13508 1       0       0      1       1    \n",
       "4 35.77350 0       0       0      1       1    \n",
       "5 45.43808 1       0       0      1       1    \n",
       "6 31.93737 0       0       0      1       1    "
      ]
     },
     "metadata": {},
     "output_type": "display_data"
    }
   ],
   "source": [
    "head(Sobrevida) "
   ]
  },
  {
   "cell_type": "code",
   "execution_count": 5,
   "metadata": {},
   "outputs": [],
   "source": [
    "attach(Sobrevida)"
   ]
  },
  {
   "cell_type": "code",
   "execution_count": 6,
   "metadata": {
    "scrolled": false
   },
   "outputs": [
    {
     "name": "stdout",
     "output_type": "stream",
     "text": [
      "'data.frame':\t500 obs. of  6 variables:\n",
      " $ tiempo : num  40.4 39.9 38.1 35.8 45.4 ...\n",
      " $ censura: num  0 1 1 0 1 0 1 1 1 1 ...\n",
      " $ estadio: num  0 0 0 0 0 0 0 0 0 0 ...\n",
      " $ tabaco : num  0 0 0 0 0 0 0 0 0 0 ...\n",
      " $ alcohol: num  1 1 1 1 1 1 1 1 1 1 ...\n",
      " $ antec  : num  1 1 1 1 1 1 1 1 1 1 ...\n"
     ]
    }
   ],
   "source": [
    "str(Sobrevida) #caracteristicas de la base"
   ]
  },
  {
   "cell_type": "markdown",
   "metadata": {},
   "source": [
    "En la data observamos 79 datos censurados."
   ]
  },
  {
   "cell_type": "code",
   "execution_count": 7,
   "metadata": {
    "scrolled": true
   },
   "outputs": [
    {
     "data": {
      "text/html": [
       "<table class='gmisc_table' style='border-collapse: collapse; margin-top: 1em; margin-bottom: 1em;' >\n",
       "<thead>\n",
       "<tr>\n",
       "<th style='font-weight: 900; border-bottom: 1px solid grey; border-top: 2px solid grey; text-align: center;'></th>\n",
       "<th style='border-bottom: 1px solid grey; border-top: 2px solid grey; text-align: center;'></th>\n",
       "<th style='border-bottom: 1px solid grey; border-top: 2px solid grey; text-align: center;'>&nbsp;#Total&nbsp;</th>\n",
       "</tr>\n",
       "</thead>\n",
       "<tbody>\n",
       "<tr>\n",
       "<td style='text-align: left;'>&nbsp;censura&nbsp;</td>\n",
       "<td style='text-align: left;'>&nbsp;0&nbsp;</td>\n",
       "<td style='text-align: right;'>79</td>\n",
       "</tr>\n",
       "<tr>\n",
       "<td style='text-align: left;'></td>\n",
       "<td style='text-align: left;'>&nbsp;1&nbsp;</td>\n",
       "<td style='text-align: right;'>421</td>\n",
       "</tr>\n",
       "<tr>\n",
       "<td style='border-bottom: 2px solid grey; text-align: left;'></td>\n",
       "<td style='border-bottom: 2px solid grey; text-align: left;'>&nbsp;#Total cases&nbsp;</td>\n",
       "<td style='border-bottom: 2px solid grey; text-align: right;'>500</td>\n",
       "</tr>\n",
       "</tbody>\n",
       "</table>"
      ],
      "text/latex": [
       "\\begin{tabular}{r|ll}\n",
       " row\\_labels & \\#Total\\\\\n",
       "\\hline\n",
       "\t censura\\textbar{}0            &  79                           \\\\\n",
       "\t censura\\textbar{}1            & 421                           \\\\\n",
       "\t censura\\textbar{}\\#Total cases & 500                             \\\\\n",
       "\\end{tabular}\n"
      ],
      "text/markdown": [
       "\n",
       "| row_labels | #Total |\n",
       "|---|---|\n",
       "| censura|0            |  79                  |\n",
       "| censura|1            | 421                  |\n",
       "| censura|#Total cases | 500                  |\n",
       "\n"
      ],
      "text/plain": [
       "                                    \n",
       " |         |              | #Total |\n",
       " | ------- | ------------ | ------ |\n",
       " | censura |            0 |     79 |\n",
       " |         |            1 |    421 |\n",
       " |         | #Total cases |    500 |"
      ]
     },
     "metadata": {},
     "output_type": "display_data"
    }
   ],
   "source": [
    "cro(censura) "
   ]
  },
  {
   "cell_type": "markdown",
   "metadata": {},
   "source": [
    "Se observar 3 estadíos de la enfermedad siendo el más frecuente el tercer estadío y el menos frecuente el primero, lo que hace suponer que en su mayoría son enfermos terminales."
   ]
  },
  {
   "cell_type": "code",
   "execution_count": 8,
   "metadata": {
    "scrolled": true
   },
   "outputs": [
    {
     "data": {
      "text/html": [
       "<table class='gmisc_table' style='border-collapse: collapse; margin-top: 1em; margin-bottom: 1em;' >\n",
       "<thead>\n",
       "<tr>\n",
       "<th style='font-weight: 900; border-bottom: 1px solid grey; border-top: 2px solid grey; text-align: center;'></th>\n",
       "<th style='border-bottom: 1px solid grey; border-top: 2px solid grey; text-align: center;'></th>\n",
       "<th style='border-bottom: 1px solid grey; border-top: 2px solid grey; text-align: center;'>&nbsp;#Total&nbsp;</th>\n",
       "</tr>\n",
       "</thead>\n",
       "<tbody>\n",
       "<tr>\n",
       "<td style='text-align: left;'>&nbsp;estadio&nbsp;</td>\n",
       "<td style='text-align: left;'>&nbsp;0&nbsp;</td>\n",
       "<td style='text-align: right;'>27</td>\n",
       "</tr>\n",
       "<tr>\n",
       "<td style='text-align: left;'></td>\n",
       "<td style='text-align: left;'>&nbsp;1&nbsp;</td>\n",
       "<td style='text-align: right;'>200</td>\n",
       "</tr>\n",
       "<tr>\n",
       "<td style='text-align: left;'></td>\n",
       "<td style='text-align: left;'>&nbsp;2&nbsp;</td>\n",
       "<td style='text-align: right;'>273</td>\n",
       "</tr>\n",
       "<tr>\n",
       "<td style='border-bottom: 2px solid grey; text-align: left;'></td>\n",
       "<td style='border-bottom: 2px solid grey; text-align: left;'>&nbsp;#Total cases&nbsp;</td>\n",
       "<td style='border-bottom: 2px solid grey; text-align: right;'>500</td>\n",
       "</tr>\n",
       "</tbody>\n",
       "</table>"
      ],
      "text/latex": [
       "\\begin{tabular}{r|ll}\n",
       " row\\_labels & \\#Total\\\\\n",
       "\\hline\n",
       "\t estadio\\textbar{}0            &  27                           \\\\\n",
       "\t estadio\\textbar{}1            & 200                           \\\\\n",
       "\t estadio\\textbar{}2            & 273                           \\\\\n",
       "\t estadio\\textbar{}\\#Total cases & 500                             \\\\\n",
       "\\end{tabular}\n"
      ],
      "text/markdown": [
       "\n",
       "| row_labels | #Total |\n",
       "|---|---|\n",
       "| estadio|0            |  27                  |\n",
       "| estadio|1            | 200                  |\n",
       "| estadio|2            | 273                  |\n",
       "| estadio|#Total cases | 500                  |\n",
       "\n"
      ],
      "text/plain": [
       "                                    \n",
       " |         |              | #Total |\n",
       " | ------- | ------------ | ------ |\n",
       " | estadio |            0 |     27 |\n",
       " |         |            1 |    200 |\n",
       " |         |            2 |    273 |\n",
       " |         | #Total cases |    500 |"
      ]
     },
     "metadata": {},
     "output_type": "display_data"
    }
   ],
   "source": [
    "cro(estadio) "
   ]
  },
  {
   "cell_type": "markdown",
   "metadata": {},
   "source": [
    "Con respecto al hábito del tabaco se observa mucho desbalance, siendo en su gran mayoría fumadores."
   ]
  },
  {
   "cell_type": "code",
   "execution_count": 9,
   "metadata": {
    "scrolled": false
   },
   "outputs": [
    {
     "data": {
      "text/html": [
       "<table class='gmisc_table' style='border-collapse: collapse; margin-top: 1em; margin-bottom: 1em;' >\n",
       "<thead>\n",
       "<tr>\n",
       "<th style='font-weight: 900; border-bottom: 1px solid grey; border-top: 2px solid grey; text-align: center;'></th>\n",
       "<th style='border-bottom: 1px solid grey; border-top: 2px solid grey; text-align: center;'></th>\n",
       "<th style='border-bottom: 1px solid grey; border-top: 2px solid grey; text-align: center;'>&nbsp;#Total&nbsp;</th>\n",
       "</tr>\n",
       "</thead>\n",
       "<tbody>\n",
       "<tr>\n",
       "<td style='text-align: left;'>&nbsp;tabaco&nbsp;</td>\n",
       "<td style='text-align: left;'>&nbsp;0&nbsp;</td>\n",
       "<td style='text-align: right;'>64</td>\n",
       "</tr>\n",
       "<tr>\n",
       "<td style='text-align: left;'></td>\n",
       "<td style='text-align: left;'>&nbsp;1&nbsp;</td>\n",
       "<td style='text-align: right;'>436</td>\n",
       "</tr>\n",
       "<tr>\n",
       "<td style='border-bottom: 2px solid grey; text-align: left;'></td>\n",
       "<td style='border-bottom: 2px solid grey; text-align: left;'>&nbsp;#Total cases&nbsp;</td>\n",
       "<td style='border-bottom: 2px solid grey; text-align: right;'>500</td>\n",
       "</tr>\n",
       "</tbody>\n",
       "</table>"
      ],
      "text/latex": [
       "\\begin{tabular}{r|ll}\n",
       " row\\_labels & \\#Total\\\\\n",
       "\\hline\n",
       "\t tabaco\\textbar{}0            &  64                          \\\\\n",
       "\t tabaco\\textbar{}1            & 436                          \\\\\n",
       "\t tabaco\\textbar{}\\#Total cases & 500                            \\\\\n",
       "\\end{tabular}\n"
      ],
      "text/markdown": [
       "\n",
       "| row_labels | #Total |\n",
       "|---|---|\n",
       "| tabaco|0            |  64                 |\n",
       "| tabaco|1            | 436                 |\n",
       "| tabaco|#Total cases | 500                 |\n",
       "\n"
      ],
      "text/plain": [
       "                                   \n",
       " |        |              | #Total |\n",
       " | ------ | ------------ | ------ |\n",
       " | tabaco |            0 |     64 |\n",
       " |        |            1 |    436 |\n",
       " |        | #Total cases |    500 |"
      ]
     },
     "metadata": {},
     "output_type": "display_data"
    }
   ],
   "source": [
    "cro(tabaco)"
   ]
  },
  {
   "cell_type": "markdown",
   "metadata": {},
   "source": [
    "Con respecto al consumo de alcohol también se observa mucho desbalance observándose mayoritariamente una muestra de la población que no es bebedora."
   ]
  },
  {
   "cell_type": "code",
   "execution_count": 10,
   "metadata": {
    "scrolled": true
   },
   "outputs": [
    {
     "data": {
      "text/html": [
       "<table class='gmisc_table' style='border-collapse: collapse; margin-top: 1em; margin-bottom: 1em;' >\n",
       "<thead>\n",
       "<tr>\n",
       "<th style='font-weight: 900; border-bottom: 1px solid grey; border-top: 2px solid grey; text-align: center;'></th>\n",
       "<th style='border-bottom: 1px solid grey; border-top: 2px solid grey; text-align: center;'></th>\n",
       "<th style='border-bottom: 1px solid grey; border-top: 2px solid grey; text-align: center;'>&nbsp;#Total&nbsp;</th>\n",
       "</tr>\n",
       "</thead>\n",
       "<tbody>\n",
       "<tr>\n",
       "<td style='text-align: left;'>&nbsp;alcohol&nbsp;</td>\n",
       "<td style='text-align: left;'>&nbsp;0&nbsp;</td>\n",
       "<td style='text-align: right;'>473</td>\n",
       "</tr>\n",
       "<tr>\n",
       "<td style='text-align: left;'></td>\n",
       "<td style='text-align: left;'>&nbsp;1&nbsp;</td>\n",
       "<td style='text-align: right;'>27</td>\n",
       "</tr>\n",
       "<tr>\n",
       "<td style='border-bottom: 2px solid grey; text-align: left;'></td>\n",
       "<td style='border-bottom: 2px solid grey; text-align: left;'>&nbsp;#Total cases&nbsp;</td>\n",
       "<td style='border-bottom: 2px solid grey; text-align: right;'>500</td>\n",
       "</tr>\n",
       "</tbody>\n",
       "</table>"
      ],
      "text/latex": [
       "\\begin{tabular}{r|ll}\n",
       " row\\_labels & \\#Total\\\\\n",
       "\\hline\n",
       "\t alcohol\\textbar{}0            & 473                           \\\\\n",
       "\t alcohol\\textbar{}1            &  27                           \\\\\n",
       "\t alcohol\\textbar{}\\#Total cases & 500                             \\\\\n",
       "\\end{tabular}\n"
      ],
      "text/markdown": [
       "\n",
       "| row_labels | #Total |\n",
       "|---|---|\n",
       "| alcohol|0            | 473                  |\n",
       "| alcohol|1            |  27                  |\n",
       "| alcohol|#Total cases | 500                  |\n",
       "\n"
      ],
      "text/plain": [
       "                                    \n",
       " |         |              | #Total |\n",
       " | ------- | ------------ | ------ |\n",
       " | alcohol |            0 |    473 |\n",
       " |         |            1 |     27 |\n",
       " |         | #Total cases |    500 |"
      ]
     },
     "metadata": {},
     "output_type": "display_data"
    }
   ],
   "source": [
    "cro(alcohol)"
   ]
  },
  {
   "cell_type": "markdown",
   "metadata": {},
   "source": [
    "El 70% de los pacientes poseen antecedentes familiares de la enfermedad."
   ]
  },
  {
   "cell_type": "code",
   "execution_count": 11,
   "metadata": {
    "scrolled": false
   },
   "outputs": [
    {
     "data": {
      "text/html": [
       "<table class='gmisc_table' style='border-collapse: collapse; margin-top: 1em; margin-bottom: 1em;' >\n",
       "<thead>\n",
       "<tr>\n",
       "<th style='font-weight: 900; border-bottom: 1px solid grey; border-top: 2px solid grey; text-align: center;'></th>\n",
       "<th style='border-bottom: 1px solid grey; border-top: 2px solid grey; text-align: center;'></th>\n",
       "<th style='border-bottom: 1px solid grey; border-top: 2px solid grey; text-align: center;'>&nbsp;#Total&nbsp;</th>\n",
       "</tr>\n",
       "</thead>\n",
       "<tbody>\n",
       "<tr>\n",
       "<td style='text-align: left;'>&nbsp;antec&nbsp;</td>\n",
       "<td style='text-align: left;'>&nbsp;0&nbsp;</td>\n",
       "<td style='text-align: right;'>151</td>\n",
       "</tr>\n",
       "<tr>\n",
       "<td style='text-align: left;'></td>\n",
       "<td style='text-align: left;'>&nbsp;1&nbsp;</td>\n",
       "<td style='text-align: right;'>349</td>\n",
       "</tr>\n",
       "<tr>\n",
       "<td style='border-bottom: 2px solid grey; text-align: left;'></td>\n",
       "<td style='border-bottom: 2px solid grey; text-align: left;'>&nbsp;#Total cases&nbsp;</td>\n",
       "<td style='border-bottom: 2px solid grey; text-align: right;'>500</td>\n",
       "</tr>\n",
       "</tbody>\n",
       "</table>"
      ],
      "text/latex": [
       "\\begin{tabular}{r|ll}\n",
       " row\\_labels & \\#Total\\\\\n",
       "\\hline\n",
       "\t antec\\textbar{}0            & 151                         \\\\\n",
       "\t antec\\textbar{}1            & 349                         \\\\\n",
       "\t antec\\textbar{}\\#Total cases & 500                           \\\\\n",
       "\\end{tabular}\n"
      ],
      "text/markdown": [
       "\n",
       "| row_labels | #Total |\n",
       "|---|---|\n",
       "| antec|0            | 151                |\n",
       "| antec|1            | 349                |\n",
       "| antec|#Total cases | 500                |\n",
       "\n"
      ],
      "text/plain": [
       "                                  \n",
       " |       |              | #Total |\n",
       " | ----- | ------------ | ------ |\n",
       " | antec |            0 |    151 |\n",
       " |       |            1 |    349 |\n",
       " |       | #Total cases |    500 |"
      ]
     },
     "metadata": {},
     "output_type": "display_data"
    }
   ],
   "source": [
    "cro(antec)"
   ]
  },
  {
   "cell_type": "markdown",
   "metadata": {},
   "source": [
    "Al ensayar la sobrevida de Kaplan-Meier observamos que el resultado es el mismo observado en Stata, es decir, el 50% de los pacientes aún estaba vivo a los 37,6 meses"
   ]
  },
  {
   "cell_type": "code",
   "execution_count": 12,
   "metadata": {},
   "outputs": [],
   "source": [
    "SRV <- survfit(Surv(tiempo, censura) ~ 1, data = Sobrevida, type = \"kaplan-meier\")"
   ]
  },
  {
   "cell_type": "code",
   "execution_count": 13,
   "metadata": {
    "scrolled": true
   },
   "outputs": [
    {
     "name": "stdout",
     "output_type": "stream",
     "text": [
      "Call: survfit(formula = Surv(tiempo, censura) ~ 1, data = Sobrevida, \n",
      "    type = \"kaplan-meier\")\n",
      "\n",
      "         n     events     *rmean *se(rmean)     median    0.95LCL    0.95UCL \n",
      "   500.000    421.000     37.201      0.259     37.580     36.903     38.102 \n",
      "    * restricted mean with upper limit =  53.9 \n"
     ]
    }
   ],
   "source": [
    "print(SRV,print.rmean=T)"
   ]
  },
  {
   "cell_type": "markdown",
   "metadata": {},
   "source": [
    "Al observar los percentiles notaremos que a los 33 meses estaba vivo el 75% de los pacientes."
   ]
  },
  {
   "cell_type": "code",
   "execution_count": 94,
   "metadata": {
    "scrolled": true
   },
   "outputs": [
    {
     "name": "stdout",
     "output_type": "stream",
     "text": [
      "$quantile\n",
      "      25       50       75 \n",
      "33.00543 37.57973 41.21234 \n",
      "\n",
      "$lower\n",
      "      25       50       75 \n",
      "32.66779 36.90338 40.28193 \n",
      "\n",
      "$upper\n",
      "      25       50       75 \n",
      "34.00354 38.10236 42.09638 \n",
      "\n"
     ]
    }
   ],
   "source": [
    "print(quantile(SRV))"
   ]
  },
  {
   "cell_type": "markdown",
   "metadata": {},
   "source": [
    "Gráfcio de sobrevida de Kaplan-Meier"
   ]
  },
  {
   "cell_type": "code",
   "execution_count": 91,
   "metadata": {
    "scrolled": true
   },
   "outputs": [
    {
     "data": {
      "image/png": "[encoded data removed]",
      "text/plain": [
       "Plot with title \"Survival function (K-M)\""
      ]
     },
     "metadata": {},
     "output_type": "display_data"
    }
   ],
   "source": [
    "plot(SRV, main=\"Survival function (K-M)\", xlab=\"days\", ylab=\"p\")"
   ]
  },
  {
   "cell_type": "markdown",
   "metadata": {},
   "source": [
    "Gráfcio de riesgo aumulado de Nelson Aalen"
   ]
  },
  {
   "cell_type": "code",
   "execution_count": 16,
   "metadata": {
    "scrolled": true
   },
   "outputs": [
    {
     "data": {
      "image/png": "[encoded data removed]",
      "text/plain": [
       "Plot with title \"Cumulative hazard function \""
      ]
     },
     "metadata": {},
     "output_type": "display_data"
    }
   ],
   "source": [
    "plot(SRV, fun=\"cumhaz\", main=\"Cumulative hazard function \", xlab=\"month\", ylab=\"p\")"
   ]
  },
  {
   "cell_type": "markdown",
   "metadata": {},
   "source": [
    "Analizaremos las curvas de sobrevida en cada grupo de cada covariable y aplicaremos la dócima de Log Rank para evaluar la existencia de diferencias significativas entre grupos. Por otro lado evaluaremos el supuesto de los riesgos proporcionales para validar la utilización del modelo semiparamétrico de Cox."
   ]
  },
  {
   "cell_type": "markdown",
   "metadata": {},
   "source": [
    "## Estadío"
   ]
  },
  {
   "cell_type": "code",
   "execution_count": 93,
   "metadata": {},
   "outputs": [
    {
     "data": {
      "image/png": "[encoded data removed]",
      "text/plain": [
       "plot without title"
      ]
     },
     "metadata": {},
     "output_type": "display_data"
    }
   ],
   "source": [
    "recsurv <- Surv(tiempo,censura)\n",
    "leg.txt<-c(\"est0\", \"est1\",\"est2\")\n",
    "fit_est <- survfit(recsurv~estadio)\n",
    "plot(fit_est, col=c(2,4,1))\n",
    "legend(\"topright\",leg.txt,col=c(2,4,1),lty=1)"
   ]
  },
  {
   "cell_type": "markdown",
   "metadata": {},
   "source": [
    "La dócima de Log Rank confirma la existencia diferencias significativas entre los 3 grupos. El resultado del estadístico es el mismo entregado por Stata."
   ]
  },
  {
   "cell_type": "code",
   "execution_count": 18,
   "metadata": {
    "scrolled": false
   },
   "outputs": [
    {
     "data": {
      "text/plain": [
       "Call:\n",
       "survdiff(formula = surv ~ estadio, rho = 0)\n",
       "\n",
       "            N Observed Expected (O-E)^2/E (O-E)^2/V\n",
       "estadio=0  27       18     29.2      4.32      4.88\n",
       "estadio=1 200      160    175.9      1.44      2.50\n",
       "estadio=2 273      243    215.8      3.42      7.07\n",
       "\n",
       " Chisq= 9.4  on 2 degrees of freedom, p= 0.009 "
      ]
     },
     "metadata": {},
     "output_type": "display_data"
    }
   ],
   "source": [
    "surv<-Surv(tiempo,censura)\n",
    "survdiff(surv ~ estadio, rho=0)"
   ]
  },
  {
   "cell_type": "markdown",
   "metadata": {},
   "source": [
    "Para evaluar la proporcionalidad de los riesgos debemos construir el modelo de Cox de manera univariada y analizar las proporcionalidad."
   ]
  },
  {
   "cell_type": "code",
   "execution_count": 19,
   "metadata": {},
   "outputs": [],
   "source": [
    "fitcox_est <- coxph(surv~estadio)"
   ]
  },
  {
   "cell_type": "code",
   "execution_count": 20,
   "metadata": {},
   "outputs": [
    {
     "data": {
      "text/plain": [
       "Call:\n",
       "coxph(formula = surv ~ estadio)\n",
       "\n",
       "  n= 500, number of events= 421 \n",
       "\n",
       "           coef exp(coef) se(coef)     z Pr(>|z|)   \n",
       "estadio 0.25457   1.28990  0.08382 3.037  0.00239 **\n",
       "---\n",
       "Signif. codes:  0 '***' 0.001 '**' 0.01 '*' 0.05 '.' 0.1 ' ' 1\n",
       "\n",
       "        exp(coef) exp(-coef) lower .95 upper .95\n",
       "estadio      1.29     0.7753     1.094      1.52\n",
       "\n",
       "Concordance= 0.537  (se = 0.014 )\n",
       "Likelihood ratio test= 9.6  on 1 df,   p=0.002\n",
       "Wald test            = 9.22  on 1 df,   p=0.002\n",
       "Score (logrank) test = 9.27  on 1 df,   p=0.002\n"
      ]
     },
     "metadata": {},
     "output_type": "display_data"
    }
   ],
   "source": [
    "summary(fitcox_est)"
   ]
  },
  {
   "cell_type": "markdown",
   "metadata": {},
   "source": [
    "Logaritmizamos las curvas para evidenciar la proporcionalidad"
   ]
  },
  {
   "cell_type": "code",
   "execution_count": 21,
   "metadata": {
    "scrolled": false
   },
   "outputs": [
    {
     "data": {
      "image/png": "[encoded data removed]",
      "text/plain": [
       "Plot with title \"log-log curves by clinic\""
      ]
     },
     "metadata": {},
     "output_type": "display_data"
    }
   ],
   "source": [
    "plot(fit_est, fun = \"cloglog\", xlab = \"Time (in month) using log\",\n",
    "     ylab = \"log-log survival\", main = \"log-log curves by clinic\") "
   ]
  },
  {
   "cell_type": "markdown",
   "metadata": {},
   "source": [
    "Analizamos los residuos de schoenfeld"
   ]
  },
  {
   "cell_type": "code",
   "execution_count": 22,
   "metadata": {
    "scrolled": true
   },
   "outputs": [
    {
     "name": "stderr",
     "output_type": "stream",
     "text": [
      "`geom_smooth()` using formula 'y ~ x'\n"
     ]
    },
    {
     "data": {
      "image/png": "[encoded data removed]",
      "text/plain": [
       "plot without title"
      ]
     },
     "metadata": {},
     "output_type": "display_data"
    }
   ],
   "source": [
    "ggcoxdiagnostics(fitcox_est, type = \"schoenfeld\")"
   ]
  },
  {
   "cell_type": "markdown",
   "metadata": {},
   "source": [
    "Aplicamos el tests de proporcionalidad. Finalmente se concluye que los riesgos son proporcionales"
   ]
  },
  {
   "cell_type": "code",
   "execution_count": 23,
   "metadata": {
    "scrolled": true
   },
   "outputs": [
    {
     "data": {
      "text/plain": [
       "          chisq df    p\n",
       "estadio 0.00752  1 0.93\n",
       "GLOBAL  0.00752  1 0.93"
      ]
     },
     "metadata": {},
     "output_type": "display_data"
    }
   ],
   "source": [
    "cox.zph(fitcox_est)"
   ]
  },
  {
   "cell_type": "markdown",
   "metadata": {},
   "source": [
    "Tabaco:\n",
    "Los pacientes con hábito de tabaquismo parecen ser más riesgosos."
   ]
  },
  {
   "cell_type": "code",
   "execution_count": 24,
   "metadata": {
    "scrolled": true
   },
   "outputs": [
    {
     "data": {
      "image/png": "[encoded data removed]",
      "text/plain": [
       "plot without title"
      ]
     },
     "metadata": {},
     "output_type": "display_data"
    }
   ],
   "source": [
    "leg.txt<-c(\"no fuma\", \"fuma\")\n",
    "fit_tab <- survfit(recsurv~tabaco)\n",
    "plot(fit_tab, col=c(2,4))\n",
    "legend(\"topright\",leg.txt,col=c(2,4),lty=1)"
   ]
  },
  {
   "cell_type": "markdown",
   "metadata": {},
   "source": [
    "La dócima de Log Rank confirma un efecto significativo de la covariable sobre la variable de interés. El valor del estadístico es el mismo entregado por Stata."
   ]
  },
  {
   "cell_type": "code",
   "execution_count": 25,
   "metadata": {
    "scrolled": true
   },
   "outputs": [
    {
     "data": {
      "text/plain": [
       "Call:\n",
       "survdiff(formula = surv ~ tabaco, rho = 0)\n",
       "\n",
       "           N Observed Expected (O-E)^2/E (O-E)^2/V\n",
       "tabaco=0  64       46     60.5     3.483      4.14\n",
       "tabaco=1 436      375    360.5     0.585      4.14\n",
       "\n",
       " Chisq= 4.1  on 1 degrees of freedom, p= 0.04 "
      ]
     },
     "metadata": {},
     "output_type": "display_data"
    }
   ],
   "source": [
    "survdiff(surv ~ tabaco, rho=0)"
   ]
  },
  {
   "cell_type": "markdown",
   "metadata": {},
   "source": [
    "Construimos el modelo de Cox para analizar las proporcionalidad de los riesgos."
   ]
  },
  {
   "cell_type": "code",
   "execution_count": 26,
   "metadata": {},
   "outputs": [],
   "source": [
    "fitcox_tab <- coxph(surv~tabaco)"
   ]
  },
  {
   "cell_type": "code",
   "execution_count": 27,
   "metadata": {
    "scrolled": true
   },
   "outputs": [
    {
     "data": {
      "text/plain": [
       "Call:\n",
       "coxph(formula = surv ~ tabaco)\n",
       "\n",
       "  n= 500, number of events= 421 \n",
       "\n",
       "         coef exp(coef) se(coef)     z Pr(>|z|)  \n",
       "tabaco 0.3204    1.3776   0.1581 2.027   0.0427 *\n",
       "---\n",
       "Signif. codes:  0 '***' 0.001 '**' 0.01 '*' 0.05 '.' 0.1 ' ' 1\n",
       "\n",
       "       exp(coef) exp(-coef) lower .95 upper .95\n",
       "tabaco     1.378     0.7259     1.011     1.878\n",
       "\n",
       "Concordance= 0.518  (se = 0.009 )\n",
       "Likelihood ratio test= 4.47  on 1 df,   p=0.03\n",
       "Wald test            = 4.11  on 1 df,   p=0.04\n",
       "Score (logrank) test = 4.14  on 1 df,   p=0.04\n"
      ]
     },
     "metadata": {},
     "output_type": "display_data"
    }
   ],
   "source": [
    "summary(fitcox_tab)"
   ]
  },
  {
   "cell_type": "markdown",
   "metadata": {},
   "source": [
    "Logaritmizamos las curvas para evidenciar la proporcionalidad"
   ]
  },
  {
   "cell_type": "code",
   "execution_count": 28,
   "metadata": {
    "scrolled": false
   },
   "outputs": [
    {
     "data": {
      "image/png": "[encoded data removed]",
      "text/plain": [
       "Plot with title \"log-log curves by clinic\""
      ]
     },
     "metadata": {},
     "output_type": "display_data"
    }
   ],
   "source": [
    "plot(fit_tab, fun = \"cloglog\", xlab = \"Time (in month) using log\",\n",
    "     ylab = \"log-log survival\", main = \"log-log curves by clinic\") "
   ]
  },
  {
   "cell_type": "markdown",
   "metadata": {},
   "source": [
    "Analizamos los residuos de schoenfeld"
   ]
  },
  {
   "cell_type": "code",
   "execution_count": 29,
   "metadata": {
    "scrolled": true
   },
   "outputs": [
    {
     "name": "stderr",
     "output_type": "stream",
     "text": [
      "`geom_smooth()` using formula 'y ~ x'\n"
     ]
    },
    {
     "data": {
      "image/png": "[encoded data removed]",
      "text/plain": [
       "plot without title"
      ]
     },
     "metadata": {},
     "output_type": "display_data"
    }
   ],
   "source": [
    "ggcoxdiagnostics(fitcox_tab, type = \"schoenfeld\")"
   ]
  },
  {
   "cell_type": "markdown",
   "metadata": {},
   "source": [
    "Aplicamos el tests de proporcionalidad. Finalmente se concluye que los riesgos son proporcionales"
   ]
  },
  {
   "cell_type": "code",
   "execution_count": 30,
   "metadata": {
    "scrolled": true
   },
   "outputs": [
    {
     "data": {
      "text/plain": [
       "        chisq df    p\n",
       "tabaco 0.0477  1 0.83\n",
       "GLOBAL 0.0477  1 0.83"
      ]
     },
     "metadata": {},
     "output_type": "display_data"
    }
   ],
   "source": [
    "cox.zph(fitcox_tab)"
   ]
  },
  {
   "cell_type": "markdown",
   "metadata": {},
   "source": [
    "Alcohol:\n",
    "Los pacientes con hábito de consumo de alcohol presentan una sobrevida superior."
   ]
  },
  {
   "cell_type": "code",
   "execution_count": 31,
   "metadata": {},
   "outputs": [
    {
     "data": {
      "image/png": "[encoded data removed]",
      "text/plain": [
       "plot without title"
      ]
     },
     "metadata": {},
     "output_type": "display_data"
    }
   ],
   "source": [
    "leg.txt<-c(\"No bebe\", \"bebe\")\n",
    "fit_alc <- survfit(recsurv~alcohol)\n",
    "plot(fit_alc, col=c(2,4))\n",
    "legend(\"topright\",leg.txt,col=c(2,4),lty=1)"
   ]
  },
  {
   "cell_type": "markdown",
   "metadata": {},
   "source": [
    "La dócima de Log Rank muestra un efecto significativo de la covariable sobre la variable de interés."
   ]
  },
  {
   "cell_type": "code",
   "execution_count": 32,
   "metadata": {
    "scrolled": true
   },
   "outputs": [
    {
     "data": {
      "text/plain": [
       "Call:\n",
       "survdiff(formula = surv ~ alcohol, rho = 0)\n",
       "\n",
       "            N Observed Expected (O-E)^2/E (O-E)^2/V\n",
       "alcohol=0 473      403    391.8     0.323      4.88\n",
       "alcohol=1  27       18     29.2     4.325      4.88\n",
       "\n",
       " Chisq= 4.9  on 1 degrees of freedom, p= 0.03 "
      ]
     },
     "metadata": {},
     "output_type": "display_data"
    }
   ],
   "source": [
    "surv<-Surv(tiempo,censura)\n",
    "survdiff(surv ~ alcohol, rho=0)"
   ]
  },
  {
   "cell_type": "markdown",
   "metadata": {},
   "source": [
    "Construimos el modelo de Cox univariado para analizar las proporcionalidad de los riesgos."
   ]
  },
  {
   "cell_type": "code",
   "execution_count": 33,
   "metadata": {},
   "outputs": [],
   "source": [
    "fitcox_alc <- coxph(surv~alcohol)"
   ]
  },
  {
   "cell_type": "code",
   "execution_count": 34,
   "metadata": {
    "scrolled": true
   },
   "outputs": [
    {
     "data": {
      "text/plain": [
       "Call:\n",
       "coxph(formula = surv ~ alcohol)\n",
       "\n",
       "  n= 500, number of events= 421 \n",
       "\n",
       "           coef exp(coef) se(coef)      z Pr(>|z|)  \n",
       "alcohol -0.5438    0.5805   0.2492 -2.183   0.0291 *\n",
       "---\n",
       "Signif. codes:  0 '***' 0.001 '**' 0.01 '*' 0.05 '.' 0.1 ' ' 1\n",
       "\n",
       "        exp(coef) exp(-coef) lower .95 upper .95\n",
       "alcohol    0.5805      1.723    0.3562     0.946\n",
       "\n",
       "Concordance= 0.509  (se = 0.007 )\n",
       "Likelihood ratio test= 5.63  on 1 df,   p=0.02\n",
       "Wald test            = 4.76  on 1 df,   p=0.03\n",
       "Score (logrank) test = 4.88  on 1 df,   p=0.03\n"
      ]
     },
     "metadata": {},
     "output_type": "display_data"
    }
   ],
   "source": [
    "summary(fitcox_alc)"
   ]
  },
  {
   "cell_type": "markdown",
   "metadata": {},
   "source": [
    "Logaritmizamos las curvas para evidenciar la proporcionalidad"
   ]
  },
  {
   "cell_type": "code",
   "execution_count": 35,
   "metadata": {
    "scrolled": true
   },
   "outputs": [
    {
     "data": {
      "image/png": "[encoded data removed]",
      "text/plain": [
       "Plot with title \"log-log curves by clinic\""
      ]
     },
     "metadata": {},
     "output_type": "display_data"
    }
   ],
   "source": [
    "plot(fit_alc, fun = \"cloglog\", xlab = \"Time (in month) using log\",\n",
    "     ylab = \"log-log survival\", main = \"log-log curves by clinic\") "
   ]
  },
  {
   "cell_type": "markdown",
   "metadata": {},
   "source": [
    "Analizamos los residuos de schoenfeld"
   ]
  },
  {
   "cell_type": "code",
   "execution_count": 36,
   "metadata": {
    "scrolled": true
   },
   "outputs": [
    {
     "name": "stderr",
     "output_type": "stream",
     "text": [
      "`geom_smooth()` using formula 'y ~ x'\n"
     ]
    },
    {
     "data": {
      "image/png": "[encoded data removed]",
      "text/plain": [
       "plot without title"
      ]
     },
     "metadata": {},
     "output_type": "display_data"
    }
   ],
   "source": [
    "ggcoxdiagnostics(fitcox_alc, type = \"schoenfeld\")"
   ]
  },
  {
   "cell_type": "markdown",
   "metadata": {},
   "source": [
    "Aplicamos el tests de proporcionalidad. Finalmente se concluye que los riesgos son proporcionales"
   ]
  },
  {
   "cell_type": "code",
   "execution_count": 37,
   "metadata": {},
   "outputs": [
    {
     "data": {
      "text/plain": [
       "        chisq df    p\n",
       "alcohol 0.971  1 0.32\n",
       "GLOBAL  0.971  1 0.32"
      ]
     },
     "metadata": {},
     "output_type": "display_data"
    }
   ],
   "source": [
    "cox.zph(fitcox_alc)"
   ]
  },
  {
   "cell_type": "markdown",
   "metadata": {},
   "source": [
    "Antecedentes Familiares:\n",
    "Parece no existir un efecto significativo de esta covariable sobre el evento de interés."
   ]
  },
  {
   "cell_type": "code",
   "execution_count": 38,
   "metadata": {},
   "outputs": [
    {
     "data": {
      "image/png": "[encoded data removed]",
      "text/plain": [
       "plot without title"
      ]
     },
     "metadata": {},
     "output_type": "display_data"
    }
   ],
   "source": [
    "leg.txt<-c(\"no tiene\", \"tiene\")\n",
    "fit_ant <- survfit(recsurv~antec)\n",
    "plot(fit_ant, col=c(2,4))\n",
    "legend(\"topright\",leg.txt,col=c(2,4),lty=1)\n",
    "\n"
   ]
  },
  {
   "cell_type": "markdown",
   "metadata": {},
   "source": [
    "La dócima de Log Rank no muestra un efecto significativo de la covariable sobre la variable de interés."
   ]
  },
  {
   "cell_type": "code",
   "execution_count": 39,
   "metadata": {
    "scrolled": true
   },
   "outputs": [
    {
     "data": {
      "text/plain": [
       "Call:\n",
       "survdiff(formula = surv ~ antec, rho = 0)\n",
       "\n",
       "          N Observed Expected (O-E)^2/E (O-E)^2/V\n",
       "antec=0 151      131      120     0.983      1.38\n",
       "antec=1 349      290      301     0.393      1.38\n",
       "\n",
       " Chisq= 1.4  on 1 degrees of freedom, p= 0.2 "
      ]
     },
     "metadata": {},
     "output_type": "display_data"
    }
   ],
   "source": [
    "surv<-Surv(tiempo,censura)\n",
    "survdiff(surv ~ antec, rho=0)"
   ]
  },
  {
   "cell_type": "markdown",
   "metadata": {},
   "source": [
    "Construimos el modelo de Cox univariado para analizar las proporcionalidad de los riesgos."
   ]
  },
  {
   "cell_type": "code",
   "execution_count": 40,
   "metadata": {
    "scrolled": true
   },
   "outputs": [
    {
     "data": {
      "text/plain": [
       "Call:\n",
       "coxph(formula = surv ~ antec)\n",
       "\n",
       "  n= 500, number of events= 421 \n",
       "\n",
       "         coef exp(coef) se(coef)      z Pr(>|z|)\n",
       "antec -0.1242    0.8832   0.1056 -1.176     0.24\n",
       "\n",
       "      exp(coef) exp(-coef) lower .95 upper .95\n",
       "antec    0.8832      1.132    0.7181     1.086\n",
       "\n",
       "Concordance= 0.51  (se = 0.013 )\n",
       "Likelihood ratio test= 1.36  on 1 df,   p=0.2\n",
       "Wald test            = 1.38  on 1 df,   p=0.2\n",
       "Score (logrank) test = 1.38  on 1 df,   p=0.2\n"
      ]
     },
     "metadata": {},
     "output_type": "display_data"
    }
   ],
   "source": [
    "fitcox_ant <- coxph(surv~antec)\n",
    "\n",
    "summary(fitcox_ant)"
   ]
  },
  {
   "cell_type": "markdown",
   "metadata": {},
   "source": [
    "Logaritmizamos las curvas para evidenciar la proporcionalidad"
   ]
  },
  {
   "cell_type": "code",
   "execution_count": 41,
   "metadata": {
    "scrolled": true
   },
   "outputs": [
    {
     "data": {
      "image/png": "[encoded data removed]",
      "text/plain": [
       "Plot with title \"log-log curves by clinic\""
      ]
     },
     "metadata": {},
     "output_type": "display_data"
    }
   ],
   "source": [
    "plot(fit_ant, fun = \"cloglog\", xlab = \"Time (in month) using log\",\n",
    "     ylab = \"log-log survival\", main = \"log-log curves by clinic\") "
   ]
  },
  {
   "cell_type": "markdown",
   "metadata": {},
   "source": [
    "Analizamos los residuos de schoenfeld"
   ]
  },
  {
   "cell_type": "code",
   "execution_count": 42,
   "metadata": {
    "scrolled": true
   },
   "outputs": [
    {
     "name": "stderr",
     "output_type": "stream",
     "text": [
      "`geom_smooth()` using formula 'y ~ x'\n"
     ]
    },
    {
     "data": {
      "image/png": "[encoded data removed]",
      "text/plain": [
       "plot without title"
      ]
     },
     "metadata": {},
     "output_type": "display_data"
    }
   ],
   "source": [
    "ggcoxdiagnostics(fitcox_ant, type = \"schoenfeld\")"
   ]
  },
  {
   "cell_type": "markdown",
   "metadata": {},
   "source": [
    "Aplicamos el tests de proporcionalidad. Finalmente se concluye que los riesgos son proporcionales"
   ]
  },
  {
   "cell_type": "code",
   "execution_count": 43,
   "metadata": {
    "scrolled": true
   },
   "outputs": [
    {
     "data": {
      "text/plain": [
       "       chisq df    p\n",
       "antec  0.247  1 0.62\n",
       "GLOBAL 0.247  1 0.62"
      ]
     },
     "metadata": {},
     "output_type": "display_data"
    }
   ],
   "source": [
    "cox.zph(fitcox_ant)"
   ]
  },
  {
   "cell_type": "markdown",
   "metadata": {},
   "source": [
    "En resumen sólo la covariable antecedentes familiares no presenta un efecto significativo sobre la respuesta, sin embargo, y a diferencia de Stata, se observa proporcionalidad en los riesgos."
   ]
  },
  {
   "cell_type": "markdown",
   "metadata": {},
   "source": [
    "Buscaremos un ajuste paramétrico dentro de la familia de las exponenciales."
   ]
  },
  {
   "cell_type": "markdown",
   "metadata": {},
   "source": [
    "Los datos distribuyen exponencial?\n",
    "Para ello utilizaremos el package flexsur que nos permite realizar una comparación entre la curva observada y esperada dada una determinada distribución de los datos."
   ]
  },
  {
   "cell_type": "code",
   "execution_count": 44,
   "metadata": {
    "scrolled": true
   },
   "outputs": [
    {
     "data": {
      "text/plain": [
       "Call:\n",
       "flexsurvreg(formula = recsurv ~ 1, dist = \"exp\")\n",
       "\n",
       "Estimates: \n",
       "      est      L95%     U95%     se     \n",
       "rate  0.02314  0.02103  0.02546  0.00113\n",
       "\n",
       "N = 500,  Events: 421,  Censored: 79\n",
       "Total time at risk: 18194.79\n",
       "Log-likelihood = -2006.595, df = 1\n",
       "AIC = 4015.189\n"
      ]
     },
     "metadata": {},
     "output_type": "display_data"
    },
    {
     "data": {
      "image/png": "[encoded data removed]",
      "text/plain": [
       "plot without title"
      ]
     },
     "metadata": {},
     "output_type": "display_data"
    }
   ],
   "source": [
    "fit_exp<-flexsurvreg(recsurv~1, dist=\"exp\")\n",
    "fit_exp\n",
    "plot(fit_exp)"
   ]
  },
  {
   "cell_type": "markdown",
   "metadata": {},
   "source": [
    "No se observa un buen ajuste con la regresión exponencial"
   ]
  },
  {
   "cell_type": "markdown",
   "metadata": {},
   "source": [
    "Los datos distribuyen Weibull?"
   ]
  },
  {
   "cell_type": "code",
   "execution_count": 47,
   "metadata": {
    "scrolled": true
   },
   "outputs": [
    {
     "data": {
      "text/plain": [
       "Call:\n",
       "flexsurvreg(formula = recsurv ~ 1, dist = \"weibull\")\n",
       "\n",
       "Estimates: \n",
       "       est     L95%    U95%    se    \n",
       "shape   7.527   7.007   8.085   0.275\n",
       "scale  39.537  39.028  40.053   0.262\n",
       "\n",
       "N = 500,  Events: 421,  Censored: 79\n",
       "Total time at risk: 18194.79\n",
       "Log-likelihood = -1381.363, df = 2\n",
       "AIC = 2766.727\n"
      ]
     },
     "metadata": {},
     "output_type": "display_data"
    },
    {
     "data": {
      "image/png": "[encoded data removed]",
      "text/plain": [
       "plot without title"
      ]
     },
     "metadata": {},
     "output_type": "display_data"
    }
   ],
   "source": [
    "fit_weibull<-flexsurvreg(recsurv~1, dist=\"weibull\")\n",
    "fit_weibull\n",
    "plot(fit_weibull)"
   ]
  },
  {
   "cell_type": "markdown",
   "metadata": {},
   "source": [
    "Al igual que Stata, el ajuste weibull se presenta como una buena alternativa."
   ]
  },
  {
   "cell_type": "markdown",
   "metadata": {},
   "source": [
    "Los datos distribuyen gamma?"
   ]
  },
  {
   "cell_type": "code",
   "execution_count": 50,
   "metadata": {
    "scrolled": true
   },
   "outputs": [
    {
     "data": {
      "text/plain": [
       "Call:\n",
       "flexsurvreg(formula = recsurv ~ 1, dist = \"gamma\")\n",
       "\n",
       "Estimates: \n",
       "       est      L95%     U95%     se     \n",
       "shape  42.0420  36.7603  48.0825   2.8797\n",
       "rate    1.1285   0.9847   1.2934   0.0785\n",
       "\n",
       "N = 500,  Events: 421,  Censored: 79\n",
       "Total time at risk: 18194.79\n",
       "Log-likelihood = -1376.222, df = 2\n",
       "AIC = 2756.443\n"
      ]
     },
     "metadata": {},
     "output_type": "display_data"
    },
    {
     "data": {
      "image/png": "[encoded data removed]",
      "text/plain": [
       "plot without title"
      ]
     },
     "metadata": {},
     "output_type": "display_data"
    }
   ],
   "source": [
    "fit_gamma<-flexsurvreg(recsurv~1, dist=\"gamma\")\n",
    "fit_gamma\n",
    "plot(fit_gamma)"
   ]
  },
  {
   "cell_type": "markdown",
   "metadata": {},
   "source": [
    "Alternativamente la distribución gamma ofrece un buen ajuste "
   ]
  },
  {
   "cell_type": "markdown",
   "metadata": {},
   "source": [
    "Los datos distribuyen gengamma?"
   ]
  },
  {
   "cell_type": "code",
   "execution_count": 53,
   "metadata": {
    "scrolled": true
   },
   "outputs": [
    {
     "data": {
      "text/plain": [
       "Call:\n",
       "flexsurvreg(formula = recsurv ~ 1, dist = \"gengamma\")\n",
       "\n",
       "Estimates: \n",
       "       est      L95%     U95%     se     \n",
       "mu     3.64039  3.61756  3.66321  0.01165\n",
       "sigma  0.14597  0.13436  0.15858  0.00617\n",
       "Q      0.47023  0.21139  0.72908  0.13207\n",
       "\n",
       "N = 500,  Events: 421,  Censored: 79\n",
       "Total time at risk: 18194.79\n",
       "Log-likelihood = -1373.421, df = 3\n",
       "AIC = 2752.841\n"
      ]
     },
     "metadata": {},
     "output_type": "display_data"
    },
    {
     "data": {
      "image/png": "[encoded data removed]",
      "text/plain": [
       "plot without title"
      ]
     },
     "metadata": {},
     "output_type": "display_data"
    }
   ],
   "source": [
    "fit_gengamma<-flexsurvreg(recsurv~1, dist=\"gengamma\")\n",
    "fit_gengamma\n",
    "plot(fit_gengamma)"
   ]
  },
  {
   "cell_type": "markdown",
   "metadata": {},
   "source": [
    "Visualmente la distribución gengamma se presenta como la de mejor ajuste, sin embargo al aplicarlo en Stata no mostró resultados consistentes con el modelo de Cox."
   ]
  },
  {
   "cell_type": "markdown",
   "metadata": {},
   "source": [
    "Los datos distribuyen Lognormal?"
   ]
  },
  {
   "cell_type": "code",
   "execution_count": 59,
   "metadata": {},
   "outputs": [
    {
     "data": {
      "text/plain": [
       "Call:\n",
       "flexsurvreg(formula = recsurv ~ 1, dist = \"lnorm\")\n",
       "\n",
       "Estimates: \n",
       "         est      L95%     U95%     se     \n",
       "meanlog  3.60647  3.59215  3.62078  0.00731\n",
       "sdlog    0.15726  0.14694  0.16830  0.00544\n",
       "\n",
       "N = 500,  Events: 421,  Censored: 79\n",
       "Total time at risk: 18194.79\n",
       "Log-likelihood = -1379.521, df = 2\n",
       "AIC = 2763.042\n"
      ]
     },
     "metadata": {},
     "output_type": "display_data"
    },
    {
     "data": {
      "image/png": "[encoded data removed]",
      "text/plain": [
       "plot without title"
      ]
     },
     "metadata": {},
     "output_type": "display_data"
    }
   ],
   "source": [
    "fit_lognormal<-flexsurvreg(recsurv~1, dist=\"lnorm\")\n",
    "fit_lognormal\n",
    "plot(fit_lognormal)"
   ]
  },
  {
   "cell_type": "markdown",
   "metadata": {},
   "source": [
    "Los datos distribuyen gompertz?"
   ]
  },
  {
   "cell_type": "code",
   "execution_count": 62,
   "metadata": {
    "scrolled": true
   },
   "outputs": [
    {
     "data": {
      "text/plain": [
       "Call:\n",
       "flexsurvreg(formula = recsurv ~ 1, dist = \"gompertz\")\n",
       "\n",
       "Estimates: \n",
       "       est       L95%      U95%      se      \n",
       "shape  1.92e-01  1.79e-01  2.06e-01  6.76e-03\n",
       "rate   9.00e-05  5.51e-05  1.47e-04  2.25e-05\n",
       "\n",
       "N = 500,  Events: 421,  Censored: 79\n",
       "Total time at risk: 18194.79\n",
       "Log-likelihood = -1401.792, df = 2\n",
       "AIC = 2807.585\n"
      ]
     },
     "metadata": {},
     "output_type": "display_data"
    },
    {
     "data": {
      "image/png": "[encoded data removed]",
      "text/plain": [
       "plot without title"
      ]
     },
     "metadata": {},
     "output_type": "display_data"
    }
   ],
   "source": [
    "fit_gompertz<-flexsurvreg(recsurv~1, dist=\"gompertz\")\n",
    "fit_gompertz\n",
    "plot(fit_gompertz)"
   ]
  },
  {
   "cell_type": "markdown",
   "metadata": {},
   "source": [
    "Ajustaremos los datos a un modelo paramétrico."
   ]
  },
  {
   "cell_type": "markdown",
   "metadata": {},
   "source": [
    "\n",
    "Para hacer comparativo los modelos con Stata es necesario observar el exponente de los coeficientes que corresponde al hazar ratio."
   ]
  },
  {
   "cell_type": "markdown",
   "metadata": {},
   "source": [
    "Ajuste Exponencial \n",
    "Hazar ratio para tabaco =1.081 ; alcohol =0.866 ; antec =1.066; estadío_2 =1.1602"
   ]
  },
  {
   "cell_type": "markdown",
   "metadata": {},
   "source": [
    "Los pacientes en estadío 2 tienen un riesgo relativo de un 16% superior de realizar el evento de interés, por otro lado los pacientes que consumen alcohol tienen un 14% menos. "
   ]
  },
  {
   "cell_type": "code",
   "execution_count": 71,
   "metadata": {},
   "outputs": [
    {
     "data": {
      "text/plain": [
       "Call:\n",
       "flexsurvreg(formula = Surv(tiempo, censura) ~ tabaco + alcohol + \n",
       "    antec + estadio_2, data = Sobrevida, dist = \"exponential\")\n",
       "\n",
       "Estimates: \n",
       "           data mean  est       L95%      U95%      se        exp(est)\n",
       "rate             NA    0.01915   0.01224   0.02998   0.00438        NA\n",
       "tabaco      0.87200    0.07795  -0.32984   0.48575   0.20806   1.08107\n",
       "alcohol     0.05400   -0.14371  -0.73583   0.44842   0.30211   0.86614\n",
       "antec       0.69800    0.06405  -0.18818   0.31629   0.12869   1.06615\n",
       "estadio_2   0.54600    0.14858  -0.10322   0.40037   0.12847   1.16019\n",
       "           L95%      U95%    \n",
       "rate             NA        NA\n",
       "tabaco      0.71904   1.62539\n",
       "alcohol     0.47911   1.56583\n",
       "antec       0.82846   1.37202\n",
       "estadio_2   0.90193   1.49238\n",
       "\n",
       "N = 500,  Events: 421,  Censored: 79\n",
       "Total time at risk: 18194.79\n",
       "Log-likelihood = -2004.857, df = 5\n",
       "AIC = 4019.713\n"
      ]
     },
     "metadata": {},
     "output_type": "display_data"
    }
   ],
   "source": [
    "fit_exp<-flexsurvreg(formula=Surv(tiempo, censura)~  tabaco + alcohol+ antec + estadio_2 , dist=\"exponential\", data=Sobrevida)\n",
    "fit_exp"
   ]
  },
  {
   "cell_type": "markdown",
   "metadata": {},
   "source": [
    "Ajuste Weibull\n",
    "Hazar ratio para tabaco =1.014 ; alcohol =0.596 ; antec =1.084; estadío_2 =1.292"
   ]
  },
  {
   "cell_type": "markdown",
   "metadata": {},
   "source": [
    "Los pacientes en estadío 2 tienen un riesgo relativo de un 29% superior de realizar el evento de interés, por otro lado los pacientes que consumen alcohol tienen un 44% menos. "
   ]
  },
  {
   "cell_type": "code",
   "execution_count": 75,
   "metadata": {},
   "outputs": [
    {
     "data": {
      "text/plain": [
       "Call:\n",
       "flexsurvreg(formula = Surv(tiempo, censura) ~ tabaco + alcohol + \n",
       "    antec + estadio_2, data = Sobrevida, dist = \"weibullPH\")\n",
       "\n",
       "Estimates: \n",
       "           data mean  est        L95%       U95%       se         exp(est) \n",
       "shape             NA   7.64e+00   7.11e+00   8.21e+00   2.80e-01         NA\n",
       "scale             NA   5.17e-13   6.48e-14   4.12e-12   5.47e-13         NA\n",
       "tabaco      8.72e-01   1.48e-02  -3.93e-01   4.23e-01   2.08e-01   1.01e+00\n",
       "alcohol     5.40e-02  -5.33e-01  -1.13e+00   6.23e-02   3.04e-01   5.87e-01\n",
       "antec       6.98e-01   8.12e-02  -1.71e-01   3.33e-01   1.29e-01   1.08e+00\n",
       "estadio_2   5.46e-01   2.56e-01   4.37e-03   5.08e-01   1.28e-01   1.29e+00\n",
       "           L95%       U95%     \n",
       "shape             NA         NA\n",
       "scale             NA         NA\n",
       "tabaco      6.75e-01   1.53e+00\n",
       "alcohol     3.24e-01   1.06e+00\n",
       "antec       8.43e-01   1.40e+00\n",
       "estadio_2   1.00e+00   1.66e+00\n",
       "\n",
       "N = 500,  Events: 421,  Censored: 79\n",
       "Total time at risk: 18194.79\n",
       "Log-likelihood = -1374.26, df = 6\n",
       "AIC = 2760.521\n"
      ]
     },
     "metadata": {},
     "output_type": "display_data"
    }
   ],
   "source": [
    "fit_weibullPH<-flexsurvreg(formula=Surv(tiempo, censura)~  tabaco + alcohol+ antec + estadio_2  , dist=\"weibullPH\", data=Sobrevida)\n",
    "fit_weibullPH"
   ]
  },
  {
   "cell_type": "markdown",
   "metadata": {},
   "source": [
    "Ajuste Gompertz\n",
    "Hazar ratio para tabaco =0.997 ; alcohol =0.482 ; antec =1.08; estadío_2 =1.28"
   ]
  },
  {
   "cell_type": "markdown",
   "metadata": {},
   "source": [
    "Los pacientes en estadío 2 tienen un riesgo relativo de un 28% superior de realizar el evento de interés, por otro lado los pacientes que consumen alcohol tienen un 48% menos."
   ]
  },
  {
   "cell_type": "code",
   "execution_count": 78,
   "metadata": {},
   "outputs": [
    {
     "data": {
      "text/plain": [
       "Call:\n",
       "flexsurvreg(formula = Surv(tiempo, censura) ~ tabaco + alcohol + \n",
       "    antec + estadio_2, data = Sobrevida, dist = \"gompertz\")\n",
       "\n",
       "Estimates: \n",
       "           data mean  est        L95%       U95%       se         exp(est) \n",
       "shape             NA   1.97e-01   1.83e-01   2.11e-01   7.09e-03         NA\n",
       "rate              NA   6.56e-05   3.37e-05   1.28e-04   2.23e-05         NA\n",
       "tabaco      8.72e-01  -3.41e-03  -4.11e-01   4.04e-01   2.08e-01   9.97e-01\n",
       "alcohol     5.40e-02  -7.31e-01  -1.33e+00  -1.28e-01   3.07e-01   4.82e-01\n",
       "antec       6.98e-01   7.88e-02  -1.73e-01   3.31e-01   1.29e-01   1.08e+00\n",
       "estadio_2   5.46e-01   2.46e-01  -5.21e-03   4.98e-01   1.28e-01   1.28e+00\n",
       "           L95%       U95%     \n",
       "shape             NA         NA\n",
       "rate              NA         NA\n",
       "tabaco      6.63e-01   1.50e+00\n",
       "alcohol     2.64e-01   8.80e-01\n",
       "antec       8.41e-01   1.39e+00\n",
       "estadio_2   9.95e-01   1.65e+00\n",
       "\n",
       "N = 500,  Events: 421,  Censored: 79\n",
       "Total time at risk: 18194.79\n",
       "Log-likelihood = -1392.412, df = 6\n",
       "AIC = 2796.823\n"
      ]
     },
     "metadata": {},
     "output_type": "display_data"
    }
   ],
   "source": [
    "fit_Gompertz<-flexsurvreg(formula=Surv(tiempo, censura)~  tabaco + alcohol+ antec + estadio_2  , dist=\"gompertz\", data=Sobrevida)\n",
    "fit_Gompertz"
   ]
  },
  {
   "cell_type": "markdown",
   "metadata": {},
   "source": [
    "Ajuste LogLogistic\n",
    "En general todos los HR de este ajuste son muy cercanos a 1, luego el modelo no ofrece un buen ajuste. "
   ]
  },
  {
   "cell_type": "code",
   "execution_count": 79,
   "metadata": {},
   "outputs": [
    {
     "data": {
      "text/plain": [
       "Call:\n",
       "flexsurvreg(formula = Surv(tiempo, censura) ~ tabaco + alcohol + \n",
       "    antec + estadio_2, data = Sobrevida, dist = \"llogis\")\n",
       "\n",
       "Estimates: \n",
       "           data mean  est       L95%      U95%      se        exp(est)\n",
       "shape            NA   11.14666  10.30533  12.05667   0.44632        NA\n",
       "scale            NA   38.93591  36.53138  41.49870   1.26634        NA\n",
       "tabaco      0.87200   -0.01729  -0.07434   0.03977   0.02911   0.98286\n",
       "alcohol     0.05400    0.01989  -0.06313   0.10291   0.04236   1.02009\n",
       "antec       0.69800   -0.01876  -0.05674   0.01922   0.01938   0.98142\n",
       "estadio_2   0.54600   -0.04030  -0.07815  -0.00246   0.01931   0.96050\n",
       "           L95%      U95%    \n",
       "shape            NA        NA\n",
       "scale            NA        NA\n",
       "tabaco      0.92835   1.04057\n",
       "alcohol     0.93882   1.10839\n",
       "antec       0.94484   1.01941\n",
       "estadio_2   0.92483   0.99755\n",
       "\n",
       "N = 500,  Events: 421,  Censored: 79\n",
       "Total time at risk: 18194.79\n",
       "Log-likelihood = -1378.122, df = 6\n",
       "AIC = 2768.245\n"
      ]
     },
     "metadata": {},
     "output_type": "display_data"
    }
   ],
   "source": [
    "fit_llogis<-flexsurvreg(formula=Surv(tiempo, censura)~  tabaco + alcohol+ antec + estadio_2  , dist=\"llogis\", data=Sobrevida)\n",
    "fit_llogis"
   ]
  },
  {
   "cell_type": "markdown",
   "metadata": {},
   "source": [
    "Ajuste Lognormal\n",
    "En general todos los HR de este ajuste son muy cercanos a 1, luego el modelo no ofrece un buen ajuste. "
   ]
  },
  {
   "cell_type": "code",
   "execution_count": 80,
   "metadata": {},
   "outputs": [
    {
     "data": {
      "text/plain": [
       "Call:\n",
       "flexsurvreg(formula = Surv(tiempo, censura) ~ tabaco + alcohol + \n",
       "    antec + estadio_2, data = Sobrevida, dist = \"lognormal\")\n",
       "\n",
       "Estimates: \n",
       "           data mean  est        L95%       U95%       se         exp(est) \n",
       "meanlog           NA   3.655301   3.589749   3.720854   0.033446         NA\n",
       "sdlog             NA   0.156124   0.145894   0.167071   0.005398         NA\n",
       "tabaco      0.872000  -0.022228  -0.081051   0.036595   0.030012   0.978018\n",
       "alcohol     0.054000   0.024591  -0.058286   0.107469   0.042285   1.024896\n",
       "antec       0.698000  -0.013729  -0.051879   0.024421   0.019465   0.986365\n",
       "estadio_2   0.546000  -0.038036  -0.075766  -0.000306   0.019250   0.962678\n",
       "           L95%       U95%     \n",
       "meanlog           NA         NA\n",
       "sdlog             NA         NA\n",
       "tabaco      0.922147   1.037273\n",
       "alcohol     0.943380   1.113456\n",
       "antec       0.949444   1.024721\n",
       "estadio_2   0.927033   0.999694\n",
       "\n",
       "N = 500,  Events: 421,  Censored: 79\n",
       "Total time at risk: 18194.79\n",
       "Log-likelihood = -1374.575, df = 6\n",
       "AIC = 2761.149\n"
      ]
     },
     "metadata": {},
     "output_type": "display_data"
    }
   ],
   "source": [
    "fit_lognormal<-flexsurvreg(formula=Surv(tiempo, censura)~  tabaco + alcohol+ antec + estadio_2  , dist=\"lognormal\", data=Sobrevida)\n",
    "fit_lognormal"
   ]
  },
  {
   "cell_type": "markdown",
   "metadata": {},
   "source": [
    "Ajuste gengamma\n",
    "En general todos los HR de este ajuste son muy cercanos a 1, luego el modelo no ofrece un buen ajuste. "
   ]
  },
  {
   "cell_type": "code",
   "execution_count": 82,
   "metadata": {},
   "outputs": [
    {
     "data": {
      "text/plain": [
       "Call:\n",
       "flexsurvreg(formula = Surv(tiempo, censura) ~ tabaco + alcohol + \n",
       "    antec + estadio_2, data = Sobrevida, dist = \"gengamma\")\n",
       "\n",
       "Estimates: \n",
       "           data mean  est       L95%      U95%      se        exp(est)\n",
       "mu               NA    3.68023   3.61683   3.74364   0.03235        NA\n",
       "sigma            NA    0.14395   0.13222   0.15672   0.00625        NA\n",
       "Q                NA    0.50325   0.23521   0.77129   0.13676        NA\n",
       "tabaco      0.87200   -0.01136  -0.06788   0.04515   0.02883   0.98870\n",
       "alcohol     0.05400    0.04344  -0.03792   0.12479   0.04151   1.04439\n",
       "antec       0.69800   -0.01332  -0.04904   0.02240   0.01823   0.98677\n",
       "estadio_2   0.54600   -0.03728  -0.07275  -0.00180   0.01810   0.96341\n",
       "           L95%      U95%    \n",
       "mu               NA        NA\n",
       "sigma            NA        NA\n",
       "Q                NA        NA\n",
       "tabaco      0.93438   1.04619\n",
       "alcohol     0.96279   1.13291\n",
       "antec       0.95214   1.02266\n",
       "estadio_2   0.92983   0.99820\n",
       "\n",
       "N = 500,  Events: 421,  Censored: 79\n",
       "Total time at risk: 18194.79\n",
       "Log-likelihood = -1367.966, df = 7\n",
       "AIC = 2749.931\n"
      ]
     },
     "metadata": {},
     "output_type": "display_data"
    }
   ],
   "source": [
    "fit_gengamma<-flexsurvreg(formula=Surv(tiempo, censura)~  tabaco + alcohol+ antec + estadio_2  , dist=\"gengamma\", data=Sobrevida)\n",
    "fit_gengamma"
   ]
  },
  {
   "cell_type": "markdown",
   "metadata": {},
   "source": [
    "Modelo semiparamétrico de riesgos proporcionales de Cox\n",
    "El modelo semiparamétrico resultó ser muy similar a la propuesta paramétrica de weibull y gompertz mostrando un 28% de mayor riesgo relativo en la variable estadío, y un 34% de protección debido al consumo de alcohol."
   ]
  },
  {
   "cell_type": "code",
   "execution_count": 86,
   "metadata": {},
   "outputs": [],
   "source": [
    "fit <- coxph(surv~ tabaco + alcohol+ antec + estadio_2 , data=Sobrevida)"
   ]
  },
  {
   "cell_type": "code",
   "execution_count": 87,
   "metadata": {
    "scrolled": true
   },
   "outputs": [
    {
     "data": {
      "text/plain": [
       "Call:\n",
       "coxph(formula = surv ~ tabaco + alcohol + antec + estadio_2, \n",
       "    data = Sobrevida)\n",
       "\n",
       "  n= 500, number of events= 421 \n",
       "\n",
       "              coef exp(coef) se(coef)      z Pr(>|z|)  \n",
       "tabaco     0.01739   1.01754  0.20836  0.083   0.9335  \n",
       "alcohol   -0.40446   0.66734  0.30940 -1.307   0.1911  \n",
       "antec      0.07128   1.07388  0.12910  0.552   0.5809  \n",
       "estadio_2  0.24998   1.28399  0.12880  1.941   0.0523 .\n",
       "---\n",
       "Signif. codes:  0 '***' 0.001 '**' 0.01 '*' 0.05 '.' 0.1 ' ' 1\n",
       "\n",
       "          exp(coef) exp(-coef) lower .95 upper .95\n",
       "tabaco       1.0175     0.9828    0.6764     1.531\n",
       "alcohol      0.6673     1.4985    0.3639     1.224\n",
       "antec        1.0739     0.9312    0.8338     1.383\n",
       "estadio_2    1.2840     0.7788    0.9975     1.653\n",
       "\n",
       "Concordance= 0.544  (se = 0.015 )\n",
       "Likelihood ratio test= 10.39  on 4 df,   p=0.03\n",
       "Wald test            = 9.6  on 4 df,   p=0.05\n",
       "Score (logrank) test = 9.76  on 4 df,   p=0.04\n"
      ]
     },
     "metadata": {},
     "output_type": "display_data"
    }
   ],
   "source": [
    "summary(fit)"
   ]
  },
  {
   "cell_type": "markdown",
   "metadata": {},
   "source": [
    "Salvo la lógica utilizada para identificar la existencia de riesgos proporcionales, los resultados observados son similares a los encontrados en Stata, aunque algunos coeficientes no resultan ser del todo exactos, lo que puede estar explicado con leves variaciones en la programación de los algoritmos de sobrevida."
   ]
  },
  {
   "cell_type": "code",
   "execution_count": null,
   "metadata": {},
   "outputs": [],
   "source": []
  }
 ],
 "metadata": {
  "kernelspec": {
   "display_name": "R",
   "language": "R",
   "name": "ir"
  },
  "language_info": {
   "codemirror_mode": "r",
   "file_extension": ".r",
   "mimetype": "text/x-r-source",
   "name": "R",
   "pygments_lexer": "r",
   "version": "3.6.1"
  }
 },
 "nbformat": 4,
 "nbformat_minor": 4
}
